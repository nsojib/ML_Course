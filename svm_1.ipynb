{
 "cells": [
  {
   "cell_type": "markdown",
   "metadata": {},
   "source": [
    "### Support Vector Machine\n",
    "\n",
    "support vectors are the vectors help deciding margins"
   ]
  },
  {
   "cell_type": "code",
   "execution_count": 1,
   "metadata": {},
   "outputs": [],
   "source": [
    "import numpy as np\n",
    "import matplotlib.pyplot as plt\n",
    "np.random.seed(6)\n",
    "import math"
   ]
  },
  {
   "cell_type": "code",
   "execution_count": 2,
   "metadata": {},
   "outputs": [],
   "source": [
    "from sklearn.datasets.samples_generator import make_blobs\n",
    "\n",
    "(X,y) =  make_blobs(n_samples=50,n_features=2,centers=2,cluster_std=1.05,random_state=40)\n",
    "#we need to add 1 to X values (we can say its bias)\n",
    "X1 = np.c_[np.ones((X.shape[0])),X]"
   ]
  },
  {
   "cell_type": "code",
   "execution_count": 3,
   "metadata": {},
   "outputs": [
    {
     "name": "stdout",
     "output_type": "stream",
     "text": [
      "[[ 1.          7.12731332 -4.4394424 ]\n",
      " [ 1.          6.68873898 -2.44840134]\n",
      " [ 1.         -1.1004791  -7.78436803]\n",
      " [ 1.          3.99337867 -4.90451269]\n",
      " [ 1.         -1.8171622  -9.22909875]]\n",
      "[1 1 0 1 0 0 1 0 1 0 1 1 0 1 1 1 1 1 1 1 0 0 0 0 0 0 0 0 0 0 1 1 0 0 1 0 1\n",
      " 0 1 1 0 0 1 1 1 0 0 1 1 0]\n"
     ]
    }
   ],
   "source": [
    "print(X1[:5])\n",
    "print(y)"
   ]
  },
  {
   "cell_type": "code",
   "execution_count": 25,
   "metadata": {},
   "outputs": [
    {
     "data": {
      "image/png": "[encoded data removed]",
      "text/plain": [
       "<Figure size 432x288 with 1 Axes>"
      ]
     },
     "metadata": {
      "needs_background": "light"
     },
     "output_type": "display_data"
    }
   ],
   "source": [
    "from sklearn.datasets.samples_generator import make_blobs\n",
    "\n",
    "(X,y) =  make_blobs(n_samples=50,n_features=2,centers=2,cluster_std=1.05,random_state=40)\n",
    "#we need to add 1 to X values (we can say its bias)\n",
    "X1 = np.c_[np.ones((X.shape[0])),X]\n",
    "\n",
    "plt.scatter(X1[:,1],X1[:,2],marker='o',c=y)\n",
    "plt.axis([-5,10,-12,-1])\n",
    "plt.show()"
   ]
  },
  {
   "cell_type": "code",
   "execution_count": 26,
   "metadata": {},
   "outputs": [],
   "source": [
    "# X=X1\n",
    "# print(X[:3])\n",
    "# print(y)"
   ]
  },
  {
   "cell_type": "code",
   "execution_count": 27,
   "metadata": {},
   "outputs": [
    {
     "name": "stdout",
     "output_type": "stream",
     "text": [
      "-1 class datas:\n",
      "[[ -1.1004791   -7.78436803]\n",
      " [ -1.8171622   -9.22909875]\n",
      " [ -2.05521901 -10.23141199]\n",
      " [ -0.21804625  -9.21962706]]\n",
      "1 class datas:\n",
      "[[ 7.12731332 -4.4394424 ]\n",
      " [ 6.68873898 -2.44840134]\n",
      " [ 3.99337867 -4.90451269]\n",
      " [ 4.20397723 -3.61164749]]\n"
     ]
    }
   ],
   "source": [
    "postiveX=[]\n",
    "negativeX=[]\n",
    "for i,v in enumerate(y):\n",
    "    if v==0:\n",
    "        negativeX.append(X[i])\n",
    "    else:\n",
    "        postiveX.append(X[i])\n",
    "\n",
    "#our data dictionary\n",
    "data_dict = {-1:np.array(negativeX), 1:np.array(postiveX)}\n",
    "print('-1 class datas:')\n",
    "print(data_dict[-1][:4])\n",
    "print('1 class datas:')\n",
    "print(data_dict[1][:4])"
   ]
  },
  {
   "cell_type": "code",
   "execution_count": 28,
   "metadata": {},
   "outputs": [
    {
     "name": "stdout",
     "output_type": "stream",
     "text": [
      "-1\n",
      "1\n"
     ]
    }
   ],
   "source": [
    "max_feature_value=float('-inf')\n",
    "min_feature_value=float('+inf')\n",
    "        \n",
    "for yi in data_dict:\n",
    "    print(yi)\n",
    "    if np.amax(data_dict[yi])>max_feature_value:\n",
    "        max_feature_value=np.amax(data_dict[yi])\n",
    "                \n",
    "    if np.amin(data_dict[yi])<min_feature_value:\n",
    "        min_feature_value=np.amin(data_dict[yi])\n",
    "        \n",
    "learning_rate = [max_feature_value * 0.1, max_feature_value * 0.01, max_feature_value * 0.001,]"
   ]
  },
  {
   "cell_type": "code",
   "execution_count": 29,
   "metadata": {},
   "outputs": [
    {
     "name": "stdout",
     "output_type": "stream",
     "text": [
      "[0.809408177937001, 0.08094081779370009, 0.008094081779370009]\n"
     ]
    }
   ],
   "source": [
    "print(learning_rate)"
   ]
  },
  {
   "cell_type": "code",
   "execution_count": 30,
   "metadata": {},
   "outputs": [],
   "source": [
    "#all the required variables \n",
    "w=[] #weights 2 dimensional vector\n",
    "b=[] #bias"
   ]
  },
  {
   "cell_type": "code",
   "execution_count": 31,
   "metadata": {},
   "outputs": [],
   "source": [
    "def SVM_Training(data_dict):\n",
    "    i=1\n",
    "    global w\n",
    "    global b\n",
    "    # { ||w||: [w,b] }\n",
    "    length_Wvector = {}\n",
    "    transforms = [[1,1],[-1,1],[-1,-1],[1,-1]]\n",
    "    \n",
    "    b_step_size = 2\n",
    "    b_multiple = 5\n",
    "    w_optimum = max_feature_value*0.5\n",
    "\n",
    "    for lrate in learning_rate:\n",
    "        \n",
    "        w = np.array([w_optimum,w_optimum])     \n",
    "        optimized = False\n",
    "        while not optimized:\n",
    "            #b=[-maxvalue to maxvalue] we wanna maximize the b values so check for every b value\n",
    "            for b in np.arange(-1*(max_feature_value*b_step_size), max_feature_value*b_step_size, lrate*b_multiple):\n",
    "                for transformation in transforms:  # transforms = [[1,1],[-1,1],[-1,-1],[1,-1]]\n",
    "                    w_t = w*transformation\n",
    "                    \n",
    "                    correctly_classified = True\n",
    "                    \n",
    "                    # every data point should be correct\n",
    "                    for yi in data_dict:\n",
    "                        for xi in data_dict[yi]:\n",
    "                            if yi*(np.dot(w_t,xi)+b) < 1:  # we want  yi*(np.dot(w_t,xi)+b) >= 1 for correct classification\n",
    "                                correctly_classified = False\n",
    "                                \n",
    "                    if correctly_classified:\n",
    "                        length_Wvector[np.linalg.norm(w_t)] = [w_t,b] #store w, b for minimum magnitude\n",
    "            \n",
    "            if w[0] < 0:\n",
    "                optimized = True\n",
    "            else:\n",
    "                w = w - lrate\n",
    "\n",
    "        norms = sorted([n for n in length_Wvector])\n",
    "        \n",
    "        minimum_wlength = length_Wvector[norms[0]]\n",
    "        w = minimum_wlength[0]\n",
    "        b = minimum_wlength[1]\n",
    "        \n",
    "        w_optimum = w[0]+lrate*2"
   ]
  },
  {
   "cell_type": "code",
   "execution_count": 32,
   "metadata": {},
   "outputs": [],
   "source": [
    "SVM_Training(data_dict)"
   ]
  },
  {
   "cell_type": "code",
   "execution_count": 33,
   "metadata": {},
   "outputs": [
    {
     "data": {
      "image/png": "[encoded data removed]",
      "text/plain": [
       "<Figure size 432x288 with 1 Axes>"
      ]
     },
     "metadata": {
      "needs_background": "light"
     },
     "output_type": "display_data"
    }
   ],
   "source": [
    "colors = {1:'r',-1:'b'}\n",
    "fig = plt.figure()\n",
    "ax = fig.add_subplot(1,1,1)"
   ]
  },
  {
   "cell_type": "code",
   "execution_count": 38,
   "metadata": {},
   "outputs": [],
   "source": [
    "def visualize(data_dict):\n",
    "       \n",
    "        \n",
    "#         [[ax.scatter(x[0],x[1],s=100,color=colors[i]) for x in data_dict[i]] for i in data_dict]\n",
    "        \n",
    "        plt.scatter(X1[:,1],X1[:,2],marker='o',c=y)\n",
    "\n",
    "        # hyperplane = x.w+b\n",
    "        # v = x.w+b\n",
    "        # psv = 1\n",
    "        # nsv = -1\n",
    "        # dec = 0\n",
    "        def hyperplane_value(x,w,b,v):\n",
    "            return (-w[0]*x-b+v) / w[1]\n",
    "\n",
    "        datarange = (min_feature_value*0.9,max_feature_value*1.)\n",
    "        hyp_x_min = datarange[0]\n",
    "        hyp_x_max = datarange[1]\n",
    "\n",
    "        # (w.x+b) = 1\n",
    "        # positive support vector hyperplane\n",
    "        psv1 = hyperplane_value(hyp_x_min, w, b, 1)\n",
    "        psv2 = hyperplane_value(hyp_x_max, w, b, 1)\n",
    "        ax.plot([hyp_x_min,hyp_x_max],[psv1,psv2], 'k')\n",
    "\n",
    "        # (w.x+b) = -1\n",
    "        # negative support vector hyperplane\n",
    "        nsv1 = hyperplane_value(hyp_x_min, w, b, -1)\n",
    "        nsv2 = hyperplane_value(hyp_x_max, w, b, -1)\n",
    "        ax.plot([hyp_x_min,hyp_x_max],[nsv1,nsv2], 'k')\n",
    "\n",
    "        # (w.x+b) = 0\n",
    "        # positive support vector hyperplane\n",
    "        db1 = hyperplane_value(hyp_x_min, w, b, 0)\n",
    "        db2 = hyperplane_value(hyp_x_max, w, b, 0)\n",
    "        ax.plot([hyp_x_min,hyp_x_max],[db1,db2], 'y--')\n",
    "        \n",
    "        plt.axis([-5,10,-12,-1])\n",
    "        plt.show()"
   ]
  },
  {
   "cell_type": "code",
   "execution_count": 39,
   "metadata": {},
   "outputs": [
    {
     "data": {
      "image/png": "[encoded data removed]",
      "text/plain": [
       "<Figure size 432x288 with 1 Axes>"
      ]
     },
     "metadata": {
      "needs_background": "light"
     },
     "output_type": "display_data"
    }
   ],
   "source": [
    "visualize(data_dict)"
   ]
  },
  {
   "cell_type": "code",
   "execution_count": null,
   "metadata": {},
   "outputs": [],
   "source": [
    "def predict(features):\n",
    "        # sign( x.w+b )\n",
    "        dot_result = np.sign(np.dot(np.array(features),w)+b)\n",
    "        return dot_result.astype(int)\n",
    "    \n",
    "for i in X[:5]:\n",
    "    print(predict(i),end=',  ')"
   ]
  },
  {
   "cell_type": "code",
   "execution_count": null,
   "metadata": {},
   "outputs": [],
   "source": []
  },
  {
   "cell_type": "code",
   "execution_count": null,
   "metadata": {},
   "outputs": [],
   "source": []
  },
  {
   "cell_type": "code",
   "execution_count": null,
   "metadata": {},
   "outputs": [],
   "source": []
  },
  {
   "cell_type": "markdown",
   "metadata": {},
   "source": [
    "The magnitude or length of a vector x is written ∥x∥  and is called its norm."
   ]
  },
  {
   "cell_type": "markdown",
   "metadata": {},
   "source": [
    "Talking about the dot product x⋅y is the same as talking about\n",
    "\n",
    "the inner product  ⟨x,y⟩ (in linear algebra)"
   ]
  },
  {
   "cell_type": "markdown",
   "metadata": {},
   "source": [
    "f is called the objective function (it is also sometimes called the cost function)"
   ]
  },
  {
   "cell_type": "markdown",
   "metadata": {},
   "source": [
    "#### Distance from a line( Ax+by+c=0) to a point(x0, y0)\n",
    "\n",
    "\n",
    "\\begin{equation*}\n",
    "\\operatorname{distance}(ax+by+c=0, (x_0, y_0)) = \\frac{|ax_0+by_0+c|}{\\sqrt{a^2+b^2}}. \n",
    "\\end{equation*}\n",
    "\n",
    "Hyperplane H0 to H1 distance = 1/||w|| <br>\n",
    "so, H1 to H2 distance = 2/||w||"
   ]
  },
  {
   "cell_type": "code",
   "execution_count": null,
   "metadata": {},
   "outputs": [],
   "source": []
  },
  {
   "cell_type": "code",
   "execution_count": null,
   "metadata": {},
   "outputs": [],
   "source": []
  },
  {
   "cell_type": "code",
   "execution_count": null,
   "metadata": {},
   "outputs": [],
   "source": []
  },
  {
   "cell_type": "markdown",
   "metadata": {},
   "source": [
    "### Refs.\n",
    "1. https://medium.com/deep-math-machine-learning-ai/chapter-3-1-svm-from-scratch-in-python-86f93f853dc\n",
    "2. https://medium.com/deep-math-machine-learning-ai/chapter-3-support-vector-machine-with-math-47d6193c82be\n",
    "3. [nice with basics] https://www.svm-tutorial.com/\n",
    "4. [Lagrange, tv example] https://www.youtube.com/watch?v=ry9cgNx1QV8\n",
    "5. [Lagrange, khan-academy] https://www.khanacademy.org/math/multivariable-calculus/applications-of-multivariable-derivatives/constrained-optimization/a/lagrange-multipliers-examples"
   ]
  },
  {
   "cell_type": "code",
   "execution_count": null,
   "metadata": {},
   "outputs": [],
   "source": []
  }
 ],
 "metadata": {
  "kernelspec": {
   "display_name": "Python 3",
   "language": "python",
   "name": "python3"
  },
  "language_info": {
   "codemirror_mode": {
    "name": "ipython",
    "version": 3
   },
   "file_extension": ".py",
   "mimetype": "text/x-python",
   "name": "python",
   "nbconvert_exporter": "python",
   "pygments_lexer": "ipython3",
   "version": "3.7.0"
  }
 },
 "nbformat": 4,
 "nbformat_minor": 2
}
