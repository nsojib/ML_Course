{
 "cells": [
  {
   "cell_type": "markdown",
   "metadata": {},
   "source": [
    "### Neural Network (Mod Bias)\n",
    "\n",
    "1. FeedForward to predict output\n",
    "2. Backpropagation to train the network to adjust weights with the help of error function"
   ]
  },
  {
   "cell_type": "code",
   "execution_count": 2,
   "metadata": {},
   "outputs": [],
   "source": [
    "import numpy as np\n",
    "import matplotlib.pyplot as plt"
   ]
  },
  {
   "cell_type": "code",
   "execution_count": 3,
   "metadata": {},
   "outputs": [],
   "source": [
    "np.random.seed(10)"
   ]
  },
  {
   "cell_type": "markdown",
   "metadata": {},
   "source": [
    "#### XOR Problem. Nonlinearity\n",
    "<b>Perceptron or other linear classifier can't solve XOR problem. So, we need to devise new strategy. Here the Neural Network comes as rescue."
   ]
  },
  {
   "cell_type": "code",
   "execution_count": 4,
   "metadata": {},
   "outputs": [
    {
     "name": "stdout",
     "output_type": "stream",
     "text": [
      "[[0 0]\n",
      " [0 1]\n",
      " [1 0]\n",
      " [1 1]]\n",
      "[0 1 1 0]\n"
     ]
    }
   ],
   "source": [
    "X=np.array([ [0,0],[0,1], [1,0], [1,1] ])\n",
    "y=np.array([0,1,1,0])\n",
    "print(X)\n",
    "print(y)"
   ]
  },
  {
   "cell_type": "code",
   "execution_count": 5,
   "metadata": {},
   "outputs": [
    {
     "data": {
      "image/png": "[encoded data removed]",
      "text/plain": [
       "<Figure size 432x288 with 1 Axes>"
      ]
     },
     "metadata": {
      "needs_background": "light"
     },
     "output_type": "display_data"
    }
   ],
   "source": [
    "plt.scatter(X[:,0],X[:,1],marker='o', c=y) \n",
    "plt.xlim(-1,2)\n",
    "plt.ylim(-1,2)\n",
    "plt.show()"
   ]
  },
  {
   "cell_type": "markdown",
   "metadata": {},
   "source": [
    "### Neural Network with one hidden layer\n",
    "<img src='imgs/myann.png'>"
   ]
  },
  {
   "cell_type": "markdown",
   "metadata": {},
   "source": [
    "#### Derivative of sigmoid\n",
    "$$\n",
    "\\begin{equation}\n",
    "\\sigma(x)=\\frac{1}{1+e^{-x} }  \\\\\n",
    "{\\bf \\frac{d\\sigma(x)}{dx}=\\frac{ d(1+e^{-x} )^{-1} }{dx} }\\\\\n",
    "=-1(1+e^{-x} )^{-2}  \\frac{de^{-x}}{dx}=-1(1+e^{-x} )^{-2} e^{-x} (-1)=(1+e^{-x} )^{-2} e^{-x}=\\frac{e^{-x}}{(1+e^{-x} )^2} =\\frac{e^{-x}}{(1+e^{-x} )(1+e^{-x} )}=  \\frac{ 1}{1+e^{-x}}  \\frac{ e^{-x}+1-1}{1+e^{-x}}\n",
    "=\\frac{1}{1+e^{-x}  } (\\frac{(1+e^{-x})}{(1+e^{-x} }-   \\frac{1}{1+e^{-x}} )=\\frac{1}{1+e^{-x}} (1-   \\frac{1}{1+e^{-x} })\n",
    "\\\\= {\\bf \\sigma(x)(1-\\sigma(x)) }\\\\\n",
    "so, {\\bf \\frac{d\\sigma(x)}{dx}= y(1-y)} ,where\\space {\\bf y=\\sigma(x) }\n",
    "\\end{equation}\n",
    "$$"
   ]
  },
  {
   "cell_type": "markdown",
   "metadata": {},
   "source": [
    "### Feed Forward\n",
    "$$\n",
    "\\begin{equation}\n",
    "z0=W[0][0].X[0]+W[0][1].X[1]+W[0][2].X[2] \\\\\n",
    "h[1]=sigmoid(z0) \\\\\n",
    "z1=W[1][0].X[0]+W[1][1].X[1]+W[1][2].X[2] \\\\\n",
    "h[2]=sigmoid(z1) \\\\\n",
    "z2=W2[0].h[0] +W2[1].h[1] +W2[2].h[2]   \\\\\n",
    "y=sigmoid(z2)\n",
    "\\end{equation}\n",
    "$$"
   ]
  },
  {
   "cell_type": "markdown",
   "metadata": {},
   "source": [
    "#### Neural Network Details\n",
    "<img src='imgs/myann2.png'>"
   ]
  },
  {
   "cell_type": "markdown",
   "metadata": {},
   "source": [
    "### Backpropagation"
   ]
  },
  {
   "cell_type": "markdown",
   "metadata": {},
   "source": [
    "#### W2 Gradient\n",
    "$$\n",
    "\\begin{equation}\n",
    "Error=(y-y\\_actual )^2  =( \\space {\\bf sigmoid(z2)}-y\\_actual )^2 \n",
    "=( \\space sigmoid {\\bf ( \\space W2[0].h[0] +W2[1].h[1] +W2[2].h[2] \\space) }  -y\\_actual )^2 \\\\\n",
    "Using \\space chain \\space rule,\n",
    "{\\bf \\frac{\\partial Error}{\\partial W2[0]}=\\frac{\\partial Error}{\\partial y} * \\frac{\\partial y}{\\partial z2}* \\frac{\\partial z2}{\\partial W2[0]} }\n",
    "\\end{equation}\n",
    "$$"
   ]
  },
  {
   "cell_type": "markdown",
   "metadata": {},
   "source": [
    "Now,\n",
    "$$\n",
    "\\begin{equation}\n",
    "\\frac{\\partial z2}{\\partial W2[0]}=h[0] \\\\\n",
    " \\frac{\\partial y}{\\partial z2}=sigmoid\\_derivative(z2) ={\\bf sigmoid\\_derivative(y) }  \\quad where \\space y=sigmoid(z2)\\\\\n",
    "And, \\frac{\\partial Error}{\\partial y}=2(y-y\\_actual) \\\\\n",
    "{\\bf So,}\\\\\n",
    "\\frac{\\partial Error}{\\partial W2[{\\bf0}]}=2(y-y\\_actual)*sigmoid\\_derivative(y)*h[{\\bf0}] \\\\\n",
    "Similarly, \\\\ \n",
    "\\frac{\\partial Error}{\\partial W2[{\\bf1}]}=2(y-y\\_actual)*sigmoid\\_derivative(y)*h[{\\bf1}] \\\\\n",
    "\\frac{\\partial Error}{\\partial W2[{\\bf2}]}=2(y-y\\_actual)*sigmoid\\_derivative(y)*h[{\\bf2}] \\\\\n",
    "By \\space Combining \\space these, \\\\\n",
    "{\\bf \\frac{\\partial Error}{\\partial W2}=2(y-y\\_actual )*sigmoid\\_derivative(y)*h }\n",
    "\\end{equation}\n",
    "$$"
   ]
  },
  {
   "cell_type": "markdown",
   "metadata": {},
   "source": [
    "#### W1 Gradient for the hidden neurons.\n",
    "$$\n",
    "\\begin{equation}\n",
    "Error=(y-y\\_actual )^2  \n",
    "=( {\\bf sigmoid(z2)}-y\\_actual )^2 \n",
    "=(sigmoid( \\space {\\bf W2[0].h[0] +W2[1].h[1] +W2[2].h[2] } \\space)-y\\_actual )^2 \\\\\n",
    "=(sigmoid(W2[0].{\\bf 1} +W2[1].{\\bf sigmoid(z0)} +W2[2].{\\bf sigmoid(z1)})-y\\_actual )^2 \\\\\n",
    "=(sigmoid(W2[0].1 +W2[1].sigmoid {\\bf (W[0][0].X[0]+W[0][1].X[1]+W[0][2].X[2]) } +W2[2].sigmoid({\\bf W[1][0].X[0]+W[1][1].X[1]+W[1][2].X[2]) })-y\\_actual )^2 \\\\\n",
    "Using \\space chain \\space rule,\n",
    "{\\bf \\frac{\\partial Error}{\\partial W[0][0]}=\\frac{\\partial Error}{\\partial y} * \\frac{\\partial y}{\\partial z2}*\\frac{\\partial z2}{\\partial h[1]}*\\frac{\\partial h[1]}{\\partial z0}*\\frac{\\partial z0}{\\partial W[0][0]} }\n",
    "\\end{equation}\n",
    "$$"
   ]
  },
  {
   "cell_type": "markdown",
   "metadata": {},
   "source": [
    "Now,\n",
    "$$\n",
    "\\begin{equation}\n",
    "\\frac{\\partial z0}{\\partial W[0][0]}=X[0]\\\\\n",
    "\\frac{\\partial h[1]}{\\partial z0}=sigmoid\\_derivative(z0)={\\bf sigmoid\\_derivative(h[1]) }  \\quad where \\space h[1]=sigmoid(z0)  \\\\\n",
    "\\frac{\\partial z2}{\\partial h[1]}=W2[1] \\\\\n",
    "\\frac{\\partial y}{\\partial z2}=sigmoid\\_derivative(z2)={\\bf sigmoid\\_derivative(y) } \\quad where \\space y=sigmoid(z2)\\\\\n",
    "\\frac{\\partial Error}{\\partial y}=2(y-y\\_actual ) \\\\\n",
    "So, \\\\\n",
    "\\frac{\\partial Error}{\\partial W[0][0]} =2(y-y\\_actual )*sigmoid\\_derivative(y)*W2[1]*sigmoid\\_derivative(h[1]) *X[0] \\\\\n",
    "Similarly, \\\\\n",
    "\\frac{\\partial Error}{\\partial W[0][{\\bf 1}]}=2(y-y\\_actual )*sigmoid\\_derivative(y)*W2[1]*sigmoid\\_derivative(h[1]) *X[{\\bf 1}] \\\\\n",
    "\\frac{\\partial Error}{\\partial W[0][{\\bf 2}]}=2(y-y\\_actual )*sigmoid\\_derivative(y)*W2[1]*sigmoid\\_derivative(h[1]) *X[{\\bf 2}] \\\\\n",
    "Combining \\space these, \\\\\n",
    "for \\space the \\space first \\space neuron, \\frac{\\partial Error}{\\partial W[0]} =2(y-y\\_actual )*sigmoid\\_derivative(y)*W2[1]*sigmoid\\_derivative(h1) *X \\\\\n",
    "Similarly, \\\\for \\space the \\space second \\space neuron,\n",
    "\\frac{\\partial Error}{\\partial W[{\\bf 1}]} =2(y-y\\_actual )*sigmoid\\_derivative(y)*W2[{\\bf 2}]*sigmoid\\_derivative(h2) *X\n",
    "\\end{equation}\n",
    "$$"
   ]
  },
  {
   "cell_type": "markdown",
   "metadata": {},
   "source": [
    "### Update weights\n",
    "w2=w2+w2_derivative <br>\n",
    "w=w+w_derivative"
   ]
  },
  {
   "cell_type": "markdown",
   "metadata": {},
   "source": [
    "### Codes"
   ]
  },
  {
   "cell_type": "code",
   "execution_count": 6,
   "metadata": {},
   "outputs": [],
   "source": [
    "def sigmoid(s):\n",
    "    return 1/(1+np.exp(-s))\n",
    "\n",
    "def sigmoid_derivative(y):\n",
    "    return y * (1 - y)"
   ]
  },
  {
   "cell_type": "code",
   "execution_count": 7,
   "metadata": {},
   "outputs": [],
   "source": [
    "def feed_forward(X, w1, w2):\n",
    "    z=np.dot( X, w1.T)\n",
    "    h = sigmoid(z)   \n",
    "    h = np.column_stack((np.ones(len(h)), h))\n",
    "    z2=np.dot( h, w2.T)\n",
    "    output = sigmoid(z2)\n",
    "    return output, h"
   ]
  },
  {
   "cell_type": "code",
   "execution_count": 8,
   "metadata": {},
   "outputs": [],
   "source": [
    "#Derivative with respect to w2\n",
    "def dw2(y,o,h):\n",
    "    tw2d=0\n",
    "    for i in range( len(y)):\n",
    "        w2d=2*(y[i] - o[i])*sigmoid_derivative(o[i])*h[i]\n",
    "        tw2d+=w2d\n",
    "    return tw2d"
   ]
  },
  {
   "cell_type": "code",
   "execution_count": 9,
   "metadata": {},
   "outputs": [],
   "source": [
    "def w1d_for_singleneuron(neuron_i, y,o,W2, h,X):\n",
    "    sd=0\n",
    "    for i in range( len(y)):\n",
    "        d=2*(y[i] - o[i])*sigmoid_derivative(o[i])*W2[neuron_i+1]*sigmoid_derivative(h[i][neuron_i+1])*X[i]\n",
    "        sd+=d\n",
    "    return sd\n",
    "def dw1(y,o,h,W2,X):\n",
    "    w1dm=[]\n",
    "    for j in range(hiddenSize):\n",
    "        w1dd=w1d_for_singleneuron(j, y,o,W2, h,X)\n",
    "        w1dm.append(w1dd)\n",
    "    w1dm=np.array(w1dm)\n",
    "    return w1dm"
   ]
  },
  {
   "cell_type": "code",
   "execution_count": 10,
   "metadata": {},
   "outputs": [
    {
     "name": "stdout",
     "output_type": "stream",
     "text": [
      "[[0. 0.]\n",
      " [0. 1.]\n",
      " [1. 0.]\n",
      " [1. 1.]]\n",
      "[0 1 1 0]\n"
     ]
    }
   ],
   "source": [
    "X = np.array(([0, 0], [0, 1], [1, 0], [1,1]), dtype=float)\n",
    "y=np.array([0,1,1,0]) \n",
    "print(X)\n",
    "print(y)"
   ]
  },
  {
   "cell_type": "code",
   "execution_count": 11,
   "metadata": {},
   "outputs": [
    {
     "data": {
      "text/plain": [
       "4"
      ]
     },
     "execution_count": 11,
     "metadata": {},
     "output_type": "execute_result"
    }
   ],
   "source": [
    "len(y)"
   ]
  },
  {
   "cell_type": "code",
   "execution_count": 12,
   "metadata": {},
   "outputs": [
    {
     "name": "stdout",
     "output_type": "stream",
     "text": [
      "10\n",
      "[[ 5  6]\n",
      " [20 30]]\n",
      "[[0. 0.]\n",
      " [0. 1.]\n",
      " [1. 0.]\n",
      " [1. 1.]]\n"
     ]
    }
   ],
   "source": [
    "b1=10\n",
    "w1=[[5,6],\n",
    " [20,30]]\n",
    "w1=np.array(w1)\n",
    "print(b1)\n",
    "print(w1)\n",
    "print(X)"
   ]
  },
  {
   "cell_type": "code",
   "execution_count": 76,
   "metadata": {},
   "outputs": [],
   "source": [
    "#B is seperated.\n",
    "def w1d_for_singleneuron2(neuron_i, y,o,W2, h,X):\n",
    "    sd=0\n",
    "    for i in range( len(y)):\n",
    "        d=(y[i] - o[i])*sigmoid_derivative(o[i])*W2[neuron_i]*sigmoid_derivative(h[i][neuron_i])*X[i]\n",
    "        sd+=d\n",
    "    return sd/len(y)\n",
    "\n",
    "def dw12(y,o,h,W2,X):\n",
    "    w1dm=[]\n",
    "    for j in range(hiddenSize):\n",
    "        w1dd=w1d_for_singleneuron2(j, y,o,W2, h,X)\n",
    "        w1dm.append(w1dd)\n",
    "    w1dm=np.array(w1dm)\n",
    "    return w1dm "
   ]
  },
  {
   "cell_type": "code",
   "execution_count": 77,
   "metadata": {},
   "outputs": [],
   "source": [
    "#B is seperated.\n",
    "def db12(y,o,h,W2, X):\n",
    "    sd=0\n",
    "    neuron_i=0\n",
    "    for i in range( len(y)):\n",
    "        d=(y[i] - o[i])*sigmoid_derivative(o[i])*W2[neuron_i]*sigmoid_derivative(h[i][neuron_i])\n",
    "        sd+=d\n",
    "    return sd"
   ]
  },
  {
   "cell_type": "code",
   "execution_count": null,
   "metadata": {},
   "outputs": [],
   "source": []
  },
  {
   "cell_type": "code",
   "execution_count": 78,
   "metadata": {},
   "outputs": [],
   "source": [
    "#Derivative with respect to w2, b is seperated.\n",
    "def dw22(y,o,h):\n",
    "    tw2d=0\n",
    "    for i in range( len(y)):\n",
    "        w2d=(y[i] - o[i])*sigmoid_derivative(o[i])*h[i]\n",
    "        tw2d+=w2d\n",
    "    return tw2d"
   ]
  },
  {
   "cell_type": "code",
   "execution_count": 79,
   "metadata": {},
   "outputs": [],
   "source": [
    "#Derivative with respect to  b  \n",
    "def dw2b(y,o,h):\n",
    "    tw2d=0\n",
    "    for i in range( len(y)):\n",
    "        w2d=(y[i] - o[i])*sigmoid_derivative(o[i])\n",
    "        tw2d+=w2d\n",
    "    return tw2d"
   ]
  },
  {
   "cell_type": "code",
   "execution_count": 80,
   "metadata": {},
   "outputs": [],
   "source": [
    "def ff(X, b1, w1, b2, w2):\n",
    "    z=np.dot( X , w1.T)+b1\n",
    "    # print(z)\n",
    "    h = sigmoid( z) \n",
    "    # print(h)\n",
    "    z2=np.dot( h, w2.T)+b2\n",
    "    yt = sigmoid(z2)\n",
    "    return h, yt"
   ]
  },
  {
   "cell_type": "code",
   "execution_count": 81,
   "metadata": {},
   "outputs": [
    {
     "name": "stdout",
     "output_type": "stream",
     "text": [
      "2.2250496388231946\n",
      "[[ 0.11718142  0.24461452]\n",
      " [-0.17729882 -0.40572953]]\n",
      "0.781775190375615\n",
      "[ 0.35347761 -0.20727949]\n"
     ]
    }
   ],
   "source": [
    "inputSize = 2\n",
    "outputSize = 1\n",
    "hiddenSize = 2\n",
    "# hiddenSize = 3\n",
    "b1=np.random.randn()\n",
    "w1 = np.random.randn(hiddenSize, inputSize )    \n",
    "b2=np.random.randn()\n",
    "w2 = np.random.randn(outputSize,hiddenSize )[0]  \n",
    "print(b1)\n",
    "print(w1)\n",
    "print(b2)\n",
    "print(w2)"
   ]
  },
  {
   "cell_type": "code",
   "execution_count": null,
   "metadata": {},
   "outputs": [],
   "source": []
  },
  {
   "cell_type": "code",
   "execution_count": 82,
   "metadata": {},
   "outputs": [
    {
     "name": "stdout",
     "output_type": "stream",
     "text": [
      "[0.71375988 0.71693657 0.71517787 0.71846338]\n"
     ]
    }
   ],
   "source": [
    "h, yt=ff(X, b1, w1, b2, w2)\n",
    "print(yt)"
   ]
  },
  {
   "cell_type": "code",
   "execution_count": 83,
   "metadata": {},
   "outputs": [
    {
     "name": "stdout",
     "output_type": "stream",
     "text": [
      "[-0.16086579 -0.15254262]\n",
      "-0.17568990957068675\n"
     ]
    }
   ],
   "source": [
    "dw2=dw22(y, yt, h)\n",
    "db2=dw2b(y,yt,h)\n",
    "print(dw2)\n",
    "print(db2)"
   ]
  },
  {
   "cell_type": "code",
   "execution_count": 84,
   "metadata": {},
   "outputs": [
    {
     "name": "stdout",
     "output_type": "stream",
     "text": [
      "[[-0.00042579 -0.00047081]\n",
      " [ 0.000719    0.00066595]]\n",
      "-0.004779367532742119\n"
     ]
    }
   ],
   "source": [
    "dw1=dw12(y, yt, h,w2,X)\n",
    "print(dw1)\n",
    "db1=db12(y, yt, h,w2,X)\n",
    "print(db1)"
   ]
  },
  {
   "cell_type": "code",
   "execution_count": 85,
   "metadata": {},
   "outputs": [],
   "source": [
    "# b1=10\n"
   ]
  },
  {
   "cell_type": "code",
   "execution_count": 86,
   "metadata": {},
   "outputs": [
    {
     "name": "stdout",
     "output_type": "stream",
     "text": [
      "[[ 0.          0.        ]\n",
      " [ 0.24461452 -0.40572953]\n",
      " [ 0.11718142 -0.17729882]\n",
      " [ 0.36179594 -0.58302835]]\n"
     ]
    }
   ],
   "source": [
    "z=np.dot( X, w1.T)\n",
    "# h = sigmoid( z)   \n",
    "print(z)\n",
    "# z2=np.dot( h, w2.T)\n",
    "# output = sigmoid(z2)"
   ]
  },
  {
   "cell_type": "code",
   "execution_count": null,
   "metadata": {},
   "outputs": [],
   "source": []
  },
  {
   "cell_type": "code",
   "execution_count": 133,
   "metadata": {},
   "outputs": [
    {
     "name": "stdout",
     "output_type": "stream",
     "text": [
      "Initial: \n",
      "w1= [[0.63934039 0.16769631]\n",
      " [0.9246826  0.71733995]]\n",
      "b1= 0.4846799030422758\n",
      "\n",
      "w2= [0.72363361 0.18640993]\n",
      "b2= 0.15481361149816686\n",
      "---------\n",
      "[0.06316594 0.94609759 0.94613393 0.0527658 ]\n"
     ]
    }
   ],
   "source": [
    "lr=1\n",
    "nepoch=1500\n",
    "errors=[]\n",
    "\n",
    "inputSize = 2\n",
    "outputSize = 1\n",
    "hiddenSize = 2\n",
    "\n",
    "b1=np.random.rand()\n",
    "w1 = np.random.rand(hiddenSize, inputSize )    \n",
    "b2=np.random.rand()\n",
    "w2 = np.random.rand(outputSize,hiddenSize )[0]  \n",
    "\n",
    "print('Initial: ')\n",
    "print('w1=',w1)\n",
    "print('b1=',b1)\n",
    "print('')\n",
    "print('w2=',w2)\n",
    "print('b2=',b2)\n",
    "print('---------')\n",
    "\n",
    "for i in range(nepoch): \n",
    "    h, yt=ff(X, b1, w1, b2, w2)\n",
    "    dw2=dw22(y, yt, h)\n",
    "    db2=dw2b(y,yt,h)\n",
    "    dw1=dw12(y, yt, h,w2,X) \n",
    "    db1=db12(y, yt, h,w2,X)\n",
    "\n",
    "    w1 +=  lr * dw1\n",
    "    b1 += lr* db1\n",
    "    w2 += lr * dw2\n",
    "    b2 +=lr* db2\n",
    "    error=np.sum(np.square(y - yt))\n",
    "    errors.append(error)\n",
    "\n",
    "h, o=ff(X, b1, w1, b2, w2)\n",
    "print(o)"
   ]
  },
  {
   "cell_type": "code",
   "execution_count": 88,
   "metadata": {},
   "outputs": [
    {
     "name": "stdout",
     "output_type": "stream",
     "text": [
      "w1= [[ 2.24248171 -2.13473321]\n",
      " [ 1.64968879  1.02252318]]\n",
      "b1= -2.431133508216512\n",
      "\n",
      "w2= [ 3.84748316 -1.31800208]\n",
      "b2= -0.2801864104200352\n"
     ]
    }
   ],
   "source": [
    "print('w1=',w1)\n",
    "print('b1=',b1)\n",
    "print('')\n",
    "print('w2=',w2)\n",
    "print('b2=',b2)"
   ]
  },
  {
   "cell_type": "markdown",
   "metadata": {},
   "source": [
    "#### This output is close to the original output. So, it correctly classified all the data."
   ]
  },
  {
   "cell_type": "code",
   "execution_count": 59,
   "metadata": {},
   "outputs": [
    {
     "data": {
      "image/png": "[encoded data removed]",
      "text/plain": [
       "<Figure size 432x288 with 1 Axes>"
      ]
     },
     "metadata": {
      "needs_background": "light"
     },
     "output_type": "display_data"
    }
   ],
   "source": [
    "#Plotting the cost\n",
    "npt=nepoch\n",
    "plt.plot(errors)\n",
    "plt.title('error over epoch')\n",
    "plt.show()"
   ]
  },
  {
   "cell_type": "markdown",
   "metadata": {},
   "source": [
    "### Mystery"
   ]
  },
  {
   "cell_type": "code",
   "execution_count": null,
   "metadata": {},
   "outputs": [],
   "source": [
    "case 1:\n",
    "Initial: \n",
    "w1= [[0.55259803 0.08046362]\n",
    " [0.59427557 0.28092147]]\n",
    "b1= 0.3723685794123146\n",
    "\n",
    "w2= [0.2988272  0.75753668]\n",
    "b2= 0.7424475863144008\n",
    "---------\n",
    "[0.32722794 0.83114242 0.37337823 0.40922164]\n",
    "\n",
    "case 2:\n",
    "Initial: \n",
    "w1= [[0.00440764 0.13978028]\n",
    " [0.2957637  0.19559382]]\n",
    "b1= 0.22636013801884003\n",
    "\n",
    "w2= [0.20999217 0.77849217]\n",
    "b2= 0.5488820378428916\n",
    "---------\n",
    "[0.21219857 0.6682022  0.67064683 0.43102805]\n",
    "\n",
    "case 3: good\n",
    "Initial: \n",
    "w1= [[0.63934039 0.16769631]\n",
    " [0.9246826  0.71733995]]\n",
    "b1= 0.4846799030422758\n",
    "\n",
    "w2= [0.72363361 0.18640993]\n",
    "b2= 0.15481361149816686\n",
    "---------\n",
    "[0.06316594 0.94609759 0.94613393 0.0527658 ]"
   ]
  },
  {
   "cell_type": "markdown",
   "metadata": {},
   "source": [
    "#### Testing Functions"
   ]
  },
  {
   "cell_type": "code",
   "execution_count": null,
   "metadata": {},
   "outputs": [],
   "source": [
    "'''\n",
    "w1= [[-5.1823705   4.83930104]\n",
    " [ 4.66767639 -4.69681533]]\n",
    "b1= -2.734663644998429\n",
    "\n",
    "w2= [6.48497777 6.59920965]\n",
    "b2= -3.2092689602313484\n",
    "'''"
   ]
  },
  {
   "cell_type": "code",
   "execution_count": 16,
   "metadata": {},
   "outputs": [
    {
     "name": "stdout",
     "output_type": "stream",
     "text": [
      "[[ 3.00419111  5.93471511 -5.86644092]\n",
      " [-2.81706786  5.20339847 -5.43320379]]\n",
      "[ 3.83841425 -8.23903353  8.70811673]\n"
     ]
    }
   ],
   "source": [
    "print(w1)\n",
    "print(w2)"
   ]
  },
  {
   "cell_type": "code",
   "execution_count": 17,
   "metadata": {},
   "outputs": [
    {
     "name": "stdout",
     "output_type": "stream",
     "text": [
      "[[ 2.1  0.7  0.7]\n",
      " [ 2.  -5.   6.4]\n",
      " [ 2.5  6.2 -5.8]]\n",
      "[ 7.5  6.5 -7.8 -8. ]\n"
     ]
    }
   ],
   "source": [
    "#3 hidden.\n",
    "sw1=[[ 2.7 , 0.8 , 0.7],\n",
    " [ 3 , -6 , 6.4],\n",
    " [ 3 , 6.6 ,-6.3]]\n",
    "\n",
    "sw1=[[ 2.1 , 0.7 , 0.7],\n",
    " [ 2 , -5 , 6.4],\n",
    " [ 2.5 , 6.2 ,-5.8]]\n",
    "\n",
    "\n",
    "sw1=np.array(sw1)\n",
    "print(sw1)\n",
    "\n",
    "sw2=np.array([ 7.5 , 6.5 , -7.8 , -8.0])\n",
    "print(sw2)"
   ]
  },
  {
   "cell_type": "code",
   "execution_count": 18,
   "metadata": {},
   "outputs": [],
   "source": [
    "w1=sw1\n",
    "w2=sw2"
   ]
  },
  {
   "cell_type": "markdown",
   "metadata": {},
   "source": [
    "#### Two Hidden experiment"
   ]
  },
  {
   "cell_type": "code",
   "execution_count": 19,
   "metadata": {},
   "outputs": [
    {
     "name": "stdout",
     "output_type": "stream",
     "text": [
      "[[-2.8  6.3  6.3]\n",
      " [-7.2  4.7  4.7]]\n",
      "[ -4.5   9.6 -10.2]\n"
     ]
    }
   ],
   "source": [
    "#two hidden.\n",
    "aw1=[[-2.8  , 6.3 , 6.3],\n",
    " [-7.2 , 4.7 , 4.7]]\n",
    "aw1=np.array(aw1)\n",
    "aw2=np.array([ -4.5  , 9.6 , -10.2 ])\n",
    "print(aw1)\n",
    "print(aw2)"
   ]
  },
  {
   "cell_type": "code",
   "execution_count": 46,
   "metadata": {},
   "outputs": [],
   "source": [
    "aw1=[[2.7  , 0.8 ,  0.7],\n",
    " [3 , -6 , 6.5],\n",
    "[3 ,6.6 , -6.3]]\n",
    "a=np.array(aw1)"
   ]
  },
  {
   "cell_type": "code",
   "execution_count": 47,
   "metadata": {},
   "outputs": [],
   "source": [
    "x=[ [1,0,0], [1,0,1], [1,1,0], [1,1,1]]\n",
    "x=np.array(x)"
   ]
  },
  {
   "cell_type": "code",
   "execution_count": 52,
   "metadata": {},
   "outputs": [
    {
     "name": "stdout",
     "output_type": "stream",
     "text": [
      "[ 5.7 -5.2  7.2]\n"
     ]
    }
   ],
   "source": [
    "h=np.dot(x[2], a)\n",
    "print(h)"
   ]
  },
  {
   "cell_type": "code",
   "execution_count": 53,
   "metadata": {},
   "outputs": [
    {
     "data": {
      "text/plain": [
       "array([0.99666519, 0.0054863 , 0.99925397])"
      ]
     },
     "execution_count": 53,
     "metadata": {},
     "output_type": "execute_result"
    }
   ],
   "source": [
    "sigmoid(h)"
   ]
  },
  {
   "cell_type": "code",
   "execution_count": 56,
   "metadata": {},
   "outputs": [],
   "source": [
    "aw2=[ 6.40, -8.8, -8.8]\n",
    "w2=np.array(aw2)"
   ]
  },
  {
   "cell_type": "code",
   "execution_count": 58,
   "metadata": {},
   "outputs": [
    {
     "name": "stdout",
     "output_type": "stream",
     "text": [
      "26.180000000000003\n"
     ]
    }
   ],
   "source": [
    "s=np.dot(h,w2)+7.3\n",
    "print(s)"
   ]
  },
  {
   "cell_type": "code",
   "execution_count": 59,
   "metadata": {},
   "outputs": [
    {
     "data": {
      "text/plain": [
       "0.9999999999957325"
      ]
     },
     "execution_count": 59,
     "metadata": {},
     "output_type": "execute_result"
    }
   ],
   "source": [
    "sigmoid(s)"
   ]
  },
  {
   "cell_type": "code",
   "execution_count": 20,
   "metadata": {},
   "outputs": [],
   "source": [
    "# #two hidden.\n",
    "# aw1=[[2.7  , 0.8 , 0.7],\n",
    "#  [3 , -6 , 6.4]]\n",
    "# aw1=np.array(aw1)\n",
    "# aw2=np.array([ 7.3, 6, -8.8 ])\n",
    "# print(aw1)\n",
    "# print(aw2)"
   ]
  },
  {
   "cell_type": "code",
   "execution_count": 21,
   "metadata": {},
   "outputs": [
    {
     "name": "stdout",
     "output_type": "stream",
     "text": [
      "[[ 2.1  0.7  0.7]\n",
      " [ 2.  -5.   6.4]\n",
      " [ 2.5  6.2 -5.8]]\n",
      "[ 7.5  6.5 -7.8 -8. ]\n"
     ]
    }
   ],
   "source": [
    "# w1=aw1\n",
    "# w2=aw2\n",
    "print(w1)\n",
    "print(w2)"
   ]
  },
  {
   "cell_type": "code",
   "execution_count": 22,
   "metadata": {},
   "outputs": [
    {
     "name": "stdout",
     "output_type": "stream",
     "text": [
      "[0.27438624 0.99610662 0.99482539 0.21058607]\n",
      "[1.         0.94267582 0.04742587 0.99983344]\n"
     ]
    }
   ],
   "source": [
    "o,h=feed_forward(X,w1,w2)\n",
    "print(o)\n",
    "print(h[2])"
   ]
  },
  {
   "cell_type": "markdown",
   "metadata": {},
   "source": [
    "#### Calculating derivative with respect to output /hidden neuron weights for a single prediction."
   ]
  },
  {
   "cell_type": "code",
   "execution_count": 23,
   "metadata": {},
   "outputs": [
    {
     "name": "stdout",
     "output_type": "stream",
     "text": [
      "5.327603405961986e-05 5.022202931199209e-05 2.52666243471526e-06\n"
     ]
    }
   ],
   "source": [
    "#with respect to output neuron\n",
    "i=2\n",
    "k=2*(y[i] - o[i])*sigmoid_derivative(o[i])*h[i]\n",
    "print(k[0], k[1], k[2])"
   ]
  },
  {
   "cell_type": "code",
   "execution_count": 24,
   "metadata": {},
   "outputs": [
    {
     "name": "stdout",
     "output_type": "stream",
     "text": [
      "val=0.0000025\n"
     ]
    }
   ],
   "source": [
    "print('val=%.7f'%k[2])"
   ]
  },
  {
   "cell_type": "code",
   "execution_count": 25,
   "metadata": {},
   "outputs": [
    {
     "name": "stdout",
     "output_type": "stream",
     "text": [
      "[1.87130869e-05 1.87130869e-05 0.00000000e+00]\n"
     ]
    }
   ],
   "source": [
    "#with respect to first hidden neuron.\n",
    "neuron_i=0\n",
    "hk=2*(y[i] - o[i])*sigmoid_derivative(o[i])*w2[neuron_i+1]*sigmoid_derivative(h[i][neuron_i+1])*X[i]\n",
    "print(hk)"
   ]
  },
  {
   "cell_type": "code",
   "execution_count": 26,
   "metadata": {},
   "outputs": [
    {
     "name": "stdout",
     "output_type": "stream",
     "text": [
      "[-1.87732994e-05 -1.87732994e-05 -0.00000000e+00]\n"
     ]
    }
   ],
   "source": [
    "#with respect to second hidden neuron.\n",
    "neuron_i=1\n",
    "hk=2*(y[i] - o[i])*sigmoid_derivative(o[i])*w2[neuron_i+1]*sigmoid_derivative(h[i][neuron_i+1])*X[i]\n",
    "print(hk)"
   ]
  },
  {
   "cell_type": "markdown",
   "metadata": {},
   "source": [
    "#### Finding average derivative"
   ]
  },
  {
   "cell_type": "code",
   "execution_count": 27,
   "metadata": {},
   "outputs": [
    {
     "name": "stdout",
     "output_type": "stream",
     "text": [
      "[-0.17919174 -0.16522433 -0.16395724 -0.16728107]\n",
      "[[-0.08194621 -0.01293028 -0.01293838]\n",
      " [ 0.10652706  0.01704885  0.01706757]]\n"
     ]
    }
   ],
   "source": [
    "w2_d=dw2(y,o,h)\n",
    "w1_d=dw1(y,o,h,w2,X)\n",
    "print(w2_d)\n",
    "print(w1_d)"
   ]
  },
  {
   "cell_type": "code",
   "execution_count": 28,
   "metadata": {},
   "outputs": [
    {
     "name": "stdout",
     "output_type": "stream",
     "text": [
      "[ 7.32080826  6.33477567 -7.96395724 -8.16728107]\n"
     ]
    }
   ],
   "source": [
    "#Update.\n",
    "w2=w2+w2_d\n",
    "print(w2)"
   ]
  },
  {
   "cell_type": "code",
   "execution_count": 29,
   "metadata": {},
   "outputs": [
    {
     "name": "stdout",
     "output_type": "stream",
     "text": [
      "Loss: \n",
      "0.02991905909390011\n"
     ]
    }
   ],
   "source": [
    "print(\"Loss: \\n\" + str(np.mean(np.square(y - o))) ) # mean sum squared loss"
   ]
  },
  {
   "cell_type": "markdown",
   "metadata": {},
   "source": [
    "#### Function Check"
   ]
  },
  {
   "cell_type": "code",
   "execution_count": 30,
   "metadata": {},
   "outputs": [
    {
     "data": {
      "text/plain": [
       "0.5001865071998498"
      ]
     },
     "execution_count": 30,
     "metadata": {},
     "output_type": "execute_result"
    }
   ],
   "source": [
    "sigmoid(7.46028834e-04)"
   ]
  },
  {
   "cell_type": "code",
   "execution_count": 31,
   "metadata": {},
   "outputs": [
    {
     "name": "stdout",
     "output_type": "stream",
     "text": [
      "2.1\n"
     ]
    },
    {
     "data": {
      "text/plain": [
       "0.8909031788043871"
      ]
     },
     "execution_count": 31,
     "metadata": {},
     "output_type": "execute_result"
    }
   ],
   "source": [
    "z=np.dot(X[0], w1[0])\n",
    "print(z)\n",
    "sigmoid(z)"
   ]
  },
  {
   "cell_type": "code",
   "execution_count": 32,
   "metadata": {},
   "outputs": [
    {
     "name": "stdout",
     "output_type": "stream",
     "text": [
      "2.0\n"
     ]
    },
    {
     "data": {
      "text/plain": [
       "0.8807970779778823"
      ]
     },
     "execution_count": 32,
     "metadata": {},
     "output_type": "execute_result"
    }
   ],
   "source": [
    "z1=np.dot(X[0], w1[1])\n",
    "print(z1)\n",
    "sigmoid(z1)"
   ]
  },
  {
   "cell_type": "code",
   "execution_count": 33,
   "metadata": {},
   "outputs": [],
   "source": [
    "nh=np.array([1, 0.057324175898868755, 0.000746028833836697])"
   ]
  },
  {
   "cell_type": "code",
   "execution_count": 34,
   "metadata": {},
   "outputs": [
    {
     "ename": "ValueError",
     "evalue": "shapes (3,) and (4,) not aligned: 3 (dim 0) != 4 (dim 0)",
     "output_type": "error",
     "traceback": [
      "\u001b[1;31m---------------------------------------------------------------------------\u001b[0m",
      "\u001b[1;31mValueError\u001b[0m                                Traceback (most recent call last)",
      "\u001b[1;32m<ipython-input-34-b7c835ee0133>\u001b[0m in \u001b[0;36m<module>\u001b[1;34m\u001b[0m\n\u001b[1;32m----> 1\u001b[1;33m \u001b[0mz2\u001b[0m\u001b[1;33m=\u001b[0m\u001b[0mnp\u001b[0m\u001b[1;33m.\u001b[0m\u001b[0mdot\u001b[0m\u001b[1;33m(\u001b[0m\u001b[0mnh\u001b[0m\u001b[1;33m,\u001b[0m \u001b[0mw2\u001b[0m\u001b[1;33m)\u001b[0m\u001b[1;33m\u001b[0m\u001b[0m\n\u001b[0m\u001b[0;32m      2\u001b[0m \u001b[0mprint\u001b[0m\u001b[1;33m(\u001b[0m\u001b[0mz2\u001b[0m\u001b[1;33m)\u001b[0m\u001b[1;33m\u001b[0m\u001b[0m\n\u001b[0;32m      3\u001b[0m \u001b[0msigmoid\u001b[0m\u001b[1;33m(\u001b[0m\u001b[0mz2\u001b[0m\u001b[1;33m)\u001b[0m\u001b[1;33m\u001b[0m\u001b[0m\n",
      "\u001b[1;31mValueError\u001b[0m: shapes (3,) and (4,) not aligned: 3 (dim 0) != 4 (dim 0)"
     ]
    }
   ],
   "source": [
    "z2=np.dot(nh, w2)\n",
    "print(z2)\n",
    "sigmoid(z2)"
   ]
  },
  {
   "cell_type": "code",
   "execution_count": null,
   "metadata": {},
   "outputs": [],
   "source": []
  },
  {
   "cell_type": "code",
   "execution_count": 35,
   "metadata": {},
   "outputs": [
    {
     "name": "stdout",
     "output_type": "stream",
     "text": [
      "[-0.17919174 -0.16522433 -0.16395724 -0.16728107]\n"
     ]
    }
   ],
   "source": [
    "od=dw2(y,o,h)\n",
    "print(od)"
   ]
  },
  {
   "cell_type": "code",
   "execution_count": 36,
   "metadata": {},
   "outputs": [
    {
     "name": "stdout",
     "output_type": "stream",
     "text": [
      "0 0.2743862415104851 [1.         0.89090318 0.88079708 0.92414182]\n"
     ]
    }
   ],
   "source": [
    "print(y[0], o[0], h[0])"
   ]
  },
  {
   "cell_type": "code",
   "execution_count": 37,
   "metadata": {},
   "outputs": [
    {
     "data": {
      "text/plain": [
       "-0.09623566051069744"
      ]
     },
     "execution_count": 37,
     "metadata": {},
     "output_type": "execute_result"
    }
   ],
   "source": [
    "2*(y[0] - o[0])*sigmoid_derivative(o[0])*h[0][2]"
   ]
  },
  {
   "cell_type": "code",
   "execution_count": 38,
   "metadata": {},
   "outputs": [
    {
     "data": {
      "text/plain": [
       "0.000690392301"
      ]
     },
     "execution_count": 38,
     "metadata": {},
     "output_type": "execute_result"
    }
   ],
   "source": [
    "6.90392301e-04"
   ]
  },
  {
   "cell_type": "code",
   "execution_count": 39,
   "metadata": {},
   "outputs": [
    {
     "data": {
      "text/plain": [
       "3.95761697e-05"
      ]
     },
     "execution_count": 39,
     "metadata": {},
     "output_type": "execute_result"
    }
   ],
   "source": [
    "3.95761697e-05"
   ]
  },
  {
   "cell_type": "code",
   "execution_count": 40,
   "metadata": {},
   "outputs": [
    {
     "name": "stdout",
     "output_type": "stream",
     "text": [
      "[-0.06727195 -0.         -0.        ]\n"
     ]
    }
   ],
   "source": [
    "i=0\n",
    "neuron_i=0\n",
    "d=2*(y[i] - o[i])*sigmoid_derivative(o[i])*w2[neuron_i+1]*sigmoid_derivative(h[i][neuron_i+1])*X[i]\n",
    "print(d)"
   ]
  },
  {
   "cell_type": "code",
   "execution_count": null,
   "metadata": {},
   "outputs": [],
   "source": []
  },
  {
   "cell_type": "markdown",
   "metadata": {},
   "source": [
    "#### Plotting"
   ]
  },
  {
   "cell_type": "code",
   "execution_count": 41,
   "metadata": {},
   "outputs": [
    {
     "data": {
      "image/png": "[encoded data removed]",
      "text/plain": [
       "<Figure size 432x288 with 1 Axes>"
      ]
     },
     "metadata": {
      "needs_background": "light"
     },
     "output_type": "display_data"
    }
   ],
   "source": [
    "plt.scatter(X[:,0],X[:,1],marker='o', c=y) \n",
    "plt.xlim(-1,2)\n",
    "plt.ylim(-1,2)\n",
    "plt.show()"
   ]
  },
  {
   "cell_type": "code",
   "execution_count": 42,
   "metadata": {},
   "outputs": [
    {
     "name": "stdout",
     "output_type": "stream",
     "text": [
      "[0, -3.0000000000000004] [0, 0.4]\n",
      "[0, 0.4] [-0.3125, 0]\n",
      "[0, -1.1556539072495204] [0.9192425372677615, 0]\n"
     ]
    }
   ],
   "source": [
    "#calculating decision boundary line.\n",
    "#from ax+by+c=0, setting x=0 and y=0 we get.\n",
    "px=[0, -w1[0][0]/w1[0][1] ] #x=0, and x=value for y=0\n",
    "px2=[ -w1[0][0]/w1[0][2], 0 ] #y= value for x=0, 0\n",
    "\n",
    "px2=[0, -w1[1][0]/w1[1][1] ] #x=0, and x=value for y=0\n",
    "px22=[ -w1[1][0]/w1[1][2], 0 ] #y= value for x=0, 0\n",
    "\n",
    "px3=[0, -w2[0]/w2[1] ] #x=0, and x=value for y=0\n",
    "px32=[ -w2[0]/w2[2], 0 ] #y= value for x=0, 0\n",
    "\n",
    "print(px, px2)\n",
    "print(px2, px22)\n",
    "print(px3, px32)"
   ]
  },
  {
   "cell_type": "code",
   "execution_count": 43,
   "metadata": {},
   "outputs": [],
   "source": [
    "# px=np.array(px)\n",
    "# px*s"
   ]
  },
  {
   "cell_type": "code",
   "execution_count": 44,
   "metadata": {},
   "outputs": [
    {
     "data": {
      "image/png": "[encoded data removed]",
      "text/plain": [
       "<Figure size 432x288 with 1 Axes>"
      ]
     },
     "metadata": {
      "needs_background": "light"
     },
     "output_type": "display_data"
    }
   ],
   "source": [
    "s=1\n",
    "bs=5\n",
    "\n",
    "px=np.array(px)\n",
    "px2=np.array(px2)\n",
    "px2=np.array(px2)\n",
    "px22=np.array(px22)\n",
    "\n",
    "# px3=np.array(px3)\n",
    "\n",
    "plt.plot(px*s, px2*s)\n",
    "plt.plot(px2*s, px22*s ) \n",
    "plt.plot(px3*s, px32*s )\n",
    "plt.scatter(X[:,1],X[:,2],marker='o', c=y) \n",
    "plt.xlim(-1,2)\n",
    "plt.ylim(-1,2)\n",
    "plt.show()"
   ]
  },
  {
   "cell_type": "code",
   "execution_count": null,
   "metadata": {},
   "outputs": [],
   "source": []
  },
  {
   "cell_type": "code",
   "execution_count": null,
   "metadata": {},
   "outputs": [],
   "source": []
  },
  {
   "cell_type": "code",
   "execution_count": null,
   "metadata": {},
   "outputs": [],
   "source": []
  }
 ],
 "metadata": {
  "kernelspec": {
   "display_name": "Python 3",
   "language": "python",
   "name": "python3"
  },
  "language_info": {
   "codemirror_mode": {
    "name": "ipython",
    "version": 3
   },
   "file_extension": ".py",
   "mimetype": "text/x-python",
   "name": "python",
   "nbconvert_exporter": "python",
   "pygments_lexer": "ipython3",
   "version": "3.7.0"
  }
 },
 "nbformat": 4,
 "nbformat_minor": 2
}
