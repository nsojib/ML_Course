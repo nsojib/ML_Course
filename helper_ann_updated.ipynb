{
 "cells": [
  {
   "cell_type": "markdown",
   "metadata": {},
   "source": [
    "### Neural Network (Multi Layer Perceptron )\n",
    "1. Feedforward\n",
    "2. Backpropagation"
   ]
  },
  {
   "cell_type": "code",
   "execution_count": 4,
   "metadata": {},
   "outputs": [],
   "source": [
    "X=[ [1,0,0],[1, 0,1], [1, 1,0], [1, 1,1] ]\n",
    "y=[0,1,1,0]"
   ]
  },
  {
   "cell_type": "code",
   "execution_count": 5,
   "metadata": {},
   "outputs": [],
   "source": [
    "#Two hidden.\n",
    "w1=[[-2.8  , 6.3 , 6.3],\n",
    " [-7.2 , 4.7 , 4.7]]\n",
    "\n",
    "w2=[ -4.5  , 9.6 , -10.2 ]"
   ]
  },
  {
   "cell_type": "markdown",
   "metadata": {},
   "source": [
    "<img src='imgs/myann2.png'>"
   ]
  },
  {
   "cell_type": "markdown",
   "metadata": {},
   "source": [
    "### Feed Forward\n",
    "$$\n",
    "\\begin{equation}\n",
    "z0=W[0][0].X[0]+W[0][1].X[1]+W[0][2].X[2] \\\\\n",
    "h[1]=sigmoid(z0) \\\\\n",
    "z1=W[1][0].X[0]+W[1][1].X[1]+W[1][2].X[2] \\\\\n",
    "h[2]=sigmoid(z1) \\\\\n",
    "z2=W2[0].h[0] +W2[1].h[1] +W2[2].h[2]   \\\\\n",
    "y=sigmoid(z2)\n",
    "\\end{equation}\n",
    "$$"
   ]
  },
  {
   "cell_type": "markdown",
   "metadata": {},
   "source": [
    "#### Hidden neuron"
   ]
  },
  {
   "cell_type": "code",
   "execution_count": null,
   "metadata": {},
   "outputs": [],
   "source": [
    "[[1.00000000e+00 5.73241759e-02 7.46028834e-04]\n",
    " [1.00000000e+00 9.70687769e-01 7.58581800e-02]\n",
    " [1.00000000e+00 9.70687769e-01 7.58581800e-02]\n",
    " [1.00000000e+00 9.99944551e-01 9.00249511e-01]]"
   ]
  },
  {
   "cell_type": "markdown",
   "metadata": {},
   "source": [
    "#### Output Neuron"
   ]
  },
  {
   "cell_type": "code",
   "execution_count": null,
   "metadata": {},
   "outputs": [],
   "source": [
    "[0.01875618 0.98278906 0.98278906 0.01657612]"
   ]
  },
  {
   "cell_type": "markdown",
   "metadata": {},
   "source": [
    "$$\n",
    "\\begin{equation}\n",
    "{\\bf \\frac{\\partial Error}{\\partial W2}=2(y-y\\_actual )*sigmoid\\_derivative(y)*h }\n",
    "\\end{equation}\n",
    "$$"
   ]
  },
  {
   "cell_type": "markdown",
   "metadata": {},
   "source": [
    "#### Derivative in terms of w2"
   ]
  },
  {
   "cell_type": "code",
   "execution_count": null,
   "metadata": {},
   "outputs": [],
   "source": [
    "[-6.90392301e-04 -3.95761697e-05 -5.15052563e-07]\n",
    "[5.82236734e-04 5.65170077e-04 4.41674190e-05]\n",
    "[5.82236734e-04 5.65170077e-04 4.41674190e-05]\n",
    "[-0.00054043 -0.0005404  -0.00048652]"
   ]
  },
  {
   "cell_type": "code",
   "execution_count": null,
   "metadata": {},
   "outputs": [],
   "source": [
    "#summing for the four data we get"
   ]
  },
  {
   "cell_type": "code",
   "execution_count": null,
   "metadata": {},
   "outputs": [],
   "source": [
    "dw2=[-6.63449802e-05  5.50367802e-04 -3.98698590e-04]"
   ]
  },
  {
   "cell_type": "markdown",
   "metadata": {},
   "source": [
    "$$\n",
    "\\begin{equation} \n",
    "for \\space the \\space first \\space neuron, \\frac{\\partial Error}{\\partial W[0]} =2(y-y\\_actual )*sigmoid\\_derivative(y)*W2[1]*sigmoid\\_derivative(h1) *X \\\\\n",
    "Similarly, \\\\for \\space the \\space second \\space neuron,\n",
    "\\frac{\\partial Error}{\\partial W[{\\bf 1}]} =2(y-y\\_actual )*sigmoid\\_derivative(y)*W2[{\\bf 2}]*sigmoid\\_derivative(h2) *X\n",
    "\\end{equation}\n",
    "$$"
   ]
  },
  {
   "cell_type": "markdown",
   "metadata": {},
   "source": [
    "#### Derivative in terms of w1"
   ]
  },
  {
   "cell_type": "code",
   "execution_count": null,
   "metadata": {},
   "outputs": [],
   "source": [
    "#First neuron\n",
    "[-0.00035815 -0.         -0.        ]\n",
    "[0.00015904 0.         0.00015904]\n",
    "[0.00015904 0.00015904 0.        ]\n",
    "[-2.87656042e-07 -2.87656042e-07 -2.87656042e-07]"
   ]
  },
  {
   "cell_type": "code",
   "execution_count": null,
   "metadata": {},
   "outputs": [],
   "source": [
    "#Sum\n",
    "[-4.03648432e-05,  1.58749743e-04,  1.58749743e-04]"
   ]
  },
  {
   "cell_type": "code",
   "execution_count": null,
   "metadata": {},
   "outputs": [],
   "source": [
    "#second neuron\n",
    "[5.24961686e-06 0.00000000e+00 0.00000000e+00]\n",
    "[-0.00041633 -0.         -0.00041633]\n",
    "[-0.00041633 -0.00041633 -0.        ]\n",
    "[0.00049501 0.00049501 0.00049501]"
   ]
  },
  {
   "cell_type": "code",
   "execution_count": null,
   "metadata": {},
   "outputs": [],
   "source": [
    "#Sum\n",
    "[-3.32405798e-04,  7.86775663e-05,  7.86775663e-05]"
   ]
  },
  {
   "cell_type": "code",
   "execution_count": null,
   "metadata": {},
   "outputs": [],
   "source": [
    "dw10=[-4.03648432e-05,  1.58749743e-04,  1.58749743e-04]\n",
    "dw11=[-3.32405798e-04,  7.86775663e-05,  7.86775663e-05]\n",
    "\n",
    "#So\n",
    "dw1=[\n",
    "    [-4.03648432e-05,  1.58749743e-04,  1.58749743e-04],\n",
    "    [-3.32405798e-04,  7.86775663e-05,  7.86775663e-05]\n",
    "]"
   ]
  },
  {
   "cell_type": "markdown",
   "metadata": {},
   "source": [
    "#### Training algorithm"
   ]
  },
  {
   "cell_type": "code",
   "execution_count": null,
   "metadata": {},
   "outputs": [],
   "source": [
    "lr=0.1\n",
    "nepoch=10000 \n",
    "w1=randomly_initialize\n",
    "w2=randomly_initialize\n",
    "for i in range(nepoch):\n",
    "    o,h=feed_forward(X,w1,w2)\n",
    "    dw2= \n",
    "    dw1= \n",
    "\n",
    "    w1 +=  lr * dw1\n",
    "    w2 += lr * dw2  "
   ]
  },
  {
   "cell_type": "markdown",
   "metadata": {},
   "source": [
    "#### predict after training"
   ]
  },
  {
   "cell_type": "code",
   "execution_count": null,
   "metadata": {},
   "outputs": [],
   "source": [
    "o,h=feed_forward(X,w1,w2)"
   ]
  }
 ],
 "metadata": {
  "kernelspec": {
   "display_name": "Python 3",
   "language": "python",
   "name": "python3"
  },
  "language_info": {
   "codemirror_mode": {
    "name": "ipython",
    "version": 3
   },
   "file_extension": ".py",
   "mimetype": "text/x-python",
   "name": "python",
   "nbconvert_exporter": "python",
   "pygments_lexer": "ipython3",
   "version": "3.7.0"
  }
 },
 "nbformat": 4,
 "nbformat_minor": 2
}
