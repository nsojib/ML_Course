{
 "cells": [
  {
   "cell_type": "markdown",
   "metadata": {},
   "source": [
    "### Bayes Theorem\n",
    "$$P(Spam | big) = \\frac{ P(big | Spam)  P(Spam) }{ P(big)}$$\n",
    "\n"
   ]
  },
  {
   "cell_type": "markdown",
   "metadata": {},
   "source": [
    "### Bayes Theorem for Multiple Feature.\n",
    "\n",
    "Let, X=[x1, x2, x3]\n",
    "$$P(Spam | [x1, x2, x3]) = \\frac{ P(x1 | Spam)   P(x2 | Spam)   P(x3 | Spam)  P(Spam)  }{P(x1)   P(X2)   P(x3)}$$\n"
   ]
  },
  {
   "cell_type": "markdown",
   "metadata": {},
   "source": [
    "Spam\n",
    "1. Won a big lottery.\n",
    "2. Free reply\n",
    "3. Big discount\n",
    "Total Words=8\n",
    "\n",
    "Ham\n",
    "1. How big you\n",
    "2. Call me Now.\n",
    "3. Please reply back.\n",
    "nwords=9\n",
    "\n",
    "Total=17\n",
    "\n",
    "\n",
    "\n",
    "P(big)= 3/17 <br>\n",
    "P(big | Spam)=2/8 <br>\n",
    "P(reply)=2/17  <br>\n",
    "P(reply | Spam) = 1/8 <br>\n",
    "\n",
    "P(big | Ham) = 1/9  <br>\n",
    "P(reply | Ham) = 1/9 <br>\n",
    "\n",
    "P(Spam)=3/6 <br>\n",
    "P(Ham) = 3/6 <br>\n",
    "\n",
    "Test: big reply\n",
    "\n",
    "$$P(Spam | [big, reply]) = \\frac{ P(big | Spam)   P(reply | Spam)    P(Spam)  }{P(big)   P(reply)}$$\n",
    "\n",
    "$$P(Ham | [big, reply]) = \\frac{ P(big | Ham)   P(reply | Ham)    P(Ham)  }{P(big)   P(reply)}$$"
   ]
  },
  {
   "cell_type": "code",
   "execution_count": 2,
   "metadata": {},
   "outputs": [
    {
     "name": "stdout",
     "output_type": "stream",
     "text": [
      "0.015625\n"
     ]
    }
   ],
   "source": [
    "num=(2/8)*(1/8)*(3/6)\n",
    "print(num)"
   ]
  },
  {
   "cell_type": "code",
   "execution_count": 3,
   "metadata": {},
   "outputs": [
    {
     "name": "stdout",
     "output_type": "stream",
     "text": [
      "0.020761245674740487\n"
     ]
    }
   ],
   "source": [
    "den=(3/17)*(2/17)\n",
    "print(den)"
   ]
  },
  {
   "cell_type": "code",
   "execution_count": 5,
   "metadata": {},
   "outputs": [
    {
     "name": "stdout",
     "output_type": "stream",
     "text": [
      "0.7526041666666666\n"
     ]
    }
   ],
   "source": [
    "ps=num/den\n",
    "print(ps)"
   ]
  },
  {
   "cell_type": "code",
   "execution_count": 6,
   "metadata": {},
   "outputs": [
    {
     "name": "stdout",
     "output_type": "stream",
     "text": [
      "0.006172839506172839\n"
     ]
    }
   ],
   "source": [
    "num=(1/9)*(1/9)*(3/6)\n",
    "print(num)"
   ]
  },
  {
   "cell_type": "code",
   "execution_count": 8,
   "metadata": {},
   "outputs": [
    {
     "name": "stdout",
     "output_type": "stream",
     "text": [
      "0.2973251028806584\n"
     ]
    }
   ],
   "source": [
    "ph=num/den\n",
    "print(ph)"
   ]
  },
  {
   "cell_type": "code",
   "execution_count": 9,
   "metadata": {},
   "outputs": [
    {
     "data": {
      "text/plain": [
       "71.68141592920354"
      ]
     },
     "execution_count": 9,
     "metadata": {},
     "output_type": "execute_result"
    }
   ],
   "source": [
    "(ps/(ps+ph))*100"
   ]
  },
  {
   "cell_type": "code",
   "execution_count": null,
   "metadata": {},
   "outputs": [],
   "source": []
  }
 ],
 "metadata": {
  "kernelspec": {
   "display_name": "Python 3",
   "language": "python",
   "name": "python3"
  },
  "language_info": {
   "codemirror_mode": {
    "name": "ipython",
    "version": 3
   },
   "file_extension": ".py",
   "mimetype": "text/x-python",
   "name": "python",
   "nbconvert_exporter": "python",
   "pygments_lexer": "ipython3",
   "version": "3.7.0"
  }
 },
 "nbformat": 4,
 "nbformat_minor": 2
}
