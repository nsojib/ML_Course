{
 "cells": [
  {
   "cell_type": "code",
   "execution_count": 1,
   "metadata": {},
   "outputs": [],
   "source": [
    "from pprint import pprint\n",
    "from math import log\n",
    "import numpy as np\n",
    "import pandas as pd\n",
    "import operator"
   ]
  },
  {
   "cell_type": "code",
   "execution_count": 2,
   "metadata": {},
   "outputs": [],
   "source": [
    "spam=[\n",
    "     'সে ভাল না',\n",
    "     'সে খারাপ ছাত্র',\n",
    "     'আমি খারাপ আছি',\n",
    "     'রোবট খারাপ'\n",
    " ]\n",
    "\n",
    "ham=[\n",
    "     'আমি ভাল আছ',\n",
    "     'সুন্দর সুন্দর রোবট',\n",
    "     'আমি রোবট ভালবাসি',\n",
    "     'সে সুন্দর',\n",
    " ]"
   ]
  },
  {
   "cell_type": "code",
   "execution_count": 3,
   "metadata": {},
   "outputs": [],
   "source": [
    "corpus=spam.copy()\n",
    "corpus.extend(ham)"
   ]
  },
  {
   "cell_type": "code",
   "execution_count": 4,
   "metadata": {},
   "outputs": [
    {
     "name": "stdout",
     "output_type": "stream",
     "text": [
      "['সে ভাল না', 'সে খারাপ ছাত্র', 'আমি খারাপ আছি', 'রোবট খারাপ', 'আমি ভাল আছ', 'সুন্দর সুন্দর রোবট', 'আমি রোবট ভালবাসি', 'সে সুন্দর']\n"
     ]
    }
   ],
   "source": [
    "print(corpus)"
   ]
  },
  {
   "cell_type": "code",
   "execution_count": 5,
   "metadata": {},
   "outputs": [
    {
     "name": "stdout",
     "output_type": "stream",
     "text": [
      "[1. 1. 1. 1. 0. 0. 0. 0.]\n"
     ]
    }
   ],
   "source": [
    "y=np.zeros(len(corpus))\n",
    "for i in range( len(spam)):\n",
    "    y[i]=1 \n",
    "print(y)"
   ]
  },
  {
   "cell_type": "code",
   "execution_count": 6,
   "metadata": {},
   "outputs": [
    {
     "name": "stdout",
     "output_type": "stream",
     "text": [
      "Total Corpus:\n",
      "['সে ভাল না', 'সে খারাপ ছাত্র', 'আমি খারাপ আছি', 'রোবট খারাপ', 'আমি ভাল আছ', 'সুন্দর সুন্দর রোবট', 'আমি রোবট ভালবাসি', 'সে সুন্দর']\n",
      "total doc= 8  nspam= 4  nham= 4\n"
     ]
    }
   ],
   "source": [
    "print('Total Corpus:')\n",
    "print(corpus)\n",
    "ndoc=len(corpus)\n",
    "nspam=len(spam)\n",
    "nham=len(ham)\n",
    "print('total doc=',ndoc, ' nspam=',nspam,' nham=',nham)"
   ]
  },
  {
   "cell_type": "code",
   "execution_count": 7,
   "metadata": {},
   "outputs": [],
   "source": [
    "def get_tokens(doc):\n",
    "    return doc.split(' ')"
   ]
  },
  {
   "cell_type": "code",
   "execution_count": 8,
   "metadata": {},
   "outputs": [],
   "source": [
    "def build_vocabulary(corpus):\n",
    "    wd={}\n",
    "    for doc in corpus:\n",
    "        for w in get_tokens(doc):\n",
    "            if w in wd:\n",
    "                wd[w]+=1\n",
    "            else:\n",
    "                wd[w]=1\n",
    "    wd=sorted(wd.items(), key=lambda x: x[1], reverse=True)\n",
    "    return dict(wd)"
   ]
  },
  {
   "cell_type": "code",
   "execution_count": 9,
   "metadata": {},
   "outputs": [
    {
     "name": "stdout",
     "output_type": "stream",
     "text": [
      "Total: \n",
      "unique words:  11\n",
      "{'সে': 3, 'খারাপ': 3, 'আমি': 3, 'রোবট': 3, 'সুন্দর': 3, 'ভাল': 2, 'না': 1, 'ছাত্র': 1, 'আছি': 1, 'আছ': 1, 'ভালবাসি': 1}\n"
     ]
    }
   ],
   "source": [
    "wd=build_vocabulary(corpus)\n",
    "print('Total: ')\n",
    "print('unique words: ', len(wd))\n",
    "print(wd)"
   ]
  },
  {
   "cell_type": "code",
   "execution_count": 10,
   "metadata": {},
   "outputs": [
    {
     "name": "stdout",
     "output_type": "stream",
     "text": [
      "Spam:\n",
      "unique words:  8  , {'খারাপ': 3, 'সে': 2, 'ভাল': 1, 'না': 1, 'ছাত্র': 1, 'আমি': 1, 'আছি': 1, 'রোবট': 1}\n"
     ]
    }
   ],
   "source": [
    "swd=build_vocabulary(spam)\n",
    "print('Spam:')\n",
    "print('unique words: ', len(swd),' ,', swd)"
   ]
  },
  {
   "cell_type": "code",
   "execution_count": 11,
   "metadata": {},
   "outputs": [
    {
     "name": "stdout",
     "output_type": "stream",
     "text": [
      "Ham: \n",
      "unique words:  7  , {'সুন্দর': 3, 'আমি': 2, 'রোবট': 2, 'ভাল': 1, 'আছ': 1, 'ভালবাসি': 1, 'সে': 1}\n"
     ]
    }
   ],
   "source": [
    "hwd=build_vocabulary(ham)\n",
    "print('Ham: ')\n",
    "print('unique words: ', len(hwd), ' ,', hwd)\n"
   ]
  },
  {
   "cell_type": "code",
   "execution_count": 12,
   "metadata": {},
   "outputs": [
    {
     "name": "stdout",
     "output_type": "stream",
     "text": [
      "total:  22  ,sw:  11  ,hw:  11\n"
     ]
    }
   ],
   "source": [
    "tw=sum(wd.values())\n",
    "sw=sum(swd.values())\n",
    "hw=sum(hwd.values())\n",
    "print('total: ',tw,' ,sw: ',sw,' ,hw: ',hw)"
   ]
  },
  {
   "cell_type": "code",
   "execution_count": 13,
   "metadata": {},
   "outputs": [
    {
     "name": "stdout",
     "output_type": "stream",
     "text": [
      "nfeature= 11\n",
      "['সে', 'খারাপ', 'আমি', 'রোবট', 'সুন্দর', 'ভাল', 'না', 'ছাত্র', 'আছি', 'আছ', 'ভালবাসি']\n"
     ]
    }
   ],
   "source": [
    "vocab=build_vocabulary(corpus)\n",
    "features=list( vocab.keys() )\n",
    "nfeature=len(features)\n",
    "print('nfeature=',nfeature)\n",
    "print(features)"
   ]
  },
  {
   "cell_type": "code",
   "execution_count": 14,
   "metadata": {},
   "outputs": [
    {
     "name": "stdout",
     "output_type": "stream",
     "text": [
      "P(spam)= 0.5 P(ham)= 0.5\n"
     ]
    }
   ],
   "source": [
    "prob_spam=nspam/ndoc\n",
    "prob_ham=nham/ndoc\n",
    "print('P(spam)=',prob_spam, 'P(ham)=',prob_ham)"
   ]
  },
  {
   "cell_type": "code",
   "execution_count": 15,
   "metadata": {},
   "outputs": [
    {
     "name": "stdout",
     "output_type": "stream",
     "text": [
      "marginal probability of words: \n",
      "{'সে': 0.13636363636363635, 'খারাপ': 0.13636363636363635, 'আমি': 0.13636363636363635, 'রোবট': 0.13636363636363635, 'সুন্দর': 0.13636363636363635, 'ভাল': 0.09090909090909091, 'না': 0.045454545454545456, 'ছাত্র': 0.045454545454545456, 'আছি': 0.045454545454545456, 'আছ': 0.045454545454545456, 'ভালবাসি': 0.045454545454545456}\n"
     ]
    }
   ],
   "source": [
    "print('marginal probability of words: ')\n",
    "probs={}\n",
    "for word,nw in wd.items():\n",
    "    pw=nw/tw\n",
    "    probs[word]=pw\n",
    "print(probs)"
   ]
  },
  {
   "cell_type": "code",
   "execution_count": 16,
   "metadata": {},
   "outputs": [
    {
     "name": "stdout",
     "output_type": "stream",
     "text": [
      "marginal probability of Spam: \n",
      "{'খারাপ': 0.2727272727272727, 'সে': 0.18181818181818182, 'ভাল': 0.09090909090909091, 'না': 0.09090909090909091, 'ছাত্র': 0.09090909090909091, 'আমি': 0.09090909090909091, 'আছি': 0.09090909090909091, 'রোবট': 0.09090909090909091}\n"
     ]
    }
   ],
   "source": [
    "print('marginal probability of Spam: ')\n",
    "mpspam={}\n",
    "for word,nw in swd.items():\n",
    "    pw=nw/sw\n",
    "    mpspam[word]=pw\n",
    "print(mpspam)"
   ]
  },
  {
   "cell_type": "code",
   "execution_count": 17,
   "metadata": {},
   "outputs": [
    {
     "name": "stdout",
     "output_type": "stream",
     "text": [
      "conditional probability of words given spam\n",
      "{'খারাপ': 1.0, 'সে': 0.6666666666666667, 'ভাল': 0.5, 'না': 1.0, 'ছাত্র': 1.0, 'আমি': 0.33333333333333337, 'আছি': 1.0, 'রোবট': 0.33333333333333337}\n"
     ]
    }
   ],
   "source": [
    "print('conditional probability of words given spam')\n",
    "sprobs={}\n",
    "for word,nw in swd.items():\n",
    "    sprobs[word]=(mpspam[word]*prob_spam)/probs[word]\n",
    "print(sprobs)"
   ]
  },
  {
   "cell_type": "code",
   "execution_count": 18,
   "metadata": {},
   "outputs": [
    {
     "name": "stdout",
     "output_type": "stream",
     "text": [
      "marginal probability of Ham: \n",
      "{'সুন্দর': 0.2727272727272727, 'আমি': 0.18181818181818182, 'রোবট': 0.18181818181818182, 'ভাল': 0.09090909090909091, 'আছ': 0.09090909090909091, 'ভালবাসি': 0.09090909090909091, 'সে': 0.09090909090909091}\n"
     ]
    }
   ],
   "source": [
    "print('marginal probability of Ham: ')\n",
    "mpham={}\n",
    "for word,nw in hwd.items():\n",
    "    pw=nw/hw\n",
    "    mpham[word]=pw\n",
    "print(mpham)"
   ]
  },
  {
   "cell_type": "code",
   "execution_count": 19,
   "metadata": {},
   "outputs": [
    {
     "name": "stdout",
     "output_type": "stream",
     "text": [
      "conditional probability of words given Ham\n",
      "{'সুন্দর': 1.0, 'আমি': 0.6666666666666667, 'রোবট': 0.6666666666666667, 'ভাল': 0.5, 'আছ': 1.0, 'ভালবাসি': 1.0, 'সে': 0.33333333333333337}\n"
     ]
    }
   ],
   "source": [
    "print('conditional probability of words given Ham')\n",
    "hprobs={}\n",
    "for word,nw in hwd.items():\n",
    "    hprobs[word]=(mpham[word]*prob_ham)/probs[word]\n",
    "print(hprobs)"
   ]
  },
  {
   "cell_type": "code",
   "execution_count": 20,
   "metadata": {},
   "outputs": [
    {
     "name": "stdout",
     "output_type": "stream",
     "text": [
      "ভাল রোবট\n",
      "ভাল  cnd= 0.5 5.5\n",
      "রোবট  cnd= 0.33333333333333337 2.444444444444445\n",
      "prob_spam_w 6.722222222222224\n"
     ]
    }
   ],
   "source": [
    "tdoc='ভাল রোবট'\n",
    "print(tdoc)\n",
    "psw=1\n",
    "for word in get_tokens(tdoc):\n",
    "#     print(word)\n",
    "    prob_spam_w=sprobs[word]/  probs[word]\n",
    "    print(word,' cnd=',sprobs[word], prob_spam_w)\n",
    "    psw*=prob_spam_w\n",
    "psw*=prob_spam\n",
    "print('prob_spam_w', psw)"
   ]
  },
  {
   "cell_type": "code",
   "execution_count": 21,
   "metadata": {},
   "outputs": [
    {
     "name": "stdout",
     "output_type": "stream",
     "text": [
      "ভাল রোবট\n",
      "ভাল  cnd= 0.5 5.5\n",
      "রোবট  cnd= 0.6666666666666667 4.88888888888889\n",
      "prob_ham_w 13.444444444444448\n"
     ]
    }
   ],
   "source": [
    "print(tdoc)\n",
    "phw=1\n",
    "for word in get_tokens(tdoc):\n",
    "#     print(word)\n",
    "    prob_ham_w=hprobs[word]/ probs[word]   \n",
    "    print(word,' cnd=',hprobs[word], prob_ham_w)\n",
    "    phw*=prob_ham_w\n",
    "phw*=prob_ham\n",
    "print('prob_ham_w', phw)"
   ]
  },
  {
   "cell_type": "code",
   "execution_count": 22,
   "metadata": {},
   "outputs": [
    {
     "name": "stdout",
     "output_type": "stream",
     "text": [
      "ভাল রোবট\n",
      "percent_spam:  33.333333333333336\n",
      "percent_ham:  66.66666666666667\n"
     ]
    }
   ],
   "source": [
    "print(tdoc)\n",
    "percent_spam= (psw/(psw+phw) )*100\n",
    "percent_ham= (phw/(psw+phw) )*100\n",
    "print('percent_spam: ', percent_spam)\n",
    "print('percent_ham: ', percent_ham)"
   ]
  },
  {
   "cell_type": "code",
   "execution_count": null,
   "metadata": {},
   "outputs": [],
   "source": []
  },
  {
   "cell_type": "code",
   "execution_count": null,
   "metadata": {},
   "outputs": [],
   "source": []
  }
 ],
 "metadata": {
  "kernelspec": {
   "display_name": "Python 3",
   "language": "python",
   "name": "python3"
  },
  "language_info": {
   "codemirror_mode": {
    "name": "ipython",
    "version": 3
   },
   "file_extension": ".py",
   "mimetype": "text/x-python",
   "name": "python",
   "nbconvert_exporter": "python",
   "pygments_lexer": "ipython3",
   "version": "3.7.0"
  }
 },
 "nbformat": 4,
 "nbformat_minor": 2
}
