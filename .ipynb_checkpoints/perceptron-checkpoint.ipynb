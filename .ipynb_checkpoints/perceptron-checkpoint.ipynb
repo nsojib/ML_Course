{
 "cells": [
  {
   "cell_type": "markdown",
   "metadata": {},
   "source": [
    "### Perceptron"
   ]
  },
  {
   "cell_type": "markdown",
   "metadata": {},
   "source": [
    "Perceptron is a single layer neural network."
   ]
  },
  {
   "cell_type": "code",
   "execution_count": 24,
   "metadata": {},
   "outputs": [],
   "source": [
    "import numpy as np\n",
    "import matplotlib.pyplot as plt"
   ]
  },
  {
   "cell_type": "code",
   "execution_count": 25,
   "metadata": {},
   "outputs": [],
   "source": [
    "np.random.seed(88)"
   ]
  },
  {
   "cell_type": "code",
   "execution_count": 26,
   "metadata": {},
   "outputs": [],
   "source": [
    "def get_training_examples():\n",
    "    X1 = np.array([[8, 7], [4, 10], [9, 7], [7, 10], [9, 6], [4, 8], [10, 10]])\n",
    "    y1 = np.ones(len(X1))\n",
    "    X2 = np.array([[2, 7], [8, 3], [7, 5], [4, 4],  [4, 6], [1, 3], [2, 5]])\n",
    "    y2 = np.ones(len(X2)) * -1\n",
    "    return X1, y1, X2, y2"
   ]
  },
  {
   "cell_type": "code",
   "execution_count": 27,
   "metadata": {},
   "outputs": [],
   "source": [
    "X1, y1, X2, y2= get_training_examples()\n",
    "X = np.vstack((X1, X2))\n",
    "y = np.hstack((y1, y2))"
   ]
  },
  {
   "cell_type": "code",
   "execution_count": 28,
   "metadata": {},
   "outputs": [
    {
     "name": "stdout",
     "output_type": "stream",
     "text": [
      "[[ 8  7]\n",
      " [ 4 10]\n",
      " [ 9  7]\n",
      " [ 7 10]\n",
      " [ 9  6]\n",
      " [ 4  8]\n",
      " [10 10]\n",
      " [ 2  7]\n",
      " [ 8  3]\n",
      " [ 7  5]\n",
      " [ 4  4]\n",
      " [ 4  6]\n",
      " [ 1  3]\n",
      " [ 2  5]]\n",
      "[ 1.  1.  1.  1.  1.  1.  1. -1. -1. -1. -1. -1. -1. -1.]\n",
      "14 14\n"
     ]
    }
   ],
   "source": [
    "print(X)\n",
    "print(y)\n",
    "print( len(X), len(y))"
   ]
  },
  {
   "cell_type": "code",
   "execution_count": 29,
   "metadata": {},
   "outputs": [
    {
     "data": {
      "image/png": "[encoded data removed]",
      "text/plain": [
       "<Figure size 432x288 with 1 Axes>"
      ]
     },
     "metadata": {
      "needs_background": "light"
     },
     "output_type": "display_data"
    }
   ],
   "source": [
    "plt.scatter(X[:,0],X[:,1],marker='o', c=y) \n",
    "plt.show()"
   ]
  },
  {
   "cell_type": "code",
   "execution_count": 30,
   "metadata": {},
   "outputs": [
    {
     "name": "stdout",
     "output_type": "stream",
     "text": [
      "[[ 1.  8.  7.]\n",
      " [ 1.  4. 10.]\n",
      " [ 1.  9.  7.]\n",
      " [ 1.  7. 10.]\n",
      " [ 1.  9.  6.]\n",
      " [ 1.  4.  8.]\n",
      " [ 1. 10. 10.]\n",
      " [ 1.  2.  7.]\n",
      " [ 1.  8.  3.]\n",
      " [ 1.  7.  5.]\n",
      " [ 1.  4.  4.]\n",
      " [ 1.  4.  6.]\n",
      " [ 1.  1.  3.]\n",
      " [ 1.  2.  5.]]\n"
     ]
    }
   ],
   "source": [
    "# add a column with value 1 at the first position.\n",
    "Xa= np.c_[np.ones(X.shape[0]), X]\n",
    "print(Xa)"
   ]
  },
  {
   "cell_type": "markdown",
   "metadata": {},
   "source": [
    "#### Hypothesis <br>\n",
    "We have two class {+1, -1}. we need a function that predict either of the class for following criteria, <br>\n",
    "h(x<sub>i</sub>)=+1 for w.x<sub>i</sub>>0 <br>\n",
    "h(x<sub>i</sub>=-1 for w.x<sub>i</sub><0  <br>\n",
    "\n",
    "we can calculate this nature using sign (or signum, not sin) function. which looks like the following\n",
    "\n",
    "h(x<sub>i</sub>)=sign(w.x<sub>i</sub>)\n",
    "<img src='imgs/sign.png' width=15%>"
   ]
  },
  {
   "cell_type": "markdown",
   "metadata": {},
   "source": [
    "#### Perceptron\n",
    "<img src='imgs/perceptron.png' width=50%>\n",
    "The figure above looks like a neuron."
   ]
  },
  {
   "cell_type": "code",
   "execution_count": 31,
   "metadata": {},
   "outputs": [],
   "source": [
    "#calculate weighted sum\n",
    "def linear_regression(x,w):\n",
    "    val=0\n",
    "    for ix,iy in zip(x,w):\n",
    "        val+=ix*iy\n",
    "    return val"
   ]
  },
  {
   "cell_type": "code",
   "execution_count": 32,
   "metadata": {},
   "outputs": [],
   "source": [
    "#decide -1 or 1\n",
    "def activate(val):\n",
    "    return np.sign(val)"
   ]
  },
  {
   "cell_type": "code",
   "execution_count": 33,
   "metadata": {},
   "outputs": [],
   "source": [
    "def predict(X, w):\n",
    "    hp=[]\n",
    "    for x in X: \n",
    "        lr=linear_regression(x,w)\n",
    "        h=activate(lr)\n",
    "        hp.append(h)\n",
    "    return hp"
   ]
  },
  {
   "cell_type": "code",
   "execution_count": 35,
   "metadata": {},
   "outputs": [
    {
     "name": "stdout",
     "output_type": "stream",
     "text": [
      "[0.8962852  0.69999119 0.7142971 ]\n",
      "[1.0, 1.0, 1.0, 1.0, 1.0, 1.0, 1.0, 1.0, 1.0, 1.0, 1.0, 1.0, 1.0, 1.0]\n"
     ]
    }
   ],
   "source": [
    "w = np.random.rand(3)\n",
    "print(w)\n",
    "py=predict(Xa,w)\n",
    "print(py)"
   ]
  },
  {
   "cell_type": "code",
   "execution_count": 36,
   "metadata": {},
   "outputs": [],
   "source": [
    "def get_miss_indexes(py, y):\n",
    "    miss=[]\n",
    "    for i in range(len(y)):\n",
    "        if py[i]!=y[i]:\n",
    "            miss.append(i)\n",
    "    return miss"
   ]
  },
  {
   "cell_type": "code",
   "execution_count": 37,
   "metadata": {},
   "outputs": [
    {
     "name": "stdout",
     "output_type": "stream",
     "text": [
      "[7, 8, 9, 10, 11, 12, 13]\n",
      "total miss classification= 7 total= 14\n"
     ]
    }
   ],
   "source": [
    "miss=get_miss_indexes(py,y)\n",
    "print(miss)\n",
    "print('total miss classification=', len(miss), 'total=',len(y))"
   ]
  },
  {
   "cell_type": "code",
   "execution_count": 39,
   "metadata": {},
   "outputs": [
    {
     "name": "stdout",
     "output_type": "stream",
     "text": [
      "7\n",
      "[1. 2. 7.]\n",
      "-1.0\n"
     ]
    }
   ],
   "source": [
    "#choose randomly.\n",
    "rnd=np.random.choice(miss)\n",
    "print(rnd)\n",
    "rx=Xa[rnd]\n",
    "ry=y[rnd]\n",
    "print(rx)\n",
    "print(ry)"
   ]
  },
  {
   "cell_type": "markdown",
   "metadata": {},
   "source": [
    "#### Perceptron Learning Algorithm\n",
    "1. choose random hyperplane, classify training data\n",
    "2. get the data missclassified\n",
    "3. pick one from the missclassified randomly, say rx, ry\n",
    "4. update hyperplane (weights, using update rule: w=w+eta \\* (rx \\* ry) , here, eta=learning rate )\n",
    "5. classify training data using this updated hyperplane\n",
    "5. repeate step 2-5 until all data are correctly classified\n",
    "\n",
    "#### \\*** Why it converge?\n",
    "\n",
    "1. vector dot product, effect of theta.\n",
    "2. vector add, sub"
   ]
  },
  {
   "cell_type": "code",
   "execution_count": 40,
   "metadata": {},
   "outputs": [],
   "source": [
    "def perceptron_train(X, y):\n",
    "    w = np.random.rand(3)\n",
    "    py=predict(X,w)\n",
    "    miss=get_miss_indexes(py,y) \n",
    "    while len(miss)>0:\n",
    "        rnd=np.random.choice(miss)\n",
    "        rx=X[rnd]\n",
    "        ry=y[rnd]\n",
    "        w=w+rx*ry\n",
    "        \n",
    "        py=predict(X,w)\n",
    "        miss=get_miss_indexes(py,y)\n",
    "        \n",
    "    return w    "
   ]
  },
  {
   "cell_type": "code",
   "execution_count": 16,
   "metadata": {},
   "outputs": [],
   "source": [
    "#a variation. using epoch and learning rate\n",
    "def perceptron_train2(X, y):\n",
    "    w = np.random.rand(3)\n",
    "    py=predict(X,w)\n",
    "    miss=get_miss_indexes(py,y) \n",
    "    eta=0.1\n",
    "    epoch=50000\n",
    "    for i in range(epoch):\n",
    "        if len(miss)==0: #all data are classified.\n",
    "            break\n",
    "        rnd=np.random.choice(miss)\n",
    "        rx=X[rnd]\n",
    "        ry=y[rnd]\n",
    "        w=w+eta*rx*ry\n",
    "        \n",
    "        py=predict(X,w)\n",
    "        miss=get_miss_indexes(py,y)\n",
    "        \n",
    "    return w   "
   ]
  },
  {
   "cell_type": "code",
   "execution_count": 58,
   "metadata": {},
   "outputs": [
    {
     "name": "stdout",
     "output_type": "stream",
     "text": [
      "[-53.58763076   3.76242568   5.00075045]\n"
     ]
    }
   ],
   "source": [
    "w=perceptron_train(Xa,y)\n",
    "print(w)"
   ]
  },
  {
   "cell_type": "code",
   "execution_count": 26,
   "metadata": {},
   "outputs": [
    {
     "name": "stdout",
     "output_type": "stream",
     "text": [
      "[-4.46850238  0.28909156  0.44948998]\n"
     ]
    }
   ],
   "source": [
    "w=perceptron_train2(Xa,y)\n",
    "print(w)"
   ]
  },
  {
   "cell_type": "code",
   "execution_count": 59,
   "metadata": {},
   "outputs": [
    {
     "name": "stdout",
     "output_type": "stream",
     "text": [
      "[1.0, 1.0, 1.0, 1.0, 1.0, 1.0, 1.0, -1.0, -1.0, -1.0, -1.0, -1.0, -1.0, -1.0]\n"
     ]
    }
   ],
   "source": [
    "py=predict(Xa,w)\n",
    "print(py)"
   ]
  },
  {
   "cell_type": "markdown",
   "metadata": {},
   "source": [
    "#### Plotting the hyperplane.\n",
    "hyperplane equation: ax<sub>1</sub>+bx<sub>2</sub>+c=0 (0 means hyperplane goes between two class -1 and 1) <br>\n",
    "setting, x<sub>1</sub>=0, x<sub>2</sub>= -c/b <br>\n",
    "setting, x<sub>2</sub>=0, x<sub>1</sub>= -c/a  <br>\n",
    "so, hyperplane_x<sub>1</sub>=[0, -c/a] <br>\n",
    "    hyperplane_x<sub>2</sub>=[-c/b, 0]"
   ]
  },
  {
   "cell_type": "code",
   "execution_count": 60,
   "metadata": {},
   "outputs": [
    {
     "name": "stdout",
     "output_type": "stream",
     "text": [
      "[0, 14.24284101892783]\n",
      "[10.71591780817709, 0]\n"
     ]
    }
   ],
   "source": [
    "#calculating decision boundary line.\n",
    "#from ax+by+c=0, setting x=0 and y=0 we get.\n",
    "px=[0, -w[0]/w[1] ] #x=0, and x=value for y=0\n",
    "print(px)\n",
    "px2=[ -w[0]/w[2], 0 ] #y= value for x=0, 0\n",
    "print(px2)"
   ]
  },
  {
   "cell_type": "code",
   "execution_count": 61,
   "metadata": {},
   "outputs": [
    {
     "data": {
      "image/png": "[encoded data removed]",
      "text/plain": [
       "<Figure size 432x288 with 1 Axes>"
      ]
     },
     "metadata": {
      "needs_background": "light"
     },
     "output_type": "display_data"
    }
   ],
   "source": [
    "plt.scatter(X[:,0],X[:,1],marker='o', c=y)  \n",
    "plt.plot(px, px2 )  \n",
    "plt.show()"
   ]
  },
  {
   "cell_type": "code",
   "execution_count": null,
   "metadata": {},
   "outputs": [],
   "source": []
  },
  {
   "cell_type": "markdown",
   "metadata": {},
   "source": [
    "#### Refs.\n",
    "1. https://zahidhasan.github.io/2017-09-10-perceptron/\n",
    "2. svm-succinctly book\n",
    "3. https://towardsdatascience.com/perceptron-learning-algorithm-d5db0deab975"
   ]
  },
  {
   "cell_type": "code",
   "execution_count": null,
   "metadata": {},
   "outputs": [],
   "source": []
  }
 ],
 "metadata": {
  "kernelspec": {
   "display_name": "Python 3",
   "language": "python",
   "name": "python3"
  },
  "language_info": {
   "codemirror_mode": {
    "name": "ipython",
    "version": 3
   },
   "file_extension": ".py",
   "mimetype": "text/x-python",
   "name": "python",
   "nbconvert_exporter": "python",
   "pygments_lexer": "ipython3",
   "version": "3.7.0"
  }
 },
 "nbformat": 4,
 "nbformat_minor": 2
}
