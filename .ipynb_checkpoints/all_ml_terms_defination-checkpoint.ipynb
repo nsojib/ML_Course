{
 "cells": [
  {
   "cell_type": "markdown",
   "metadata": {},
   "source": [
    "### All Machine Learning Terms Defination"
   ]
  },
  {
   "cell_type": "markdown",
   "metadata": {},
   "source": [
    "# To Update"
   ]
  },
  {
   "cell_type": "markdown",
   "metadata": {},
   "source": [
    "1. Tensor (scalar, vector, matrix, Tensor)\n",
    "2. Loss Function (mse, binary_crossentropy, caterogical_crossentropy)\n",
    "3. Activation Function (Sigmoid, signum, step, tanh, relu, softmax)\n",
    "4. Gradient Descent( SGD, Batch, Mini-Batch)\n",
    "5. Evaluation(Confusion matrix, precision, recall, f-measure)\n",
    "6. Dataset (Training, Testing, Validation, K-fold validation)\n",
    "7. Optimizer\n",
    "8. Classification, Regression, Clustering, RL\n",
    "9. Overfit, Underfit\n",
    "10. Entropy, Information Gain\n",
    "11. Distance (Euclidean, Manhattan)\n",
    "12. Feature Engineering"
   ]
  },
  {
   "cell_type": "markdown",
   "metadata": {},
   "source": [
    "#### Tensor\n",
    "|   Name     |dim. aka axes | info     | Typical Use    |\n",
    "|  -----     |---\t|---\t   | --------------------   |\n",
    "|  Scalar    |   0\t|   \t   | single value           |\n",
    "|  Vector    |   1\t|   \t   | Label                  |\n",
    "|  Matrix    |   2\t|row,column|        ??              |\n",
    "|  3D Tensor |   3\t|          | Time Series            |\n",
    "|  4D Tensor |   4\t|          | Image(nrow,w,h,channel)|\n",
    "|  5D Tensor |   5\t|          | Video(nrow,frame,w,h,channel)|\n",
    "\n",
    "##### Loss Function\n",
    "1. mse\n",
    "2. binary_crossentropy\n",
    "3. caterogical_crossentropy\n",
    "\n",
    "##### Activation Function\n",
    "1. sigmoid\n",
    "2. tanh\n",
    "3. relu\n",
    "4. softmax\n",
    "\n",
    "\n",
    "batch or minibatch often use power of two, for example 8 , 128 etc to facilitate memory allocation on gpu."
   ]
  },
  {
   "cell_type": "code",
   "execution_count": null,
   "metadata": {},
   "outputs": [],
   "source": []
  }
 ],
 "metadata": {
  "kernelspec": {
   "display_name": "Python 3",
   "language": "python",
   "name": "python3"
  },
  "language_info": {
   "codemirror_mode": {
    "name": "ipython",
    "version": 3
   },
   "file_extension": ".py",
   "mimetype": "text/x-python",
   "name": "python",
   "nbconvert_exporter": "python",
   "pygments_lexer": "ipython3",
   "version": "3.7.0"
  }
 },
 "nbformat": 4,
 "nbformat_minor": 2
}
