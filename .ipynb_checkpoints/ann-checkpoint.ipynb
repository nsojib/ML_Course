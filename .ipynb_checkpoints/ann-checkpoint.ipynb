{
 "cells": [
  {
   "cell_type": "markdown",
   "metadata": {},
   "source": [
    "### Neural Network (Multi Layer Perceptron )\n",
    "\n",
    "1. FeedForward to predict output\n",
    "2. Backpropagation to train the network to adjust weights with the help of error function"
   ]
  },
  {
   "cell_type": "code",
   "execution_count": 1,
   "metadata": {},
   "outputs": [],
   "source": [
    "import numpy as np\n",
    "import matplotlib.pyplot as plt"
   ]
  },
  {
   "cell_type": "markdown",
   "metadata": {},
   "source": [
    "#### XOR Problem. Nonlinearity\n",
    "<b>Perceptron or other linear classifier can't solve XOR problem. So, we need to devise new strategy. Here the Neural Network comes as rescue."
   ]
  },
  {
   "cell_type": "code",
   "execution_count": 12,
   "metadata": {},
   "outputs": [
    {
     "name": "stdout",
     "output_type": "stream",
     "text": [
      "[[0 0]\n",
      " [0 1]\n",
      " [1 0]\n",
      " [1 1]]\n",
      "[0 1 1 0]\n"
     ]
    }
   ],
   "source": [
    "X=np.array([ [0,0],[0,1], [1,0], [1,1] ])\n",
    "y=np.array([0,1,1,0])\n",
    "print(X)\n",
    "print(y)"
   ]
  },
  {
   "cell_type": "code",
   "execution_count": 13,
   "metadata": {},
   "outputs": [
    {
     "data": {
      "image/png": "[encoded data removed]",
      "text/plain": [
       "<Figure size 432x288 with 1 Axes>"
      ]
     },
     "metadata": {
      "needs_background": "light"
     },
     "output_type": "display_data"
    }
   ],
   "source": [
    "plt.scatter(X[:,0],X[:,1],marker='o', c=y) \n",
    "plt.xlim(-1,2)\n",
    "plt.ylim(-1,2)\n",
    "plt.show()"
   ]
  },
  {
   "cell_type": "markdown",
   "metadata": {},
   "source": [
    "### Neural Network with one hidden layer\n",
    "<img src='imgs/myann.png'>"
   ]
  },
  {
   "cell_type": "markdown",
   "metadata": {},
   "source": [
    "#### Derivative of sigmoid\n",
    "$$\n",
    "\\begin{equation}\n",
    "\\sigma(x)=\\frac{1}{1+e^{-x} }  \\\\\n",
    "{\\bf \\frac{d\\sigma(x)}{dx}=\\frac{ d(1+e^{-x} )^{-1} }{dx} }\\\\\n",
    "=-1(1+e^{-x} )^{-2}  \\frac{de^{-x}}{dx}=-1(1+e^{-x} )^{-2} e^{-x} (-1)=(1+e^{-x} )^{-2} e^{-x}=\\frac{e^{-x}}{(1+e^{-x} )^2} =\\frac{e^{-x}}{(1+e^{-x} )(1+e^{-x} )}=  \\frac{ 1}{1+e^{-x}}  \\frac{ e^{-x}+1-1}{1+e^{-x}}\n",
    "=\\frac{1}{1+e^{-x}  } (\\frac{(1+e^{-x})}{(1+e^{-x} }-   \\frac{1}{1+e^{-x}} )=\\frac{1}{1+e^{-x}} (1-   \\frac{1}{1+e^{-x} })\n",
    "\\\\= {\\bf \\sigma(x)(1-\\sigma(x)) }\\\\\n",
    "so, {\\bf \\frac{d\\sigma(x)}{dx}= y(1-y)} ,where\\space {\\bf y=\\sigma(x) }\n",
    "\\end{equation}\n",
    "$$"
   ]
  },
  {
   "cell_type": "markdown",
   "metadata": {},
   "source": [
    "### Feed Forward\n",
    "$$\n",
    "\\begin{equation}\n",
    "z0=W[0][0].X[0]+W[0][1].X[1]+W[0][2].X[2] \\\\\n",
    "h[1]=sigmoid(z0) \\\\\n",
    "z1=W[1][0].X[0]+W[1][1].X[1]+W[1][2].X[2] \\\\\n",
    "h[2]=sigmoid(z1) \\\\\n",
    "z2=W2[0].h[0] +W2[1].h[1] +W2[2].h[2]   \\\\\n",
    "y=sigmoid(z2)\n",
    "\\end{equation}\n",
    "$$"
   ]
  },
  {
   "cell_type": "markdown",
   "metadata": {},
   "source": [
    "#### Neural Network Details\n",
    "<img src='imgs/myann2.png'>"
   ]
  },
  {
   "cell_type": "markdown",
   "metadata": {},
   "source": [
    "### Backpropagation"
   ]
  },
  {
   "cell_type": "markdown",
   "metadata": {},
   "source": [
    "#### W2 Gradient\n",
    "$$\n",
    "\\begin{equation}\n",
    "Error=(y-y\\_actual )^2  =( \\space {\\bf sigmoid(z2)}-y\\_actual )^2 \n",
    "=( \\space sigmoid {\\bf ( \\space W2[0].h[0] +W2[1].h[1] +W2[2].h[2] \\space) }  -y\\_actual )^2 \\\\\n",
    "Using \\space chain \\space rule,\n",
    "{\\bf \\frac{\\partial Error}{\\partial W2[0]}=\\frac{\\partial Error}{\\partial y} * \\frac{\\partial y}{\\partial z2}* \\frac{\\partial z2}{\\partial W2[0]} }\n",
    "\\end{equation}\n",
    "$$"
   ]
  },
  {
   "cell_type": "markdown",
   "metadata": {},
   "source": [
    "Now,\n",
    "$$\n",
    "\\begin{equation}\n",
    "\\frac{\\partial z2}{\\partial W2[0]}=h[0] \\\\\n",
    " \\frac{\\partial y}{\\partial z2}=sigmoid\\_derivative(z2) ={\\bf sigmoid\\_derivative(y) }  \\quad where \\space y=sigmoid(z2)\\\\\n",
    "And, \\frac{\\partial Error}{\\partial y}=2(y-y\\_actual) \\\\\n",
    "{\\bf So,}\\\\\n",
    "\\frac{\\partial Error}{\\partial W2[{\\bf0}]}=2(y-y\\_actual)*sigmoid\\_derivative(y)*h[{\\bf0}] \\\\\n",
    "Similarly, \\\\ \n",
    "\\frac{\\partial Error}{\\partial W2[{\\bf1}]}=2(y-y\\_actual)*sigmoid\\_derivative(y)*h[{\\bf1}] \\\\\n",
    "\\frac{\\partial Error}{\\partial W2[{\\bf2}]}=2(y-y\\_actual)*sigmoid\\_derivative(y)*h[{\\bf2}] \\\\\n",
    "By \\space Combining \\space these, \\\\\n",
    "{\\bf \\frac{\\partial Error}{\\partial W2}=2(y-y\\_actual )*sigmoid\\_derivative(y)*h }\n",
    "\\end{equation}\n",
    "$$"
   ]
  },
  {
   "cell_type": "markdown",
   "metadata": {},
   "source": [
    "#### W1 Gradient for the hidden neurons.\n",
    "$$\n",
    "\\begin{equation}\n",
    "Error=(y-y\\_actual )^2  \n",
    "=( {\\bf sigmoid(z2)}-y\\_actual )^2 \n",
    "=(sigmoid( \\space {\\bf W2[0].h[0] +W2[1].h[1] +W2[2].h[2] } \\space)-y\\_actual )^2 \\\\\n",
    "=(sigmoid(W2[0].{\\bf 1} +W2[1].{\\bf sigmoid(z0)} +W2[2].{\\bf sigmoid(z1)})-y\\_actual )^2 \\\\\n",
    "=(sigmoid(W2[0].1 +W2[1].sigmoid {\\bf (W[0][0].X[0]+W[0][1].X[1]+W[0][2].X[2]) } +W2[2].sigmoid({\\bf W[1][0].X[0]+W[1][1].X[1]+W[1][2].X[2]) })-y\\_actual )^2 \\\\\n",
    "Using \\space chain \\space rule,\n",
    "{\\bf \\frac{\\partial Error}{\\partial W[0][0]}=\\frac{\\partial Error}{\\partial y} * \\frac{\\partial y}{\\partial z2}*\\frac{\\partial z2}{\\partial h[1]}*\\frac{\\partial h[1]}{\\partial z0}*\\frac{\\partial z0}{\\partial W[0][0]} }\n",
    "\\end{equation}\n",
    "$$"
   ]
  },
  {
   "cell_type": "markdown",
   "metadata": {},
   "source": [
    "Now,\n",
    "$$\n",
    "\\begin{equation}\n",
    "\\frac{\\partial z0}{\\partial W[0][0]}=X[0]\\\\\n",
    "\\frac{\\partial h[1]}{\\partial z0}=sigmoid\\_derivative(z0)={\\bf sigmoid\\_derivative(h[1]) }  \\quad where \\space h[1]=sigmoid(z0)  \\\\\n",
    "\\frac{\\partial z2}{\\partial h[1]}=W2[1] \\\\\n",
    "\\frac{\\partial y}{\\partial z2}=sigmoid\\_derivative(z2)={\\bf sigmoid\\_derivative(y) } \\quad where \\space y=sigmoid(z2)\\\\\n",
    "\\frac{\\partial Error}{\\partial y}=2(y-y\\_actual ) \\\\\n",
    "So, \\\\\n",
    "\\frac{\\partial Error}{\\partial W[0][0]} =2(y-y\\_actual )*sigmoid\\_derivative(y)*W2[1]*sigmoid\\_derivative(h[1]) *X[0] \\\\\n",
    "Similarly, \\\\\n",
    "\\frac{\\partial Error}{\\partial W[0][{\\bf 1}]}=2(y-y\\_actual )*sigmoid\\_derivative(y)*W2[1]*sigmoid\\_derivative(h[1]) *X[{\\bf 1}] \\\\\n",
    "\\frac{\\partial Error}{\\partial W[0][{\\bf 2}]}=2(y-y\\_actual )*sigmoid\\_derivative(y)*W2[1]*sigmoid\\_derivative(h[1]) *X[{\\bf 2}] \\\\\n",
    "Combining \\space these, \\\\\n",
    "for \\space the \\space first \\space neuron, \\frac{\\partial Error}{\\partial W[0]} =2(y-y\\_actual )*sigmoid\\_derivative(y)*W2[1]*sigmoid\\_derivative(h1) *X \\\\\n",
    "Similarly, \\\\for \\space the \\space second \\space neuron,\n",
    "\\frac{\\partial Error}{\\partial W[{\\bf 1}]} =2(y-y\\_actual )*sigmoid\\_derivative(y)*W2[{\\bf 2}]*sigmoid\\_derivative(h2) *X\n",
    "\\end{equation}\n",
    "$$"
   ]
  },
  {
   "cell_type": "markdown",
   "metadata": {},
   "source": [
    "### Update weights\n",
    "w2=w2+w2_derivative <br>\n",
    "w=w+w_derivative"
   ]
  },
  {
   "cell_type": "markdown",
   "metadata": {},
   "source": [
    "### Codes"
   ]
  },
  {
   "cell_type": "code",
   "execution_count": 14,
   "metadata": {},
   "outputs": [],
   "source": [
    "def sigmoid(s):\n",
    "    return 1/(1+np.exp(-s))\n",
    "\n",
    "def sigmoid_derivative(y):\n",
    "    return y * (1 - y)"
   ]
  },
  {
   "cell_type": "code",
   "execution_count": 15,
   "metadata": {},
   "outputs": [],
   "source": [
    "def feed_forward(X, w1, w2):\n",
    "    z=np.dot( X, w1.T)\n",
    "    h = sigmoid(z)   \n",
    "    h = np.column_stack((np.ones(len(h)), h))\n",
    "    z2=np.dot( h, w2.T)\n",
    "    output = sigmoid(z2)\n",
    "    return output, h"
   ]
  },
  {
   "cell_type": "code",
   "execution_count": 16,
   "metadata": {},
   "outputs": [],
   "source": [
    "#Derivative with respect to w2\n",
    "def dw2(y,o,h):\n",
    "    tw2d=0\n",
    "    for i in range( len(y)):\n",
    "        w2d=2*(y[i] - o[i])*sigmoid_derivative(o[i])*h[i]\n",
    "        tw2d+=w2d\n",
    "    return tw2d"
   ]
  },
  {
   "cell_type": "code",
   "execution_count": 17,
   "metadata": {},
   "outputs": [],
   "source": [
    "def w1d_for_singleneuron(neuron_i, y,o,W2, h,X):\n",
    "    sd=0\n",
    "    for i in range( len(y)):\n",
    "        d=2*(y[i] - o[i])*sigmoid_derivative(o[i])*W2[neuron_i+1]*sigmoid_derivative(h[i][neuron_i+1])*X[i]\n",
    "        sd+=d\n",
    "    return sd\n",
    "def dw1(y,o,h,W2,X):\n",
    "    w1dm=[]\n",
    "    for j in range(hiddenSize):\n",
    "        w1dd=w1d_for_singleneuron(j, y,o,W2, h,X)\n",
    "        w1dm.append(w1dd)\n",
    "    w1dm=np.array(w1dm)\n",
    "    return w1dm"
   ]
  },
  {
   "cell_type": "code",
   "execution_count": 18,
   "metadata": {},
   "outputs": [
    {
     "name": "stdout",
     "output_type": "stream",
     "text": [
      "[[1. 0. 0.]\n",
      " [1. 0. 1.]\n",
      " [1. 1. 0.]\n",
      " [1. 1. 1.]]\n",
      "[0 1 1 0]\n"
     ]
    }
   ],
   "source": [
    "X = np.array(([0, 0], [0, 1], [1, 0], [1,1]), dtype=float)\n",
    "y=np.array([0,1,1,0])\n",
    "X= np.column_stack((np.ones(X.shape[0]), X))\n",
    "print(X)\n",
    "print(y)"
   ]
  },
  {
   "cell_type": "code",
   "execution_count": 19,
   "metadata": {},
   "outputs": [
    {
     "data": {
      "text/plain": [
       "4"
      ]
     },
     "execution_count": 19,
     "metadata": {},
     "output_type": "execute_result"
    }
   ],
   "source": [
    "len(y)"
   ]
  },
  {
   "cell_type": "code",
   "execution_count": 20,
   "metadata": {},
   "outputs": [
    {
     "name": "stdout",
     "output_type": "stream",
     "text": [
      "[[-0.20697116  0.36545868  1.05774621]\n",
      " [-1.00447734  0.73989514  0.51810612]]\n",
      "[-0.43432543 -0.66831931  0.79255815]\n"
     ]
    }
   ],
   "source": [
    "inputSize = 2\n",
    "outputSize = 1\n",
    "hiddenSize = 2\n",
    "# hiddenSize = 3\n",
    "w1 = np.random.randn(hiddenSize, inputSize+1)    #1 bias for each hidden neuron\n",
    "w2 = np.random.randn(outputSize,hiddenSize+1)[0]  #1 bias for each output neuron\n",
    "print(w1)\n",
    "print(w2)"
   ]
  },
  {
   "cell_type": "code",
   "execution_count": 21,
   "metadata": {},
   "outputs": [
    {
     "name": "stdout",
     "output_type": "stream",
     "text": [
      "[0.03294574 0.97103672 0.97100113 0.03034028]\n"
     ]
    }
   ],
   "source": [
    "lr=0.1\n",
    "nepoch=10000\n",
    "errors=[]\n",
    "for i in range(nepoch):\n",
    "    o,h=feed_forward(X,w1,w2)\n",
    "    w2_d=dw2(y,o,h)\n",
    "    w1_d=dw1(y,o,h,w2,X)\n",
    "\n",
    "    w1 +=  lr * w1_d\n",
    "    w2 += lr * w2_d \n",
    "    \n",
    "    error=np.mean(np.square(y - o))\n",
    "    errors.append(error)\n",
    "\n",
    "o,h=feed_forward(X,w1,w2)\n",
    "print(o)"
   ]
  },
  {
   "cell_type": "markdown",
   "metadata": {},
   "source": [
    "#### This output is close to the original output. So, it correctly classified all the data."
   ]
  },
  {
   "cell_type": "code",
   "execution_count": 12,
   "metadata": {},
   "outputs": [
    {
     "name": "stdout",
     "output_type": "stream",
     "text": [
      "[0.02833913 0.96800925 0.97345611 0.02499188]\n"
     ]
    }
   ],
   "source": [
    "o,h=feed_forward(X,w1,w2)\n",
    "print(o)"
   ]
  },
  {
   "cell_type": "code",
   "execution_count": 15,
   "metadata": {},
   "outputs": [
    {
     "data": {
      "image/png": "[encoded data removed]",
      "text/plain": [
       "<Figure size 432x288 with 1 Axes>"
      ]
     },
     "metadata": {
      "needs_background": "light"
     },
     "output_type": "display_data"
    }
   ],
   "source": [
    "#Plotting the cost\n",
    "npt=nepoch\n",
    "plt.plot(errors)\n",
    "plt.title('error over epoch')\n",
    "plt.show()"
   ]
  },
  {
   "cell_type": "markdown",
   "metadata": {},
   "source": [
    "#### Testing Functions"
   ]
  },
  {
   "cell_type": "code",
   "execution_count": 23,
   "metadata": {},
   "outputs": [
    {
     "name": "stdout",
     "output_type": "stream",
     "text": [
      "[[ 6.87139538 -4.61571361 -4.61751662]\n",
      " [ 2.31402393 -5.82712504 -5.83420121]]\n",
      "[-4.07285475  8.70317512 -9.0388925 ]\n"
     ]
    }
   ],
   "source": [
    "print(w1)\n",
    "print(w2)"
   ]
  },
  {
   "cell_type": "code",
   "execution_count": 24,
   "metadata": {},
   "outputs": [
    {
     "name": "stdout",
     "output_type": "stream",
     "text": [
      "[[ 2.7  0.8  0.7]\n",
      " [ 3.  -6.   6.4]\n",
      " [ 3.   6.6 -6.3]]\n",
      "[ 7.3  6.  -8.8 -8.8]\n"
     ]
    }
   ],
   "source": [
    "#3 hidden.\n",
    "sw1=[[ 2.7 , 0.8 , 0.7],\n",
    " [ 3 , -6 , 6.4],\n",
    " [ 3 , 6.6 ,-6.3]]\n",
    "sw1=np.array(sw1)\n",
    "print(sw1)\n",
    "\n",
    "sw2=np.array([ 7.3 , 6.0 , -8.8 , -8.8])\n",
    "print(sw2)"
   ]
  },
  {
   "cell_type": "code",
   "execution_count": 46,
   "metadata": {},
   "outputs": [],
   "source": [
    "w1=sw1\n",
    "w2=sw2"
   ]
  },
  {
   "cell_type": "code",
   "execution_count": 22,
   "metadata": {},
   "outputs": [
    {
     "name": "stdout",
     "output_type": "stream",
     "text": [
      "[[-2.8  6.3  6.3]\n",
      " [-7.2  4.7  4.7]]\n",
      "[ -4.5   9.6 -10.2]\n"
     ]
    }
   ],
   "source": [
    "#two hidden.\n",
    "aw1=[[-2.8  , 6.3 , 6.3],\n",
    " [-7.2 , 4.7 , 4.7]]\n",
    "aw1=np.array(aw1)\n",
    "aw2=np.array([ -4.5  , 9.6 , -10.2 ])\n",
    "print(aw1)\n",
    "print(aw2)"
   ]
  },
  {
   "cell_type": "code",
   "execution_count": 23,
   "metadata": {},
   "outputs": [],
   "source": [
    "w1=aw1\n",
    "w2=aw2"
   ]
  },
  {
   "cell_type": "code",
   "execution_count": 24,
   "metadata": {},
   "outputs": [
    {
     "name": "stdout",
     "output_type": "stream",
     "text": [
      "[0.01875618 0.98278906 0.98278906 0.01657612]\n",
      "[[1.00000000e+00 5.73241759e-02 7.46028834e-04]\n",
      " [1.00000000e+00 9.70687769e-01 7.58581800e-02]\n",
      " [1.00000000e+00 9.70687769e-01 7.58581800e-02]\n",
      " [1.00000000e+00 9.99944551e-01 9.00249511e-01]]\n"
     ]
    }
   ],
   "source": [
    "o,h=feed_forward(X,w1,w2)\n",
    "print(o)\n",
    "print(h)"
   ]
  },
  {
   "cell_type": "code",
   "execution_count": 33,
   "metadata": {},
   "outputs": [
    {
     "name": "stdout",
     "output_type": "stream",
     "text": [
      "Loss: \n",
      "0.0002926641438423043\n"
     ]
    }
   ],
   "source": [
    "print(\"Loss: \\n\" + str(np.mean(np.square(y - o))) ) # mean sum squared loss"
   ]
  },
  {
   "cell_type": "markdown",
   "metadata": {},
   "source": [
    "#### Function Check"
   ]
  },
  {
   "cell_type": "code",
   "execution_count": 32,
   "metadata": {},
   "outputs": [
    {
     "data": {
      "text/plain": [
       "0.5001865071998498"
      ]
     },
     "execution_count": 32,
     "metadata": {},
     "output_type": "execute_result"
    }
   ],
   "source": [
    "sigmoid(7.46028834e-04)"
   ]
  },
  {
   "cell_type": "code",
   "execution_count": 41,
   "metadata": {},
   "outputs": [
    {
     "name": "stdout",
     "output_type": "stream",
     "text": [
      "-2.8\n"
     ]
    },
    {
     "data": {
      "text/plain": [
       "0.057324175898868755"
      ]
     },
     "execution_count": 41,
     "metadata": {},
     "output_type": "execute_result"
    }
   ],
   "source": [
    "z=np.dot(X[0], w1[0])\n",
    "print(z)\n",
    "sigmoid(z)"
   ]
  },
  {
   "cell_type": "code",
   "execution_count": 42,
   "metadata": {},
   "outputs": [
    {
     "name": "stdout",
     "output_type": "stream",
     "text": [
      "-7.2\n"
     ]
    },
    {
     "data": {
      "text/plain": [
       "0.000746028833836697"
      ]
     },
     "execution_count": 42,
     "metadata": {},
     "output_type": "execute_result"
    }
   ],
   "source": [
    "z1=np.dot(X[0], w1[1])\n",
    "print(z1)\n",
    "sigmoid(z1)"
   ]
  },
  {
   "cell_type": "code",
   "execution_count": 43,
   "metadata": {},
   "outputs": [],
   "source": [
    "nh=np.array([1, 0.057324175898868755, 0.000746028833836697])"
   ]
  },
  {
   "cell_type": "code",
   "execution_count": 45,
   "metadata": {},
   "outputs": [
    {
     "name": "stdout",
     "output_type": "stream",
     "text": [
      "-3.957297405475994\n"
     ]
    },
    {
     "data": {
      "text/plain": [
       "0.01875618492135816"
      ]
     },
     "execution_count": 45,
     "metadata": {},
     "output_type": "execute_result"
    }
   ],
   "source": [
    "z2=np.dot(nh, w2)\n",
    "print(z2)\n",
    "sigmoid(z2)"
   ]
  },
  {
   "cell_type": "code",
   "execution_count": null,
   "metadata": {},
   "outputs": [],
   "source": []
  },
  {
   "cell_type": "code",
   "execution_count": 14,
   "metadata": {},
   "outputs": [
    {
     "name": "stdout",
     "output_type": "stream",
     "text": [
      "[ 0.00177386 -0.00116406 -0.00118818]\n"
     ]
    }
   ],
   "source": [
    "od=dw2(y,o,h)\n",
    "print(od)"
   ]
  },
  {
   "cell_type": "code",
   "execution_count": 32,
   "metadata": {},
   "outputs": [
    {
     "name": "stdout",
     "output_type": "stream",
     "text": [
      "0 0.01875618492135816 [1.00000000e+00 5.73241759e-02 7.46028834e-04]\n"
     ]
    }
   ],
   "source": [
    "print(y[0], o[0], h[0])"
   ]
  },
  {
   "cell_type": "code",
   "execution_count": 35,
   "metadata": {},
   "outputs": [
    {
     "data": {
      "text/plain": [
       "-5.150525633808613e-07"
      ]
     },
     "execution_count": 35,
     "metadata": {},
     "output_type": "execute_result"
    }
   ],
   "source": [
    "2*(y[0] - o[0])*sigmoid_derivative(o[0])*h[0][2]"
   ]
  },
  {
   "cell_type": "code",
   "execution_count": 30,
   "metadata": {},
   "outputs": [
    {
     "data": {
      "text/plain": [
       "0.000690392301"
      ]
     },
     "execution_count": 30,
     "metadata": {},
     "output_type": "execute_result"
    }
   ],
   "source": [
    "6.90392301e-04"
   ]
  },
  {
   "cell_type": "code",
   "execution_count": 31,
   "metadata": {},
   "outputs": [
    {
     "data": {
      "text/plain": [
       "3.95761697e-05"
      ]
     },
     "execution_count": 31,
     "metadata": {},
     "output_type": "execute_result"
    }
   ],
   "source": [
    "3.95761697e-05"
   ]
  },
  {
   "cell_type": "code",
   "execution_count": 40,
   "metadata": {},
   "outputs": [
    {
     "name": "stdout",
     "output_type": "stream",
     "text": [
      "[-0.00035815 -0.         -0.        ]\n"
     ]
    }
   ],
   "source": [
    "i=0\n",
    "neuron_i=0\n",
    "d=2*(y[i] - o[i])*sigmoid_derivative(o[i])*w2[neuron_i+1]*sigmoid_derivative(h[i][neuron_i+1])*X[i]\n",
    "print(d)"
   ]
  },
  {
   "cell_type": "code",
   "execution_count": null,
   "metadata": {},
   "outputs": [],
   "source": []
  }
 ],
 "metadata": {
  "kernelspec": {
   "display_name": "Python 3",
   "language": "python",
   "name": "python3"
  },
  "language_info": {
   "codemirror_mode": {
    "name": "ipython",
    "version": 3
   },
   "file_extension": ".py",
   "mimetype": "text/x-python",
   "name": "python",
   "nbconvert_exporter": "python",
   "pygments_lexer": "ipython3",
   "version": "3.7.0"
  }
 },
 "nbformat": 4,
 "nbformat_minor": 2
}
