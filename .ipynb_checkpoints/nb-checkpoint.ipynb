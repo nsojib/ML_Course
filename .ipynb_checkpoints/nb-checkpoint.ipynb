{
 "cells": [
  {
   "cell_type": "markdown",
   "metadata": {},
   "source": [
    "## Naive Bayes"
   ]
  },
  {
   "cell_type": "code",
   "execution_count": 1,
   "metadata": {},
   "outputs": [],
   "source": [
    "from pprint import pprint\n",
    "from math import log\n",
    "import numpy as np\n",
    "import pandas as pd\n",
    "import operator"
   ]
  },
  {
   "cell_type": "markdown",
   "metadata": {},
   "source": [
    "|  class  |  docs  |\n",
    "| -------------- |-----------|\n",
    "|spam| সে ভাল না|\n",
    "|spam|সে খুব খারাপ মানুষ|\n",
    "|spam|আমি খারাপ আছি|\n",
    "|spam|রোবট খারাপ|\n",
    "|ham|আমি ভাল আছি|\n",
    "|ham|সুন্দর সুন্দর রোবট|\n",
    "|ham|আমি রোবট ভালবাসি|\n",
    "|ham|সে সুন্দর|\n",
    "|ham|সে ভাল মানুষ|"
   ]
  },
  {
   "cell_type": "markdown",
   "metadata": {},
   "source": [
    "<b>\n",
    "Word Counts: {'সে': 4, 'ভাল': 3, 'খারাপ': 3, 'আমি': 3, 'রোবট': 3, 'সুন্দর': 3, 'মানুষ': 2, 'আছি': 2, 'না': 1, 'খুব': 1, 'ভালবাসি': 1}\n",
    "\n",
    "Word counts in Spam: {'খারাপ': 3, 'সে': 2, 'ভাল': 1, 'না': 1, 'খুব': 1, 'মানুষ': 1, 'আমি': 1, 'আছি': 1, 'রোবট': 1} <br>\n",
    "Word Counts in Ham: {'সুন্দর': 3, 'আমি': 2, 'ভাল': 2, 'রোবট': 2, 'সে': 2, 'আছি': 1, 'ভালবাসি': 1, 'মানুষ': 1} <br>\n",
    "<br>\n",
    "#Words:  26<br>\n",
    "#Words in Spam:  12<br>\n",
    "#Words in Ham:  14"
   ]
  },
  {
   "cell_type": "markdown",
   "metadata": {},
   "source": [
    "### Marginal Probability\n",
    "\n",
    "P(ভাল) = 3 / 26\n",
    "\n",
    "P(Spam) = 4/9             [4 out of 9 documents are spam] <br>\n",
    "P(Ham) = 5/9              [5 out of 9 documents are Ham]"
   ]
  },
  {
   "cell_type": "markdown",
   "metadata": {},
   "source": [
    "### Conditional Probability\n",
    "P(ভাল | Spam ) = 1/12 <br>\n",
    "P(ভাল | Ham ) = 2/14\n",
    "\n",
    "P(ভাল | Spam ) Means given evidence is Spam, what is the probability of ভাল? [Spam এ ভাল এর Probability ]<br>\n",
    "P(ভাল | Ham ) Means given evidence is Ham, what is the probability of ভাল? [Ham এ ভাল এর Probability ]"
   ]
  },
  {
   "cell_type": "markdown",
   "metadata": {},
   "source": [
    "### Goal\n",
    "P(Spam | ভাল) = ?   [ ভাল এ Spam হওয়ার Probabilit]"
   ]
  },
  {
   "cell_type": "markdown",
   "metadata": {},
   "source": [
    "### Conditional Probability Again [The Bayes Theorem]\n",
    "\n",
    "From rules,\n",
    "P(Spam | ভাল) = P( Spam এবং ভাল) / P(ভাল)  <br>\n",
    "$$P(Spam | ভাল) = \\frac{ P( Spam \\cap ভাল) }{ P(ভাল)}$$\n",
    "\n",
    "P(ভাল |Spam) = P( Spam এবং ভাল) / P(Spam)\n",
    "$$P(ভাল |Spam) = \\frac{ P( Spam \\cap ভাল) }{P(Spam)}$$\n",
    "\n",
    "So,\n",
    "P(Spam | ভাল) = ( P(ভাল |Spam) * P(Spam)) / P(ভাল)\n",
    "$$P(Spam | ভাল) = \\frac{ P(ভাল | Spam)  P(Spam) }{ P(ভাল)}$$\n",
    "\n",
    "\n",
    "P(Spam | ভাল) = ( 1/12 * 4/9 ) / 3/26 = 0.0004748338 <br>\n",
    "P(Ham | ভাল ) = ( P(ভাল | Ham ) * P(Ham) ) / P(ভাল) = ( 2/14 * 5/9) / 3/26 = 0.00101750101\n",
    "\n",
    "So, P(Ham | ভাল ) > P(Spam | ভাল)"
   ]
  },
  {
   "cell_type": "markdown",
   "metadata": {},
   "source": [
    "### Bayes Theorem for Multiple Featuer.\n",
    "\n",
    "Let, X=[x1, x2, x3]\n",
    "$$P(Class | X) = \\frac{ P(x1 | Class)   P(x2 | Class)   P(x3 | Class)  P(Class)  }{P(x1)   P(X2)   P(x3)}$$\n",
    "\n",
    "\n",
    "P(Spam | ভাল রোবট ) =( P(ভাল | Spam) \\* P(রোবট | Spam) \\* P(Spam) ) / ( P(ভাল) \\* P(রোবট) ) = 0.23 <br>\n",
    "\n",
    "\n",
    "P(Ham | ভাল রোবট ) =( P(ভাল | Ham) \\* P(রোবট | Ham) \\* P(Ham) ) / ( P(ভাল) \\* P(রোবট) ) = 0.85\n",
    "\n",
    "So, P(Ham | ভাল রোবট ) > P(Spam | ভাল রোবট )"
   ]
  },
  {
   "cell_type": "markdown",
   "metadata": {},
   "source": [
    "#### Terms\n",
    "P(y|X)= ( P(X|y) *  P(y) ) / P(X) \n",
    "\n",
    "P(y) is called the prior probability, while P(y|X) is called the posterior probability. \n",
    "\n",
    "The factor that relates the two, P(X|y)/P(X), is called the likelihood ratio. \n",
    "\n",
    "Using these terms, Bayes' theorem can be rephrased as:\n",
    "\n",
    "\"The posterior probability equals the prior probability times the likelihood ratio.\"\n"
   ]
  },
  {
   "cell_type": "markdown",
   "metadata": {},
   "source": [
    "#### Why Naive\n",
    "\n",
    "It treat every feature independently regardless which order they appear.\n",
    "\n",
    "example.\n",
    "\"today is a great day\" and \"great today is a day\" gives same probability."
   ]
  },
  {
   "cell_type": "markdown",
   "metadata": {},
   "source": [
    "### Conditional Probability and Bayes theorem is equivalant but represents differently.\n",
    "\n",
    "Conditional, P(A|B) = P(A and B) / P(B)\n",
    "\n",
    "Bayes, P(A|B) = P(B|A)*P(A) / P(B) \n",
    "\n",
    "<b>The beauty of Bayes theorem is P(A and B) = P(B|A)*P(A)"
   ]
  },
  {
   "cell_type": "markdown",
   "metadata": {},
   "source": [
    "## Coding Spam Filter Using Naive Bayes"
   ]
  },
  {
   "cell_type": "code",
   "execution_count": 57,
   "metadata": {},
   "outputs": [],
   "source": [
    "spam=[\n",
    "        'সে ভাল না',\n",
    "        'পড়তে ভাল লাগে না',\n",
    "        'সে খারাপ ছাত্র',\n",
    "        'আমি খারাপ আছি',\n",
    "        'সে পরিশ্রমী না',\n",
    "        'আমার ভাল ভাল লাগে না',\n",
    "        'জীবন খারাপ',\n",
    "        'সে সুন্দর না',\n",
    "        'সে দেখতে চৎকার না'\n",
    "    ]\n",
    "ham=[\n",
    "        'আমি ভাল আছি',\n",
    "        'আমি জীবন ভালবাসি',\n",
    "        'আমি অনেক শক্তিশালী',\n",
    "        'আমি আকর্ষণীয়',\n",
    "        'আমি রোবট ভালবাসি',\n",
    "        'সুন্দর সুন্দর রোবট',\n",
    "        'খুব সুন্দর ফুল',\n",
    "        'ফুল খুব চমৎকার',\n",
    "        'আমার পড়তে ভাল লাগে'\n",
    "    ]"
   ]
  },
  {
   "cell_type": "code",
   "execution_count": 58,
   "metadata": {},
   "outputs": [],
   "source": [
    "# #Section B class data\n",
    "# spam=[\n",
    "#     'সে ভাল না',\n",
    "#     'সে খুব খারাপ মানুষ',\n",
    "#     'আমি খারাপ আছি',\n",
    "#     'রোবট খারাপ'\n",
    "# ]\n",
    "\n",
    "# ham=[\n",
    "#     'আমি ভাল আছ',\n",
    "#     'সুন্দর সুন্দর রোবট',\n",
    "#     'আমি রোবট ভালবাসি',\n",
    "#     'সে সুন্দর',\n",
    "#     'সে ভাল মানুষ'\n",
    "# ]"
   ]
  },
  {
   "cell_type": "code",
   "execution_count": 59,
   "metadata": {},
   "outputs": [],
   "source": [
    "corpus=spam.copy()\n",
    "corpus.extend(ham)"
   ]
  },
  {
   "cell_type": "code",
   "execution_count": 60,
   "metadata": {},
   "outputs": [
    {
     "name": "stdout",
     "output_type": "stream",
     "text": [
      "['সে ভাল না', 'পড়তে ভাল লাগে না', 'সে খারাপ ছাত্র', 'আমি খারাপ আছি', 'সে পরিশ্রমী না', 'আমার ভাল ভাল লাগে না', 'জীবন খারাপ', 'সে সুন্দর না', 'সে দেখতে চৎকার না', 'আমি ভাল আছি', 'আমি জীবন ভালবাসি', 'আমি অনেক শক্তিশালী', 'আমি আকর্ষণীয়', 'আমি রোবট ভালবাসি', 'সুন্দর সুন্দর রোবট', 'খুব সুন্দর ফুল', 'ফুল খুব চমৎকার', 'আমার পড়তে ভাল লাগে']\n"
     ]
    }
   ],
   "source": [
    "print(corpus)"
   ]
  },
  {
   "cell_type": "code",
   "execution_count": 61,
   "metadata": {},
   "outputs": [
    {
     "name": "stdout",
     "output_type": "stream",
     "text": [
      "[1. 1. 1. 1. 1. 1. 1. 1. 1. 0. 0. 0. 0. 0. 0. 0. 0. 0.]\n"
     ]
    }
   ],
   "source": [
    "y=np.zeros(len(corpus))\n",
    "for i in range( len(spam)):\n",
    "    y[i]=1  #1 ->spam\n",
    "print(y)"
   ]
  },
  {
   "cell_type": "code",
   "execution_count": 62,
   "metadata": {},
   "outputs": [
    {
     "name": "stdout",
     "output_type": "stream",
     "text": [
      "Total Corpus:\n",
      "['সে ভাল না', 'পড়তে ভাল লাগে না', 'সে খারাপ ছাত্র', 'আমি খারাপ আছি', 'সে পরিশ্রমী না', 'আমার ভাল ভাল লাগে না', 'জীবন খারাপ', 'সে সুন্দর না', 'সে দেখতে চৎকার না', 'আমি ভাল আছি', 'আমি জীবন ভালবাসি', 'আমি অনেক শক্তিশালী', 'আমি আকর্ষণীয়', 'আমি রোবট ভালবাসি', 'সুন্দর সুন্দর রোবট', 'খুব সুন্দর ফুল', 'ফুল খুব চমৎকার', 'আমার পড়তে ভাল লাগে']\n",
      "total doc= 18  nspam= 9  nham= 9\n"
     ]
    }
   ],
   "source": [
    "print('Total Corpus:')\n",
    "print(corpus)\n",
    "ndoc=len(corpus)\n",
    "nspam=len(spam)\n",
    "nham=len(ham)\n",
    "print('total doc=',ndoc, ' nspam=',nspam,' nham=',nham)"
   ]
  },
  {
   "cell_type": "code",
   "execution_count": 63,
   "metadata": {},
   "outputs": [],
   "source": [
    "def get_tokens(doc):\n",
    "    return doc.split(' ')"
   ]
  },
  {
   "cell_type": "code",
   "execution_count": 64,
   "metadata": {},
   "outputs": [],
   "source": [
    "def build_vocabulary(corpus):\n",
    "    wd={}\n",
    "    for doc in corpus:\n",
    "        for w in get_tokens(doc):\n",
    "            if w in wd:\n",
    "                wd[w]+=1\n",
    "            else:\n",
    "                wd[w]=1\n",
    "    wd=sorted(wd.items(), key=lambda x: x[1], reverse=True)\n",
    "    return dict(wd) "
   ]
  },
  {
   "cell_type": "code",
   "execution_count": 65,
   "metadata": {},
   "outputs": [
    {
     "name": "stdout",
     "output_type": "stream",
     "text": [
      "Total: \n",
      "unique words:  23\n",
      "{'ভাল': 6, 'না': 6, 'আমি': 6, 'সে': 5, 'সুন্দর': 4, 'লাগে': 3, 'খারাপ': 3, 'পড়তে': 2, 'আছি': 2, 'আমার': 2, 'জীবন': 2, 'ভালবাসি': 2, 'রোবট': 2, 'খুব': 2, 'ফুল': 2, 'ছাত্র': 1, 'পরিশ্রমী': 1, 'দেখতে': 1, 'চৎকার': 1, 'অনেক': 1, 'শক্তিশালী': 1, 'আকর্ষণীয়': 1, 'চমৎকার': 1}\n"
     ]
    }
   ],
   "source": [
    "wd=build_vocabulary(corpus)\n",
    "print('Total: ')\n",
    "print('unique words: ', len(wd))\n",
    "print(wd)"
   ]
  },
  {
   "cell_type": "code",
   "execution_count": 66,
   "metadata": {},
   "outputs": [
    {
     "name": "stdout",
     "output_type": "stream",
     "text": [
      "Spam:\n",
      "unique words:  15  , {'না': 6, 'সে': 5, 'ভাল': 4, 'খারাপ': 3, 'লাগে': 2, 'পড়তে': 1, 'ছাত্র': 1, 'আমি': 1, 'আছি': 1, 'পরিশ্রমী': 1, 'আমার': 1, 'জীবন': 1, 'সুন্দর': 1, 'দেখতে': 1, 'চৎকার': 1}\n"
     ]
    }
   ],
   "source": [
    "swd=build_vocabulary(spam)\n",
    "print('Spam:')\n",
    "print('unique words: ', len(swd),' ,', swd)\n",
    "# print(swd)"
   ]
  },
  {
   "cell_type": "code",
   "execution_count": 67,
   "metadata": {},
   "outputs": [
    {
     "name": "stdout",
     "output_type": "stream",
     "text": [
      "Ham: \n",
      "16 {'আমি': 5, 'সুন্দর': 3, 'ভাল': 2, 'ভালবাসি': 2, 'রোবট': 2, 'খুব': 2, 'ফুল': 2, 'আছি': 1, 'জীবন': 1, 'অনেক': 1, 'শক্তিশালী': 1, 'আকর্ষণীয়': 1, 'চমৎকার': 1, 'আমার': 1, 'পড়তে': 1, 'লাগে': 1}\n"
     ]
    }
   ],
   "source": [
    "hwd=build_vocabulary(ham)\n",
    "print('Ham: ')\n",
    "print(len(hwd), hwd)\n",
    "# print(hwd)"
   ]
  },
  {
   "cell_type": "code",
   "execution_count": 68,
   "metadata": {},
   "outputs": [
    {
     "name": "stdout",
     "output_type": "stream",
     "text": [
      "total:  57  ,sw:  30  ,hw:  27\n"
     ]
    }
   ],
   "source": [
    "tw=sum(wd.values())\n",
    "sw=sum(swd.values())\n",
    "hw=sum(hwd.values())\n",
    "print('total: ',tw,' ,sw: ',sw,' ,hw: ',hw)\n",
    "# wd.values()"
   ]
  },
  {
   "cell_type": "code",
   "execution_count": 69,
   "metadata": {},
   "outputs": [],
   "source": [
    "# spam_words="
   ]
  },
  {
   "cell_type": "code",
   "execution_count": 70,
   "metadata": {},
   "outputs": [
    {
     "name": "stdout",
     "output_type": "stream",
     "text": [
      "nfeature= 23\n",
      "['ভাল', 'না', 'আমি', 'সে', 'সুন্দর', 'লাগে', 'খারাপ', 'পড়তে', 'আছি', 'আমার', 'জীবন', 'ভালবাসি', 'রোবট', 'খুব', 'ফুল', 'ছাত্র', 'পরিশ্রমী', 'দেখতে', 'চৎকার', 'অনেক', 'শক্তিশালী', 'আকর্ষণীয়', 'চমৎকার']\n"
     ]
    }
   ],
   "source": [
    "vocab=build_vocabulary(corpus)\n",
    "features=list( vocab.keys() )\n",
    "nfeature=len(features)\n",
    "print('nfeature=',nfeature)\n",
    "print(features)"
   ]
  },
  {
   "cell_type": "code",
   "execution_count": 71,
   "metadata": {},
   "outputs": [
    {
     "name": "stdout",
     "output_type": "stream",
     "text": [
      "P(spam)= 0.5 P(ham)= 0.5\n"
     ]
    }
   ],
   "source": [
    "prob_spam=nspam/ndoc\n",
    "prob_ham=nham/ndoc\n",
    "print('P(spam)=',prob_spam, 'P(ham)=',prob_ham)"
   ]
  },
  {
   "cell_type": "code",
   "execution_count": 72,
   "metadata": {},
   "outputs": [
    {
     "name": "stdout",
     "output_type": "stream",
     "text": [
      "marginal probability of words: \n",
      "{'ভাল': 0.10526315789473684, 'না': 0.10526315789473684, 'আমি': 0.10526315789473684, 'সে': 0.08771929824561403, 'সুন্দর': 0.07017543859649122, 'লাগে': 0.05263157894736842, 'খারাপ': 0.05263157894736842, 'পড়তে': 0.03508771929824561, 'আছি': 0.03508771929824561, 'আমার': 0.03508771929824561, 'জীবন': 0.03508771929824561, 'ভালবাসি': 0.03508771929824561, 'রোবট': 0.03508771929824561, 'খুব': 0.03508771929824561, 'ফুল': 0.03508771929824561, 'ছাত্র': 0.017543859649122806, 'পরিশ্রমী': 0.017543859649122806, 'দেখতে': 0.017543859649122806, 'চৎকার': 0.017543859649122806, 'অনেক': 0.017543859649122806, 'শক্তিশালী': 0.017543859649122806, 'আকর্ষণীয়': 0.017543859649122806, 'চমৎকার': 0.017543859649122806}\n"
     ]
    }
   ],
   "source": [
    "print('marginal probability of words: ')\n",
    "probs={}\n",
    "for word,nw in wd.items():\n",
    "    pw=nw/tw\n",
    "    probs[word]=pw\n",
    "print(probs)"
   ]
  },
  {
   "cell_type": "code",
   "execution_count": 73,
   "metadata": {},
   "outputs": [
    {
     "name": "stdout",
     "output_type": "stream",
     "text": [
      "conditional probability of words given spam\n",
      "{'ভাল': 0.15625, 'না': 0.21875, 'আমি': 0.0625, 'সে': 0.1875, 'সুন্দর': 0.0625, 'লাগে': 0.09375, 'খারাপ': 0.125, 'পড়তে': 0.0625, 'আছি': 0.0625, 'আমার': 0.0625, 'জীবন': 0.0625, 'ভালবাসি': 0.03125, 'রোবট': 0.03125, 'খুব': 0.03125, 'ফুল': 0.03125, 'ছাত্র': 0.0625, 'পরিশ্রমী': 0.0625, 'দেখতে': 0.0625, 'চৎকার': 0.0625, 'অনেক': 0.03125, 'শক্তিশালী': 0.03125, 'আকর্ষণীয়': 0.03125, 'চমৎকার': 0.03125}\n"
     ]
    }
   ],
   "source": [
    "print('conditional probability of words given spam')\n",
    "sprobs={}\n",
    "for word,nw in wd.items():\n",
    "#     print(word)\n",
    "    nw=1  #to solve zero frequency problem. \n",
    "    if word in swd:\n",
    "        nw+=swd[word]\n",
    "    \n",
    "    d=len(set(nb.y))\n",
    "    cpw=nw/(sw+d)\n",
    "    sprobs[word]=cpw\n",
    "print(sprobs)"
   ]
  },
  {
   "cell_type": "code",
   "execution_count": 74,
   "metadata": {},
   "outputs": [
    {
     "name": "stdout",
     "output_type": "stream",
     "text": [
      "conditional probability of words given ham\n",
      "{'ভাল': 0.10344827586206896, 'না': 0.034482758620689655, 'আমি': 0.20689655172413793, 'সে': 0.034482758620689655, 'সুন্দর': 0.13793103448275862, 'লাগে': 0.06896551724137931, 'খারাপ': 0.034482758620689655, 'পড়তে': 0.06896551724137931, 'আছি': 0.06896551724137931, 'আমার': 0.06896551724137931, 'জীবন': 0.06896551724137931, 'ভালবাসি': 0.10344827586206896, 'রোবট': 0.10344827586206896, 'খুব': 0.10344827586206896, 'ফুল': 0.10344827586206896, 'ছাত্র': 0.034482758620689655, 'পরিশ্রমী': 0.034482758620689655, 'দেখতে': 0.034482758620689655, 'চৎকার': 0.034482758620689655, 'অনেক': 0.06896551724137931, 'শক্তিশালী': 0.06896551724137931, 'আকর্ষণীয়': 0.06896551724137931, 'চমৎকার': 0.06896551724137931}\n"
     ]
    }
   ],
   "source": [
    "print('conditional probability of words given ham')\n",
    "hprobs={}\n",
    "for word,nw in wd.items():\n",
    "#     print(word)\n",
    "    nw=1  #to solve zero frequency problem. \n",
    "    if word in hwd:\n",
    "        nw+=hwd[word]\n",
    "    \n",
    "    d=len(set(nb.y))\n",
    "    cpw=nw/(hw+d)\n",
    "    hprobs[word]=cpw\n",
    "print(hprobs)"
   ]
  },
  {
   "cell_type": "code",
   "execution_count": 75,
   "metadata": {},
   "outputs": [
    {
     "name": "stdout",
     "output_type": "stream",
     "text": [
      "ভাল রোবট\n",
      "ভাল  cnd= 0.15625 1.484375\n",
      "রোবট  cnd= 0.03125 0.890625\n",
      "prob_spam_w 0.6610107421875\n"
     ]
    }
   ],
   "source": [
    "tdoc=corpus[0]\n",
    "tdoc=corpus[6]\n",
    "# tdoc=corpus[3]\n",
    "tdoc='ভাল রোবট'\n",
    "# tdoc='ভাল রোবট না'\n",
    "# tdoc='সুন্দর রোবট না'\n",
    "# tdoc='রোবট না'\n",
    "# tdoc='পড়তে ভাল লাগে'\n",
    "# tdoc='আমার পড়তে ভাল লাগে'\n",
    "print(tdoc)\n",
    "psw=1\n",
    "for word in get_tokens(tdoc):\n",
    "#     print(word)\n",
    "    prob_spam_w=sprobs[word]/  probs[word]\n",
    "    print(word,' cnd=',sprobs[word], prob_spam_w)\n",
    "    psw*=prob_spam_w\n",
    "psw*=prob_spam\n",
    "print('prob_spam_w', psw)"
   ]
  },
  {
   "cell_type": "code",
   "execution_count": 76,
   "metadata": {},
   "outputs": [
    {
     "name": "stdout",
     "output_type": "stream",
     "text": [
      "ভাল রোবট\n",
      "ভাল  cnd= 0.10344827586206896 0.9827586206896552\n",
      "রোবট  cnd= 0.10344827586206896 2.9482758620689657\n",
      "prob_ham_w 1.4487217598097506\n"
     ]
    }
   ],
   "source": [
    "# doc=corpus[0]\n",
    "print(tdoc)\n",
    "phw=1\n",
    "for word in get_tokens(tdoc):\n",
    "#     print(word)\n",
    "    prob_ham_w=hprobs[word]/ probs[word]   \n",
    "    print(word,' cnd=',hprobs[word], prob_ham_w)\n",
    "    phw*=prob_ham_w\n",
    "phw*=prob_ham\n",
    "print('prob_ham_w', phw)"
   ]
  },
  {
   "cell_type": "code",
   "execution_count": 77,
   "metadata": {},
   "outputs": [
    {
     "name": "stdout",
     "output_type": "stream",
     "text": [
      "ভাল রোবট\n",
      "percent_spam:  31.331495417629085\n",
      "percent_ham:  68.66850458237091\n"
     ]
    }
   ],
   "source": [
    "print(tdoc)\n",
    "percent_spam= (psw/(psw+phw) )*100\n",
    "percent_ham= (phw/(psw+phw) )*100\n",
    "print('percent_spam: ', percent_spam)\n",
    "print('percent_ham: ', percent_ham)"
   ]
  },
  {
   "cell_type": "markdown",
   "metadata": {},
   "source": [
    "### Solving Zero frequency problem using Laplace Smoothing\n",
    "\n",
    "Known conditional probability. For example we got a new word KZOSKY which exist only in the ham class or not even exist in the training set, then, <br>\n",
    "\n",
    "P(KZOSKY|spam) = 0 / total_word_in_spam_class = 0 ,\n",
    "\n",
    "So, The Laplace Smoothing version will be,\n",
    "\n",
    "P(KZOSKY|spam) = (count KZOSKY in spam +K )/ (total_word_in_spam_class + K*total_classes)\n",
    "\n",
    "####  If K=1 then,\n",
    "\n",
    "P(KZOSKY|spam) = (count KZOSKY in spam +1 )/ (total_word_in_spam_class + 1*total_classes)"
   ]
  },
  {
   "cell_type": "markdown",
   "metadata": {},
   "source": [
    "## Using BOW Model"
   ]
  },
  {
   "cell_type": "code",
   "execution_count": 78,
   "metadata": {},
   "outputs": [],
   "source": [
    "#create the bag of word model."
   ]
  },
  {
   "cell_type": "code",
   "execution_count": 79,
   "metadata": {},
   "outputs": [],
   "source": [
    "class MyBOW():\n",
    "    def __init__(self):\n",
    "        print('my bag of word model')\n",
    "        self.features={}\n",
    "        \n",
    "    def get_tokens(self, doc):\n",
    "        return doc.split(' ')\n",
    "\n",
    "    def build_vocabulary(self, corpus):\n",
    "        wd={}\n",
    "        for doc in corpus:\n",
    "            for w in self.get_tokens(doc):\n",
    "                if w in wd:\n",
    "                    wd[w]+=1\n",
    "                else:\n",
    "                    wd[w]=1\n",
    "        wd=sorted(wd.items(), key=lambda x: x[1], reverse=True)\n",
    "        return dict(wd) \n",
    "\n",
    "    def convert_to_vector(self, doc):\n",
    "        vector=np.zeros( len( self.features) )\n",
    "        tokens=self.get_tokens(doc)\n",
    "        for token in tokens:\n",
    "            ifc=features.index(token)\n",
    "            vector[ifc]+=1\n",
    "        return vector\n",
    "    def corpus_to_matrix(self, corpus):\n",
    "        vocab=self.build_vocabulary(corpus)\n",
    "        self.features=list( vocab.keys() )\n",
    "        nfeature=len(features)\n",
    "        vectors=[] \n",
    "        for doc in corpus: \n",
    "            vector=self.convert_to_vector(doc)\n",
    "            vectors.append(vector)\n",
    "            \n",
    "        self.vectors=np.array(vectors)\n",
    "        return self.features, self.vectors\n"
   ]
  },
  {
   "cell_type": "code",
   "execution_count": 80,
   "metadata": {},
   "outputs": [
    {
     "name": "stdout",
     "output_type": "stream",
     "text": [
      "my bag of word model\n",
      "['ভাল', 'না', 'আমি', 'সে', 'সুন্দর', 'লাগে', 'খারাপ', 'পড়তে', 'আছি', 'আমার', 'জীবন', 'ভালবাসি', 'রোবট', 'খুব', 'ফুল', 'ছাত্র', 'পরিশ্রমী', 'দেখতে', 'চৎকার', 'অনেক', 'শক্তিশালী', 'আকর্ষণীয়', 'চমৎকার']\n",
      "[[1. 1. 0. 1. 0. 0. 0. 0. 0. 0. 0. 0. 0. 0. 0. 0. 0. 0. 0. 0. 0. 0. 0.]\n",
      " [1. 1. 0. 0. 0. 1. 0. 1. 0. 0. 0. 0. 0. 0. 0. 0. 0. 0. 0. 0. 0. 0. 0.]\n",
      " [0. 0. 0. 1. 0. 0. 1. 0. 0. 0. 0. 0. 0. 0. 0. 1. 0. 0. 0. 0. 0. 0. 0.]\n",
      " [0. 0. 1. 0. 0. 0. 1. 0. 1. 0. 0. 0. 0. 0. 0. 0. 0. 0. 0. 0. 0. 0. 0.]\n",
      " [0. 1. 0. 1. 0. 0. 0. 0. 0. 0. 0. 0. 0. 0. 0. 0. 1. 0. 0. 0. 0. 0. 0.]\n",
      " [2. 1. 0. 0. 0. 1. 0. 0. 0. 1. 0. 0. 0. 0. 0. 0. 0. 0. 0. 0. 0. 0. 0.]\n",
      " [0. 0. 0. 0. 0. 0. 1. 0. 0. 0. 1. 0. 0. 0. 0. 0. 0. 0. 0. 0. 0. 0. 0.]\n",
      " [0. 1. 0. 1. 1. 0. 0. 0. 0. 0. 0. 0. 0. 0. 0. 0. 0. 0. 0. 0. 0. 0. 0.]\n",
      " [0. 1. 0. 1. 0. 0. 0. 0. 0. 0. 0. 0. 0. 0. 0. 0. 0. 1. 1. 0. 0. 0. 0.]\n",
      " [1. 0. 1. 0. 0. 0. 0. 0. 1. 0. 0. 0. 0. 0. 0. 0. 0. 0. 0. 0. 0. 0. 0.]\n",
      " [0. 0. 1. 0. 0. 0. 0. 0. 0. 0. 1. 1. 0. 0. 0. 0. 0. 0. 0. 0. 0. 0. 0.]\n",
      " [0. 0. 1. 0. 0. 0. 0. 0. 0. 0. 0. 0. 0. 0. 0. 0. 0. 0. 0. 1. 1. 0. 0.]\n",
      " [0. 0. 1. 0. 0. 0. 0. 0. 0. 0. 0. 0. 0. 0. 0. 0. 0. 0. 0. 0. 0. 1. 0.]\n",
      " [0. 0. 1. 0. 0. 0. 0. 0. 0. 0. 0. 1. 1. 0. 0. 0. 0. 0. 0. 0. 0. 0. 0.]\n",
      " [0. 0. 0. 0. 2. 0. 0. 0. 0. 0. 0. 0. 1. 0. 0. 0. 0. 0. 0. 0. 0. 0. 0.]\n",
      " [0. 0. 0. 0. 1. 0. 0. 0. 0. 0. 0. 0. 0. 1. 1. 0. 0. 0. 0. 0. 0. 0. 0.]\n",
      " [0. 0. 0. 0. 0. 0. 0. 0. 0. 0. 0. 0. 0. 1. 1. 0. 0. 0. 0. 0. 0. 0. 1.]\n",
      " [1. 0. 0. 0. 0. 1. 0. 1. 0. 1. 0. 0. 0. 0. 0. 0. 0. 0. 0. 0. 0. 0. 0.]]\n"
     ]
    }
   ],
   "source": [
    "bow=MyBOW()\n",
    "features, vectors=bow.corpus_to_matrix(corpus)\n",
    "print(features)\n",
    "print(vectors)"
   ]
  },
  {
   "cell_type": "code",
   "execution_count": null,
   "metadata": {},
   "outputs": [],
   "source": []
  },
  {
   "cell_type": "code",
   "execution_count": 81,
   "metadata": {},
   "outputs": [],
   "source": [
    "class MyNB():\n",
    "    def __init__(self):\n",
    "        print('my naive bayes')\n",
    "        self.vectors=[[]]\n",
    "        self.y=[]\n",
    "        self.p_spam=0\n",
    "        self.p_ham=0\n",
    "        self.n_w=0\n",
    "        self.n_w_s=0\n",
    "        self.n_w_h=0\n",
    "        self.spam_class=1\n",
    "        self.ham_class=0\n",
    "        \n",
    "    def train(self, vectors, y):\n",
    "        self.vectors=vectors\n",
    "        self.y=y\n",
    "        spam_vectors=vectors[np.where(y==self.spam_class),:]\n",
    "        ham_vectors=vectors[np.where(y==self.ham_class),:]\n",
    "        self.n_w=vectors.sum() #count words in whole corpus\n",
    "        self.n_w_s=spam_vectors.sum() #count total words in spam\n",
    "        self.n_w_h=ham_vectors.sum()  #count total words in ham\n",
    "        \n",
    "        self.p_spam=len(np.where(y==self.spam_class)[0])/len(y)\n",
    "        self.p_ham=len(np.where(y==self.ham_class)[0])/len(y)\n",
    "        return self.p_spam, self.p_ham\n",
    "    \n",
    "    def predict(self, vector): \n",
    "        locs=np.where(vector>0)[0] #find index of features.\n",
    "        doc_p_spam=self.p_spam\n",
    "        doc_p_ham=self.p_ham\n",
    "        k=1                    #laplace smoothing parameter.\n",
    "        d=len(set(nb.y))       #laplace smoothing parameter.\n",
    "        for loc in locs:  #for this column.\n",
    "            cw=sum(np.array(vectors[:,loc]))                            #count this word in whole corpus.\n",
    "            scw=sum(np.array(vectors[:])[np.where(y==1),:][0][:,loc])   #count this word in spam\n",
    "            hcw=sum(np.array(vectors[:])[np.where(y==0),:][0][:,loc])   #count this word in ham\n",
    "            scw+=k  #adding k to prevent zero frequency\n",
    "            hcw+=k  #adding k to prevent zero frequency\n",
    "            marginal_prob=cw/self.n_w\n",
    "            p_w_spam=scw/(self.n_w_s+k*d) #Laplace smoothing, to prevent zero frequency\n",
    "            p_w_ham=hcw/(self.n_w_h+k*d)  #Laplace smoothing, to prevent zero frequency\n",
    "            p_spam_w= p_w_spam  /marginal_prob \n",
    "            p_ham_w= p_w_ham /marginal_prob \n",
    "#             print('loc=',loc, 'scw=',scw,' hcw=',hcw,' cw=',cw)\n",
    "            doc_p_spam*=p_spam_w\n",
    "            doc_p_ham*=p_ham_w\n",
    "        \n",
    "#         print('ps, ph: ',doc_p_spam, doc_p_ham)\n",
    "        doc_p_spam=doc_p_spam/(doc_p_spam+doc_p_ham)\n",
    "        return doc_p_spam\n"
   ]
  },
  {
   "cell_type": "code",
   "execution_count": 82,
   "metadata": {},
   "outputs": [
    {
     "name": "stdout",
     "output_type": "stream",
     "text": [
      "my bag of word model\n"
     ]
    }
   ],
   "source": [
    "bow=MyBOW()\n",
    "features, vectors=bow.corpus_to_matrix(corpus)"
   ]
  },
  {
   "cell_type": "code",
   "execution_count": 83,
   "metadata": {},
   "outputs": [
    {
     "name": "stdout",
     "output_type": "stream",
     "text": [
      "my naive bayes\n"
     ]
    }
   ],
   "source": [
    "nb=MyNB()\n",
    "_,_=nb.train(vectors, y)"
   ]
  },
  {
   "cell_type": "code",
   "execution_count": 85,
   "metadata": {},
   "outputs": [
    {
     "name": "stdout",
     "output_type": "stream",
     "text": [
      "test doc= ভাল রোবট\n",
      "spam_probability:  0.31331495417629085\n"
     ]
    }
   ],
   "source": [
    "# tdoc='সে ভাল আছে'\n",
    "tdoc=corpus[6]\n",
    "tdoc='ভাল রোবট'\n",
    "# tdoc='ভাল রোবট না'\n",
    "print('test doc=',tdoc)\n",
    "vector=bow.convert_to_vector(tdoc)\n",
    "sp=nb.predict(vector)\n",
    "print('spam_probability: ',sp)"
   ]
  },
  {
   "cell_type": "code",
   "execution_count": null,
   "metadata": {},
   "outputs": [],
   "source": []
  },
  {
   "cell_type": "markdown",
   "metadata": {},
   "source": [
    "Refs.\n",
    "1. [Conditional and Bayes] https://brilliant.org/wiki/bayes-theorem/\n",
    "2. [Good on Bays and Conditional] https://www.quora.com/What-is-the-difference-between-Bayes-Theorem-and-conditional-probability-and-how-do-I-know-when-to-apply-them\n",
    "3. [Laplace Smoothing] https://www.quora.com/What-is-Laplacian-smoothing-and-why-do-we-need-it-in-a-Naive-Bayes-classifier\n",
    "\n"
   ]
  },
  {
   "cell_type": "code",
   "execution_count": null,
   "metadata": {},
   "outputs": [],
   "source": []
  },
  {
   "cell_type": "code",
   "execution_count": null,
   "metadata": {},
   "outputs": [],
   "source": []
  }
 ],
 "metadata": {
  "kernelspec": {
   "display_name": "Python 3",
   "language": "python",
   "name": "python3"
  },
  "language_info": {
   "codemirror_mode": {
    "name": "ipython",
    "version": 3
   },
   "file_extension": ".py",
   "mimetype": "text/x-python",
   "name": "python",
   "nbconvert_exporter": "python",
   "pygments_lexer": "ipython3",
   "version": "3.7.0"
  }
 },
 "nbformat": 4,
 "nbformat_minor": 2
}
