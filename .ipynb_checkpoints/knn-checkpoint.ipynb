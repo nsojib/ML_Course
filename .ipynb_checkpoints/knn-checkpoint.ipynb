{
 "cells": [
  {
   "cell_type": "markdown",
   "metadata": {},
   "source": [
    "## K-Nearest Neighbors"
   ]
  },
  {
   "cell_type": "code",
   "execution_count": 1,
   "metadata": {},
   "outputs": [],
   "source": [
    "import numpy as np\n",
    "from sklearn.model_selection import train_test_split\n",
    "from sklearn import datasets\n",
    "from collections import Counter"
   ]
  },
  {
   "cell_type": "markdown",
   "metadata": {},
   "source": [
    "<img src='imgs\\iris-species.png' width=60%>"
   ]
  },
  {
   "cell_type": "code",
   "execution_count": 2,
   "metadata": {},
   "outputs": [],
   "source": [
    "iris =  datasets.load_iris() \n",
    "X = iris.data\n",
    "y = iris.target"
   ]
  },
  {
   "cell_type": "code",
   "execution_count": 3,
   "metadata": {},
   "outputs": [
    {
     "name": "stdout",
     "output_type": "stream",
     "text": [
      "[[5.1 3.5 1.4 0.2]\n",
      " [4.9 3.  1.4 0.2]\n",
      " [4.7 3.2 1.3 0.2]]\n",
      "[0 0 0 0 0 0 0 0 0 0 0 0 0 0 0 0 0 0 0 0 0 0 0 0 0 0 0 0 0 0 0 0 0 0 0 0 0\n",
      " 0 0 0 0 0 0 0 0 0 0 0 0 0 1 1 1 1 1 1 1 1 1 1 1 1 1 1 1 1 1 1 1 1 1 1 1 1\n",
      " 1 1 1 1 1 1 1 1 1 1 1 1 1 1 1 1 1 1 1 1 1 1 1 1 1 1 2 2 2 2 2 2 2 2 2 2 2\n",
      " 2 2 2 2 2 2 2 2 2 2 2 2 2 2 2 2 2 2 2 2 2 2 2 2 2 2 2 2 2 2 2 2 2 2 2 2 2\n",
      " 2 2]\n"
     ]
    }
   ],
   "source": [
    "print(X[:3])\n",
    "print(y)"
   ]
  },
  {
   "cell_type": "code",
   "execution_count": 4,
   "metadata": {},
   "outputs": [],
   "source": [
    " x_train,x_test,y_train,y_test=train_test_split(X,y,test_size=0.2)"
   ]
  },
  {
   "cell_type": "code",
   "execution_count": 5,
   "metadata": {},
   "outputs": [
    {
     "name": "stdout",
     "output_type": "stream",
     "text": [
      "30\n",
      "[0 0 1]\n"
     ]
    }
   ],
   "source": [
    "print( len(x_test))\n",
    "print(y_test[:3])"
   ]
  },
  {
   "cell_type": "markdown",
   "metadata": {},
   "source": [
    "<img src='imgs/diagram_euclidean_manhattan_distance_metrics.png'>\n",
    "<img src='imgs/euclidean_manhattan.jpg'>"
   ]
  },
  {
   "cell_type": "code",
   "execution_count": 6,
   "metadata": {},
   "outputs": [],
   "source": [
    "def euclidean(x, x2):\n",
    "    sum=0\n",
    "    for ix,ix2 in zip(x,x2):\n",
    "        sum+=(ix-ix2)**2\n",
    "    return np.sqrt(sum)"
   ]
  },
  {
   "cell_type": "code",
   "execution_count": 7,
   "metadata": {},
   "outputs": [],
   "source": [
    "def manhattan(x, x2):\n",
    "    sum=0\n",
    "    for ix,ix2 in zip(x,x2):\n",
    "        sum+=abs(ix-ix2)\n",
    "    return sum"
   ]
  },
  {
   "cell_type": "code",
   "execution_count": 8,
   "metadata": {},
   "outputs": [
    {
     "data": {
      "text/plain": [
       "5.0"
      ]
     },
     "execution_count": 8,
     "metadata": {},
     "output_type": "execute_result"
    }
   ],
   "source": [
    "euclidean([0,0], [3,4])"
   ]
  },
  {
   "cell_type": "code",
   "execution_count": 9,
   "metadata": {},
   "outputs": [
    {
     "data": {
      "text/plain": [
       "7"
      ]
     },
     "execution_count": 9,
     "metadata": {},
     "output_type": "execute_result"
    }
   ],
   "source": [
    "manhattan([0,0], [3,4])"
   ]
  },
  {
   "cell_type": "code",
   "execution_count": 10,
   "metadata": {},
   "outputs": [],
   "source": [
    "# xt=[6.7, 3.3, 5.7, 2.1]\n",
    "xt=[5.1, 3., 4.2, 1.5]"
   ]
  },
  {
   "cell_type": "code",
   "execution_count": 11,
   "metadata": {},
   "outputs": [],
   "source": [
    "dist={}\n",
    "for i, x in enumerate(x_train):\n",
    "    ed=euclidean(x, xt)\n",
    "#     ed=manhattan(x, xt)\n",
    "    dist[i]=ed"
   ]
  },
  {
   "cell_type": "code",
   "execution_count": 12,
   "metadata": {},
   "outputs": [
    {
     "name": "stdout",
     "output_type": "stream",
     "text": [
      "{0: 0.8831760866327848, 1: 2.428991560298224, 2: 1.174734012447073, 3: 1.0816653826391966, 4: 1.5165750888103102, 5: 2.222611077089287, 6: 2.9410882339705484, 7: 2.4020824298928627, 8: 2.6419689627245813, 9: 1.244989959798873, 10: 2.3366642891095846, 11: 3.014962686336267, 12: 3.0397368307141326, 13: 3.10322412983658, 14: 1.126942766958465, 15: 0.7280109889280523, 16: 0.8124038404635961, 17: 2.9495762407505253, 18: 0.58309518948453, 19: 3.1937438845342627, 20: 1.8920887928424504, 21: 1.774823934929885, 22: 1.319090595827292, 23: 3.062678566222711, 24: 0.6480740698407857, 25: 3.2710854467592254, 26: 2.891366458960192, 27: 1.1224972160321829, 28: 3.318132004607412, 29: 1.9773719933285192, 30: 1.0148891565092222, 31: 3.0397368307141326, 32: 3.277193921634788, 33: 1.445683229480096, 34: 2.012461179749811, 35: 2.04939015319192, 36: 1.4177446878757827, 37: 3.0870698080866266, 38: 1.57797338380595, 39: 2.9580398915498085, 40: 3.683748091278773, 41: 0.8660254037844387, 42: 1.3114877048604, 43: 3.646916505762094, 44: 3.1796226191169294, 45: 1.24899959967968, 46: 2.6888659319497505, 47: 1.3379088160259653, 48: 3.8535697735995393, 49: 3.1128764832546763, 50: 1.9339079605813716, 51: 1.8165902124584952, 52: 3.0610455730027937, 53: 1.392838827718412, 54: 1.322875655532296, 55: 1.1224972160321824, 56: 2.7982137159266447, 57: 1.244989959798873, 58: 3.7603191353926335, 59: 1.30384048104053, 60: 0.6708203932499374, 61: 3.004995840263344, 62: 1.1269427669584644, 63: 3.144837038703278, 64: 0.4242640687119289, 65: 1.2569805089976536, 66: 3.0610455730027937, 67: 1.3601470508735445, 68: 3.083828789021855, 69: 3.167017524422623, 70: 1.009950493836208, 71: 2.3108440016582685, 72: 1.0344080432788603, 73: 2.238302928559939, 74: 1.3228756555322954, 75: 1.5132745950421556, 76: 3.146426544510455, 77: 2.7892651361962706, 78: 2.7092434368288134, 79: 3.2434549480453714, 80: 3.235737937472687, 81: 1.4764823060233403, 82: 1.4662878298615178, 83: 3.5171010790137944, 84: 0.5477225575051662, 85: 0.6708203932499376, 86: 2.99833287011299, 87: 1.791647286716892, 88: 3.1144823004794877, 89: 1.7492855684535902, 90: 0.871779788708135, 91: 1.2083045973594573, 92: 3.336165463522456, 93: 0.8544003745317535, 94: 1.8654758106177634, 95: 1.7691806012954128, 96: 1.0630145812734653, 97: 2.0445048300260873, 98: 3.5411862419251547, 99: 1.6792855623746672, 100: 1.2409673645990857, 101: 0.6708203932499371, 102: 3.241913015489466, 103: 1.452583904633395, 104: 3.057776970284131, 105: 3.024896692450835, 106: 3.0919249667480617, 107: 3.2093613071762426, 108: 3.4899856733230297, 109: 1.9339079605813723, 110: 1.8708286933869704, 111: 0.6403124237432853, 112: 2.924038303442689, 113: 1.6186414056238652, 114: 2.541653005427767, 115: 3.093541659651604, 116: 2.6720778431774774, 117: 0.9539392014169459, 118: 0.44721359549995815, 119: 3.0166206257996713}\n"
     ]
    }
   ],
   "source": [
    "print(dist)"
   ]
  },
  {
   "cell_type": "code",
   "execution_count": 13,
   "metadata": {},
   "outputs": [],
   "source": [
    "sorted_d = sorted(dist.items(), key=lambda kv: kv[1])"
   ]
  },
  {
   "cell_type": "code",
   "execution_count": 14,
   "metadata": {},
   "outputs": [
    {
     "name": "stdout",
     "output_type": "stream",
     "text": [
      "[(64, 0.4242640687119289), (118, 0.44721359549995815), (84, 0.5477225575051662), (18, 0.58309518948453), (111, 0.6403124237432853), (24, 0.6480740698407857), (101, 0.6708203932499371), (60, 0.6708203932499374), (85, 0.6708203932499376), (15, 0.7280109889280523), (16, 0.8124038404635961), (93, 0.8544003745317535), (41, 0.8660254037844387), (90, 0.871779788708135), (0, 0.8831760866327848), (117, 0.9539392014169459), (70, 1.009950493836208), (30, 1.0148891565092222), (72, 1.0344080432788603), (96, 1.0630145812734653), (3, 1.0816653826391966), (55, 1.1224972160321824), (27, 1.1224972160321829), (62, 1.1269427669584644), (14, 1.126942766958465), (2, 1.174734012447073), (91, 1.2083045973594573), (100, 1.2409673645990857), (9, 1.244989959798873), (57, 1.244989959798873), (45, 1.24899959967968), (65, 1.2569805089976536), (59, 1.30384048104053), (42, 1.3114877048604), (22, 1.319090595827292), (74, 1.3228756555322954), (54, 1.322875655532296), (47, 1.3379088160259653), (67, 1.3601470508735445), (53, 1.392838827718412), (36, 1.4177446878757827), (33, 1.445683229480096), (103, 1.452583904633395), (82, 1.4662878298615178), (81, 1.4764823060233403), (75, 1.5132745950421556), (4, 1.5165750888103102), (38, 1.57797338380595), (113, 1.6186414056238652), (99, 1.6792855623746672), (89, 1.7492855684535902), (95, 1.7691806012954128), (21, 1.774823934929885), (87, 1.791647286716892), (51, 1.8165902124584952), (94, 1.8654758106177634), (110, 1.8708286933869704), (20, 1.8920887928424504), (50, 1.9339079605813716), (109, 1.9339079605813723), (29, 1.9773719933285192), (34, 2.012461179749811), (97, 2.0445048300260873), (35, 2.04939015319192), (5, 2.222611077089287), (73, 2.238302928559939), (71, 2.3108440016582685), (10, 2.3366642891095846), (7, 2.4020824298928627), (1, 2.428991560298224), (114, 2.541653005427767), (8, 2.6419689627245813), (116, 2.6720778431774774), (46, 2.6888659319497505), (78, 2.7092434368288134), (77, 2.7892651361962706), (56, 2.7982137159266447), (26, 2.891366458960192), (112, 2.924038303442689), (6, 2.9410882339705484), (17, 2.9495762407505253), (39, 2.9580398915498085), (86, 2.99833287011299), (61, 3.004995840263344), (11, 3.014962686336267), (119, 3.0166206257996713), (105, 3.024896692450835), (12, 3.0397368307141326), (31, 3.0397368307141326), (104, 3.057776970284131), (52, 3.0610455730027937), (66, 3.0610455730027937), (23, 3.062678566222711), (68, 3.083828789021855), (37, 3.0870698080866266), (106, 3.0919249667480617), (115, 3.093541659651604), (13, 3.10322412983658), (49, 3.1128764832546763), (88, 3.1144823004794877), (63, 3.144837038703278), (76, 3.146426544510455), (69, 3.167017524422623), (44, 3.1796226191169294), (19, 3.1937438845342627), (107, 3.2093613071762426), (80, 3.235737937472687), (102, 3.241913015489466), (79, 3.2434549480453714), (25, 3.2710854467592254), (32, 3.277193921634788), (28, 3.318132004607412), (92, 3.336165463522456), (108, 3.4899856733230297), (83, 3.5171010790137944), (98, 3.5411862419251547), (43, 3.646916505762094), (40, 3.683748091278773), (58, 3.7603191353926335), (48, 3.8535697735995393)]\n"
     ]
    }
   ],
   "source": [
    "print(sorted_d)"
   ]
  },
  {
   "cell_type": "code",
   "execution_count": 15,
   "metadata": {},
   "outputs": [
    {
     "name": "stdout",
     "output_type": "stream",
     "text": [
      "[64]\n"
     ]
    }
   ],
   "source": [
    "k=1\n",
    "neighbors=[]\n",
    "for i in range(k):\n",
    "    neighbors.append(sorted_d[i][0])\n",
    "print(neighbors)"
   ]
  },
  {
   "cell_type": "code",
   "execution_count": 16,
   "metadata": {},
   "outputs": [
    {
     "name": "stdout",
     "output_type": "stream",
     "text": [
      "[1]\n"
     ]
    }
   ],
   "source": [
    "classes=[ y_train[i] for i in neighbors]\n",
    "print(classes)"
   ]
  },
  {
   "cell_type": "code",
   "execution_count": 52,
   "metadata": {},
   "outputs": [
    {
     "name": "stdout",
     "output_type": "stream",
     "text": [
      "Counter({1: 1})\n",
      "keys= [1]\n",
      "values= [1]\n",
      "index of max value= 0\n",
      "predict class= 1\n"
     ]
    }
   ],
   "source": [
    "count=Counter(classes)\n",
    "print(count)\n",
    "keys= list( count.keys() )\n",
    "print('keys=', keys)\n",
    "values=list( count.values() )\n",
    "print('values=',values)\n",
    "\n",
    "index_of_max_values=values.index(max(values)) \n",
    "print('index of max value=', index_of_max_values)\n",
    "y_hat=keys[index_of_max_values]\n",
    "print('predict class=',y_hat)"
   ]
  },
  {
   "cell_type": "code",
   "execution_count": 53,
   "metadata": {},
   "outputs": [],
   "source": [
    "def predict(X,y, xt, k):\n",
    "    #Step_1: calculate distance from all the training instances, track position and distance.\n",
    "    dist={}\n",
    "    for i, x in enumerate(x_train):\n",
    "    #     ed=euclidean(x, xt)\n",
    "        ed=manhattan(x, xt)\n",
    "        dist[i]=ed\n",
    "        \n",
    "    #step_2: sort the dictionary\n",
    "    sorted_d = sorted(dist.items(), key=lambda kv: kv[1])\n",
    "    \n",
    "    #step_3: choose first k items. we call them neighbors.\n",
    "    neighbors=[sorted_d[i][0] for i in range(k)]\n",
    "    \n",
    "    #step_4: get the labels of the neighbors.\n",
    "    classes=[ y[i] for i in neighbors]\n",
    "    \n",
    "    #step_5: find which class appeared maximum time among the k neighbors.\n",
    "    count=Counter(classes) \n",
    "    keys= list( count.keys() ) \n",
    "    values=list( count.values() ) \n",
    "\n",
    "    index_of_max_values=values.index(max(values)) \n",
    "    y_hat=keys[index_of_max_values]\n",
    "    return y_hat"
   ]
  },
  {
   "cell_type": "code",
   "execution_count": 54,
   "metadata": {},
   "outputs": [
    {
     "data": {
      "text/plain": [
       "1"
      ]
     },
     "execution_count": 54,
     "metadata": {},
     "output_type": "execute_result"
    }
   ],
   "source": [
    "predict(x_train,y_train, xt, 3)"
   ]
  },
  {
   "cell_type": "code",
   "execution_count": 55,
   "metadata": {},
   "outputs": [],
   "source": [
    "def KNN(x_train, y_train,  x_test, k):\n",
    "    ps=[predict(x_train,y_train, xt, k) for xt in x_test] \n",
    "    return np.array(ps)   "
   ]
  },
  {
   "cell_type": "code",
   "execution_count": 56,
   "metadata": {},
   "outputs": [
    {
     "name": "stdout",
     "output_type": "stream",
     "text": [
      "[1 2 1 0 1 2 1 0 0 2 2 2 2 0 1 0 0 2 2 2 1 0 0 2 2 0 0 0 2 1]\n",
      "[1 2 1 0 1 2 1 0 0 2 2 2 2 0 1 0 0 2 2 2 1 0 0 1 2 0 0 0 2 1]\n"
     ]
    }
   ],
   "source": [
    "k=5\n",
    "ps=KNN(x_train,y_train, x_test, k)\n",
    "print(ps)\n",
    "print(y_test)"
   ]
  },
  {
   "cell_type": "code",
   "execution_count": null,
   "metadata": {},
   "outputs": [],
   "source": []
  },
  {
   "cell_type": "code",
   "execution_count": null,
   "metadata": {},
   "outputs": [],
   "source": []
  }
 ],
 "metadata": {
  "kernelspec": {
   "display_name": "Python 3",
   "language": "python",
   "name": "python3"
  },
  "language_info": {
   "codemirror_mode": {
    "name": "ipython",
    "version": 3
   },
   "file_extension": ".py",
   "mimetype": "text/x-python",
   "name": "python",
   "nbconvert_exporter": "python",
   "pygments_lexer": "ipython3",
   "version": "3.7.0"
  }
 },
 "nbformat": 4,
 "nbformat_minor": 2
}
