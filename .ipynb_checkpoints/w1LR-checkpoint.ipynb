{
 "cells": [
  {
   "cell_type": "markdown",
   "metadata": {},
   "source": [
    "## 1.1 Linear Regression"
   ]
  },
  {
   "cell_type": "code",
   "execution_count": 1,
   "metadata": {},
   "outputs": [],
   "source": [
    "import matplotlib.pyplot as plt \n",
    "import numpy as np"
   ]
  },
  {
   "cell_type": "markdown",
   "metadata": {},
   "source": [
    "<img src='imgs/linreg.png'>"
   ]
  },
  {
   "cell_type": "markdown",
   "metadata": {},
   "source": [
    "### Gradient Descent method\n",
    "$$\n",
    "\\begin{equation*}\n",
    "Hypothesis \\space Function,  \\hat{ \\textbf{y} }= \\textbf{mx+c } \\\\\n",
    "For \\space best \\space fit \\space line, \\space we \\space need \\space to \\space find \\space \\textbf{m} \\space and \\space \\textbf{c} \\\\\n",
    "\\\\\n",
    "Loss \\space Function, \\space Error =\\frac{1}{n} \\sum_{i=0}^{n}(y- \\hat{y} )^2\n",
    "\\end{equation*}\n",
    "$$"
   ]
  },
  {
   "cell_type": "markdown",
   "metadata": {},
   "source": [
    "#### Error vs Weights (m,c)\n",
    "<img src='imgs/grad.png' width=400 height=320>"
   ]
  },
  {
   "cell_type": "markdown",
   "metadata": {},
   "source": [
    "#### Update Rule\n",
    "To reach the minimum loss, we need to update weights. <br>\n",
    "$$\n",
    "\\begin{align}\n",
    "m=m-l*dm \\\\\n",
    "c=c-l*dc \\\\\n",
    "Here, l=learning \\space rate.\n",
    "\\end{align}\n",
    "$$"
   ]
  },
  {
   "cell_type": "markdown",
   "metadata": {},
   "source": [
    "#### DataSet"
   ]
  },
  {
   "cell_type": "code",
   "execution_count": 6,
   "metadata": {},
   "outputs": [
    {
     "data": {
      "image/png": "[encoded data removed]",
      "text/plain": [
       "<matplotlib.figure.Figure at 0xcfba278>"
      ]
     },
     "metadata": {},
     "output_type": "display_data"
    }
   ],
   "source": [
    "# x=[10, 20, 30, 40, 50, 60, 70, 80]\n",
    "# y=[5, 15, 40, 66, 70, 85, 125, 500]\n",
    "x=[10, 20, 30, 40, 50, 60, 70]\n",
    "y=[90, 115, 130, 157, 170, 210, 250]\n",
    "\n",
    "\n",
    "plt.scatter(x, y, color = 'red') \n",
    "plt.title('x vs y')\n",
    "plt.xlabel('x data')\n",
    "plt.ylabel('y data')\n",
    "plt.show()"
   ]
  },
  {
   "cell_type": "code",
   "execution_count": 99,
   "metadata": {},
   "outputs": [],
   "source": [
    "def predict(xx, m, c):\n",
    "    xxd=[m*ix+c for ix in xx]\n",
    "    return xxd"
   ]
  },
  {
   "cell_type": "code",
   "execution_count": 101,
   "metadata": {},
   "outputs": [],
   "source": [
    "def dwrt_m(X, Y, Y_pred): \n",
    "    ssd=[ (iy-iyp) for iy,iyp in zip(Y,Y_pred)]\n",
    "    ssd2=[ ix*issd for ix, issd in zip (X,ssd)]\n",
    "    s= (-2/len(X)) * sum(ssd2)\n",
    "    return s"
   ]
  },
  {
   "cell_type": "code",
   "execution_count": 103,
   "metadata": {},
   "outputs": [],
   "source": [
    "def dwrt_c(X, Y, Y_pred): \n",
    "    ssd=[ (iy-iyp) for iy,iyp in zip(Y,Y_pred)]\n",
    "    s= (-2/len(X)) * sum(ssd)\n",
    "    return s"
   ]
  },
  {
   "cell_type": "code",
   "execution_count": 105,
   "metadata": {},
   "outputs": [],
   "source": [
    "def calc_error(Y, Y_predict):\n",
    "    er=[(yy-yyp)**2 for yy,yyp in zip(Y, Y_predict)]\n",
    "    avg=sum(er)/len(er)\n",
    "    return avg\n"
   ]
  },
  {
   "cell_type": "code",
   "execution_count": 100,
   "metadata": {},
   "outputs": [],
   "source": [
    "# xxd=[2*ix for ix in x]\n",
    "# print xxd\n",
    "\n",
    "# xxd=do_eq(x, 2, 1)\n",
    "# print xxd"
   ]
  },
  {
   "cell_type": "code",
   "execution_count": 102,
   "metadata": {},
   "outputs": [],
   "source": [
    "# Y_pred=do_eq(x, m, c)\n",
    "# rt=dwrt_m(x, y, yp)\n",
    "# print 'rt=',rt"
   ]
  },
  {
   "cell_type": "code",
   "execution_count": 104,
   "metadata": {},
   "outputs": [],
   "source": [
    "# Y_pred=do_eq(x, m, c)\n",
    "# rtc=dwrt_c(x, y, yp)\n",
    "# print 'rtc=',rtc"
   ]
  },
  {
   "cell_type": "markdown",
   "metadata": {},
   "source": [
    "### Training using Gradient Descent"
   ]
  },
  {
   "cell_type": "code",
   "execution_count": 106,
   "metadata": {},
   "outputs": [],
   "source": [
    "m = 0\n",
    "c = 0\n",
    "\n",
    "L = 0.0001  # The learning Rate\n",
    "epochs = 20000  # The number of iterations to perform gradient descent\n",
    "\n",
    "n = float(len(x))"
   ]
  },
  {
   "cell_type": "code",
   "execution_count": 107,
   "metadata": {},
   "outputs": [
    {
     "name": "stdout",
     "output_type": "stream",
     "text": [
      "(2.607279357681677, 55.279246941045926)\n"
     ]
    }
   ],
   "source": [
    "# Performing Gradient Descent \n",
    "err=[]\n",
    "for i in range(epochs): \n",
    "    Yp=predict(x, m, c)\n",
    "    ae=calc_error(y, Yp)\n",
    "    err.append(ae)\n",
    "    D_m=dwrt_m(x,y,Yp)\n",
    "    D_c= dwrt_c(x,y,Yp)\n",
    "    m = m - L * D_m  # Update m\n",
    "    c = c - L * D_c  # Update c\n",
    "    \n",
    "print (m, c)"
   ]
  },
  {
   "cell_type": "markdown",
   "metadata": {},
   "source": [
    "#### Predict for new x"
   ]
  },
  {
   "cell_type": "code",
   "execution_count": 95,
   "metadata": {},
   "outputs": [
    {
     "name": "stdout",
     "output_type": "stream",
     "text": [
      "263.861595556\n"
     ]
    }
   ],
   "source": [
    "xt=80\n",
    "yp = m*xt + c\n",
    "print yp"
   ]
  },
  {
   "cell_type": "code",
   "execution_count": 96,
   "metadata": {},
   "outputs": [
    {
     "data": {
      "image/png": "[encoded data removed]",
      "text/plain": [
       "<matplotlib.figure.Figure at 0xd1ee5c0>"
      ]
     },
     "metadata": {},
     "output_type": "display_data"
    }
   ],
   "source": [
    "Yp=[m*xx+c for xx in x]\n",
    "\n",
    "plt.scatter(x, y) \n",
    "plt.scatter(x, Yp, color='red')  # regression line\n",
    "plt.plot(x, Yp, color='red')  # regression line\n",
    "# plt.legend()\n",
    "plt.show()"
   ]
  },
  {
   "cell_type": "code",
   "execution_count": 97,
   "metadata": {},
   "outputs": [
    {
     "name": "stdout",
     "output_type": "stream",
     "text": [
      "total= 20000\n"
     ]
    }
   ],
   "source": [
    "print 'total=', len(err)\n",
    "xe=[i for i in range(len(err))]"
   ]
  },
  {
   "cell_type": "markdown",
   "metadata": {},
   "source": [
    "#### Plotting the loss"
   ]
  },
  {
   "cell_type": "code",
   "execution_count": 98,
   "metadata": {},
   "outputs": [
    {
     "data": {
      "image/png": "[encoded data removed]",
      "text/plain": [
       "<matplotlib.figure.Figure at 0xe1fc128>"
      ]
     },
     "metadata": {},
     "output_type": "display_data"
    }
   ],
   "source": [
    "plt.plot(  err)\n",
    "plt.show()"
   ]
  },
  {
   "cell_type": "markdown",
   "metadata": {},
   "source": [
    "### Using Scikit-Learn Linear Regression Model"
   ]
  },
  {
   "cell_type": "code",
   "execution_count": 111,
   "metadata": {},
   "outputs": [
    {
     "name": "stdout",
     "output_type": "stream",
     "text": [
      "[  84.21428571  109.57142857  134.92857143  160.28571429  185.64285714\n",
      "  211.          236.35714286]\n"
     ]
    }
   ],
   "source": [
    "from sklearn.linear_model import LinearRegression\n",
    "xx=[[ix] for ix in x]\n",
    "\n",
    "model = LinearRegression()\n",
    "model.fit(xx, y)\n",
    "\n",
    "pred=model.predict(xx)\n",
    "print pred"
   ]
  },
  {
   "cell_type": "code",
   "execution_count": 112,
   "metadata": {},
   "outputs": [
    {
     "data": {
      "image/png": "[encoded data removed]",
      "text/plain": [
       "<matplotlib.figure.Figure at 0xd1a8c50>"
      ]
     },
     "metadata": {},
     "output_type": "display_data"
    }
   ],
   "source": [
    "plt.scatter(x, y, color = 'red')\n",
    "plt.plot(x, pred, color = 'blue')\n",
    "plt.title('x vs y')\n",
    "plt.xlabel('x data')\n",
    "plt.ylabel('y data')\n",
    "plt.show()"
   ]
  },
  {
   "cell_type": "code",
   "execution_count": 113,
   "metadata": {},
   "outputs": [
    {
     "data": {
      "text/plain": [
       "array([ 261.71428571])"
      ]
     },
     "execution_count": 113,
     "metadata": {},
     "output_type": "execute_result"
    }
   ],
   "source": [
    "xt=[[80]]\n",
    "yp= model.predict(xt)\n",
    "yp"
   ]
  },
  {
   "cell_type": "code",
   "execution_count": null,
   "metadata": {},
   "outputs": [],
   "source": []
  },
  {
   "cell_type": "markdown",
   "metadata": {},
   "source": [
    "## Ref."
   ]
  },
  {
   "cell_type": "markdown",
   "metadata": {},
   "source": [
    "1.  https://www.kaggle.com/tentotheminus9/linear-regression-from-scratch-gradient-descent\n",
    "2.  https://towardsdatascience.com/linear-regression-using-gradient-descent-97a6c8700931\n",
    "3.  https://towardsdatascience.com/linear-regression-using-python-b136c91bf0a2\n",
    "4.  https://towardsdatascience.com/linear-regression-simplified-ordinary-least-square-vs-gradient-descent-48145de2cf76\n",
    "5.  https://towardsdatascience.com/mathematics-for-machine-learning-linear-regression-least-square-regression-de09cf53757c\n",
    "6.  https://www.youtube.com/watch?v=1C3olrs1CUw\n",
    "7.  https://medium.com/swlh/designing-linear-regression-from-scratch-ed542bf06943\n",
    "8. [very good] https://towardsdatascience.com/implementation-of-uni-variate-linear-regression-in-python-using-gradient-descent-optimization-from-3491a13ca2b0\n"
   ]
  },
  {
   "cell_type": "code",
   "execution_count": null,
   "metadata": {},
   "outputs": [],
   "source": []
  }
 ],
 "metadata": {
  "kernelspec": {
   "display_name": "Python 2",
   "language": "python",
   "name": "python2"
  },
  "language_info": {
   "codemirror_mode": {
    "name": "ipython",
    "version": 2
   },
   "file_extension": ".py",
   "mimetype": "text/x-python",
   "name": "python",
   "nbconvert_exporter": "python",
   "pygments_lexer": "ipython2",
   "version": "2.7.15"
  }
 },
 "nbformat": 4,
 "nbformat_minor": 2
}
