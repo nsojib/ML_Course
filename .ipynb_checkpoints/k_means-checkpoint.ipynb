{
 "cells": [
  {
   "cell_type": "code",
   "execution_count": 1,
   "metadata": {},
   "outputs": [],
   "source": [
    "import pandas as pd\n",
    "import numpy as np\n",
    "import matplotlib.pyplot as plt\n",
    "%matplotlib inline"
   ]
  },
  {
   "cell_type": "code",
   "execution_count": 2,
   "metadata": {},
   "outputs": [],
   "source": [
    "X=[[ 12 , 39 ],\n",
    "[ 20 , 36 ],\n",
    "[ 28 , 30 ],\n",
    "[ 18 , 52 ],\n",
    "[ 29 , 54 ],\n",
    "[ 33 , 46 ],\n",
    "[ 24 , 55 ],\n",
    "[ 45 , 59 ],\n",
    "[ 45 , 63 ],\n",
    "[ 52 , 70 ],\n",
    "[ 51 , 66 ],\n",
    "[ 52 , 63 ],\n",
    "[ 55 , 58 ],\n",
    "[ 53 , 23 ],\n",
    "[ 55 , 14 ],\n",
    "[ 61 , 8 ],\n",
    "[ 64 , 19 ],\n",
    "[ 69 , 7 ],\n",
    "[ 72 , 24 ]]\n",
    "\n",
    "X=np.array(X)"
   ]
  },
  {
   "cell_type": "code",
   "execution_count": 17,
   "metadata": {},
   "outputs": [
    {
     "data": {
      "image/png": "[encoded data removed]",
      "text/plain": [
       "<Figure size 432x288 with 1 Axes>"
      ]
     },
     "metadata": {
      "needs_background": "light"
     },
     "output_type": "display_data"
    }
   ],
   "source": [
    "plt.scatter(X[:,0],X[:,1],marker='o' ) \n",
    " \n",
    "colmap = {0: 'r', 1: 'g', 2: 'y'}\n",
    "for i in centroids.keys():\n",
    "    plt.scatter(*centroids[i], color=colmap[i]) \n",
    "plt.show()"
   ]
  },
  {
   "cell_type": "code",
   "execution_count": 18,
   "metadata": {},
   "outputs": [
    {
     "name": "stdout",
     "output_type": "stream",
     "text": [
      "{0: array([69,  7]), 1: array([52, 70]), 2: array([55, 58])}\n"
     ]
    }
   ],
   "source": [
    "print(centroids)"
   ]
  },
  {
   "cell_type": "code",
   "execution_count": 19,
   "metadata": {},
   "outputs": [
    {
     "name": "stdout",
     "output_type": "stream",
     "text": [
      "{0: [43.33, 56.55], 1: [62.33, 15.83], 2: [18.5, 43.0]}\n"
     ]
    }
   ],
   "source": [
    "cnt2={0:[43.33, 56.55], 1:[62.33, 15.83], 2:[18.5, 43.0]}\n",
    "print(cnt2)"
   ]
  },
  {
   "cell_type": "code",
   "execution_count": null,
   "metadata": {},
   "outputs": [],
   "source": []
  },
  {
   "cell_type": "code",
   "execution_count": 20,
   "metadata": {},
   "outputs": [
    {
     "data": {
      "image/png": "[encoded data removed]",
      "text/plain": [
       "<Figure size 432x288 with 1 Axes>"
      ]
     },
     "metadata": {
      "needs_background": "light"
     },
     "output_type": "display_data"
    }
   ],
   "source": [
    "#centroids manual feeding\n",
    "\n",
    "plt.scatter(X[:,0],X[:,1],marker='o' ) \n",
    " \n",
    "colmap = {0: 'r', 1: 'g', 2: 'y'}\n",
    "for i in cnt2.keys():\n",
    "    plt.scatter(*cnt2[i], color=colmap[i]) \n",
    "plt.show()"
   ]
  },
  {
   "cell_type": "code",
   "execution_count": 3,
   "metadata": {},
   "outputs": [],
   "source": [
    "def get_random_centroids(k):\n",
    "    centroids={}\n",
    "    while True:\n",
    "        ri=np.random.choice(range(len(X)), k)\n",
    "        print(ri)\n",
    "        if len(set(ri))==k:  #found distinct k indexes.\n",
    "            for i in range(k):\n",
    "                centroids[i]=X[ri[i]]\n",
    "            break\n",
    "\n",
    "    return centroids"
   ]
  },
  {
   "cell_type": "code",
   "execution_count": 4,
   "metadata": {},
   "outputs": [
    {
     "name": "stdout",
     "output_type": "stream",
     "text": [
      "[15 14  6]\n",
      "centroids:  {0: array([61,  8]), 1: array([55, 14]), 2: array([24, 55])}\n"
     ]
    }
   ],
   "source": [
    "k = 3\n",
    "# k=4\n",
    "centroids={}\n",
    "while True:\n",
    "    ri=np.random.choice(range(len(X)), k)\n",
    "    print(ri)\n",
    "    if len(set(ri))==k:  #found distinct k indexes.\n",
    "        for i in range(k):\n",
    "            centroids[i]=X[ri[i]]\n",
    "        break\n",
    "\n",
    "print('centroids: ',centroids)"
   ]
  },
  {
   "cell_type": "code",
   "execution_count": 53,
   "metadata": {},
   "outputs": [
    {
     "name": "stdout",
     "output_type": "stream",
     "text": [
      "{0: array([33, 46]), 1: array([45, 59]), 2: array([55, 58]), 3: array([24, 55])}\n"
     ]
    }
   ],
   "source": [
    "print(centroids)"
   ]
  },
  {
   "cell_type": "code",
   "execution_count": 54,
   "metadata": {},
   "outputs": [],
   "source": [
    "def e_dist(x1, x2):\n",
    "    return np.linalg.norm(x1-x2)"
   ]
  },
  {
   "cell_type": "code",
   "execution_count": 55,
   "metadata": {},
   "outputs": [],
   "source": [
    "def e_dist(x1, x2):\n",
    "    return np.sqrt( (x1[0]-x2[0])**2 +  (x1[1]-x2[1])**2)"
   ]
  },
  {
   "cell_type": "code",
   "execution_count": 56,
   "metadata": {},
   "outputs": [
    {
     "data": {
      "text/plain": [
       "5.0"
      ]
     },
     "execution_count": 56,
     "metadata": {},
     "output_type": "execute_result"
    }
   ],
   "source": [
    "e_dist(np.array([0,0]), np.array([3,4]))"
   ]
  },
  {
   "cell_type": "code",
   "execution_count": 57,
   "metadata": {},
   "outputs": [
    {
     "data": {
      "text/plain": [
       "(0, 31.47545300725367)"
      ]
     },
     "execution_count": 57,
     "metadata": {},
     "output_type": "execute_result"
    }
   ],
   "source": [
    "# find the minimum by comparing the second element of each tuple\n",
    "min(dists.items(), key=lambda x: x[1]) "
   ]
  },
  {
   "cell_type": "code",
   "execution_count": 58,
   "metadata": {},
   "outputs": [
    {
     "name": "stdout",
     "output_type": "stream",
     "text": [
      "x= [12 39]  closest c= [24 55]\n",
      "x= [20 36]  closest c= [33 46]\n",
      "x= [28 30]  closest c= [33 46]\n",
      "x= [18 52]  closest c= [24 55]\n",
      "x= [29 54]  closest c= [24 55]\n",
      "x= [33 46]  closest c= [33 46]\n",
      "x= [24 55]  closest c= [24 55]\n",
      "x= [45 59]  closest c= [45 59]\n",
      "x= [45 63]  closest c= [45 59]\n",
      "x= [52 70]  closest c= [55 58]\n",
      "x= [51 66]  closest c= [55 58]\n",
      "x= [52 63]  closest c= [55 58]\n",
      "x= [55 58]  closest c= [55 58]\n",
      "x= [53 23]  closest c= [33 46]\n",
      "x= [55 14]  closest c= [33 46]\n",
      "x= [61  8]  closest c= [33 46]\n",
      "x= [64 19]  closest c= [55 58]\n",
      "x= [69  7]  closest c= [55 58]\n",
      "x= [72 24]  closest c= [55 58]\n"
     ]
    }
   ],
   "source": [
    "# x=[12,39]\n",
    "\n",
    "for i in range(19):\n",
    "    x=X[i]\n",
    "    mc=[]\n",
    "    md=9999999\n",
    "    for k,v in centroids.items():\n",
    "    #     print(k, v)\n",
    "        d=e_dist(x, v)\n",
    "    #     print('x=',x,' c=',v,' d=',d)\n",
    "        if d<=md:\n",
    "            md=d\n",
    "            mc=v\n",
    "    print('x=',x,' closest c=',mc)\n",
    "    # c1=[29,54]\n",
    "    # c2=[24,55]\n",
    "    # c3=[53,23]\n",
    "\n",
    "# for x in X:\n",
    "#     d=e_dist(c1, x)\n",
    "#     print(x, d)"
   ]
  },
  {
   "cell_type": "code",
   "execution_count": null,
   "metadata": {},
   "outputs": [],
   "source": []
  },
  {
   "cell_type": "code",
   "execution_count": 59,
   "metadata": {},
   "outputs": [
    {
     "name": "stdout",
     "output_type": "stream",
     "text": [
      "centroids:  {0: array([33, 46]), 1: array([45, 59]), 2: array([55, 58]), 3: array([24, 55])}\n",
      "centroids:  {0: array([41.66666667, 26.16666667]), 1: array([45., 61.]), 2: array([59.28571429, 43.85714286]), 3: array([24, 55])}\n",
      "centroids:  {0: array([55.        , 16.83333333]), 1: array([50.        , 63.16666667]), 2: array([72., 24.]), 3: array([24, 55])}\n",
      "centroids:  {0: array([60.4, 14.2]), 1: array([50.        , 63.16666667]), 2: array([72., 24.]), 3: array([24, 55])}\n",
      "NO FURTHER UPDATE\n"
     ]
    }
   ],
   "source": [
    "nitr=100\n",
    "\n",
    "old_centroids={}\n",
    "for i in range(nitr):\n",
    "    clusters={}\n",
    "    for ik,iv in centroids.items():\n",
    "        clusters[ik]=[]\n",
    "    \n",
    "    print('centroids: ',centroids)\n",
    "    for x in X:\n",
    "        dists={}\n",
    "        for k,v in centroids.items():\n",
    "            dists[k]=e_dist(x, v)\n",
    "#         print(x, dists)\n",
    "\n",
    "        md=min(dists.items(), key=lambda x: x[1]) #get the min dist vector.\n",
    "    #     print('mk=',md[0])\n",
    "        clusters[md[0]].append(x)\n",
    "\n",
    "    for ik in range(k):\n",
    "        old_centroids[ik]=centroids[ik].copy()\n",
    "    #update centroids.\n",
    "    nc={}\n",
    "    for ik in range(k):\n",
    "        avg_c=np.array(clusters[ik]).mean(axis=0)\n",
    "        nc[ik]=avg_c  #average.\n",
    "        centroids[ik]=avg_c\n",
    "    \n",
    "    #checking centroids update.\n",
    "    nupdate=0\n",
    "    for ik in range(k):\n",
    "        if e_dist( centroids[ik], old_centroids[ik] ) > 0:\n",
    "            nupdate+=1\n",
    "    if nupdate==0:\n",
    "        print('NO FURTHER UPDATE')\n",
    "        break\n",
    "        \n",
    "#     break\n",
    "    "
   ]
  },
  {
   "cell_type": "code",
   "execution_count": 60,
   "metadata": {},
   "outputs": [
    {
     "name": "stdout",
     "output_type": "stream",
     "text": [
      "{0: array([60.4, 14.2]), 1: array([50.        , 63.16666667]), 2: array([72., 24.]), 3: array([24, 55])}\n"
     ]
    }
   ],
   "source": [
    "print(centroids)"
   ]
  },
  {
   "cell_type": "code",
   "execution_count": 64,
   "metadata": {},
   "outputs": [
    {
     "data": {
      "image/png": "[encoded data removed]",
      "text/plain": [
       "<Figure size 432x288 with 1 Axes>"
      ]
     },
     "metadata": {
      "needs_background": "light"
     },
     "output_type": "display_data"
    }
   ],
   "source": [
    "plt.scatter(X[:,0],X[:,1],marker='o' )\n",
    "\n",
    "# colmap = {0: 'r', 1: 'g', 2: 'y', 3:'b'}\n",
    "# for i in centroids.keys():\n",
    "#     plt.scatter(centroids[i][0], centroids[i][1], color=colmap[i])\n",
    "plt.show()"
   ]
  },
  {
   "cell_type": "code",
   "execution_count": 62,
   "metadata": {},
   "outputs": [
    {
     "data": {
      "text/plain": [
       "{0: array([60.4, 14.2]),\n",
       " 1: array([50.        , 63.16666667]),\n",
       " 2: array([72., 24.]),\n",
       " 3: array([24, 55])}"
      ]
     },
     "execution_count": 62,
     "metadata": {},
     "output_type": "execute_result"
    }
   ],
   "source": [
    "centroids"
   ]
  },
  {
   "cell_type": "code",
   "execution_count": 63,
   "metadata": {},
   "outputs": [
    {
     "name": "stdout",
     "output_type": "stream",
     "text": [
      "sse= 2195.8333333333335\n"
     ]
    }
   ],
   "source": [
    "sse=0\n",
    "for cluster,centroid in zip(clusters.values() ,centroids.values()):\n",
    "#     print(centroid) \n",
    "    for x in cluster:\n",
    "        d=e_dist(x, centroid)\n",
    "        sse+=d*d\n",
    "print('sse=',sse)"
   ]
  },
  {
   "cell_type": "code",
   "execution_count": 76,
   "metadata": {},
   "outputs": [
    {
     "name": "stdout",
     "output_type": "stream",
     "text": [
      "1\n",
      "2\n",
      "3\n",
      "4\n",
      "5\n",
      "6\n",
      "7\n",
      "8\n",
      "9\n"
     ]
    }
   ],
   "source": [
    "for a in range(1,10):\n",
    "    print(a)"
   ]
  },
  {
   "cell_type": "code",
   "execution_count": 77,
   "metadata": {},
   "outputs": [
    {
     "name": "stdout",
     "output_type": "stream",
     "text": [
      "[16]\n",
      "centroids:  {0: array([64, 19])}\n",
      "NO FURTHER UPDATE\n",
      "k= 0 sse= 30681.0\n",
      "[1 6]\n",
      "centroids:  {0: array([20, 36]), 1: array([24, 55])}\n",
      "centroids:  {0: array([48.22222222, 22.22222222]), 1: array([24, 55])}\n",
      "centroids:  {0: array([57.42857143, 17.85714286]), 1: array([24, 55])}\n",
      "centroids:  {0: array([62.33333333, 15.83333333]), 1: array([24, 55])}\n",
      "NO FURTHER UPDATE\n",
      "k= 1 sse= 6844.166666666666\n",
      "[ 1 11  0]\n",
      "centroids:  {0: array([20, 36]), 1: array([52, 63]), 2: array([12, 39])}\n",
      "centroids:  {0: array([41.33333333, 30.33333333]), 1: array([54.5 , 52.75]), 2: array([12, 39])}\n",
      "centroids:  {0: array([54.375, 21.375]), 1: array([50.        , 63.16666667]), 2: array([12, 39])}\n",
      "centroids:  {0: array([62.33333333, 15.83333333]), 1: array([50.        , 63.16666667]), 2: array([12, 39])}\n",
      "NO FURTHER UPDATE\n",
      "k= 2 sse= 2756.0\n",
      "[15  3 15  0]\n",
      "[11  8  4  0]\n",
      "centroids:  {0: array([52, 63]), 1: array([45, 63]), 2: array([29, 54]), 3: array([12, 39])}\n",
      "centroids:  {0: array([59.5  , 39.375]), 1: array([45., 61.]), 2: array([35.33333333, 40.66666667]), 3: array([12, 39])}\n",
      "centroids:  {0: array([62.33333333, 15.83333333]), 1: array([50.        , 63.16666667]), 2: array([28.5 , 46.25]), 3: array([12, 39])}\n",
      "centroids:  {0: array([62.33333333, 15.83333333]), 1: array([50.        , 63.16666667]), 2: array([26.4, 47.4]), 3: array([12, 39])}\n",
      "NO FURTHER UPDATE\n",
      "k= 3 sse= 1366.4\n",
      "[ 5 18 15  9  4]\n",
      "centroids:  {0: array([33, 46]), 1: array([72, 24]), 2: array([61,  8]), 3: array([52, 70]), 4: array([29, 54])}\n",
      "centroids:  {0: array([23.25, 37.75]), 1: array([68. , 21.5]), 2: array([59.5, 13. ]), 3: array([50.        , 63.16666667]), 4: array([29, 54])}\n",
      "centroids:  {0: array([20., 35.]), 1: array([68. , 21.5]), 2: array([59.5, 13. ]), 3: array([50.        , 63.16666667]), 4: array([29, 54])}\n",
      "NO FURTHER UPDATE\n",
      "k= 4 sse= 945.3333333333335\n",
      "[ 2 14  9  3 10 10]\n",
      "[ 9 17  0 14  5 12]\n",
      "centroids:  {0: array([52, 70]), 1: array([69,  7]), 2: array([12, 39]), 3: array([55, 14]), 4: array([33, 46]), 5: array([55, 58])}\n",
      "centroids:  {0: array([49.33333333, 66.33333333]), 1: array([67.33333333, 13.        ]), 2: array([16.66666667, 42.33333333]), 3: array([57.33333333, 18.66666667]), 4: array([28.5 , 46.25]), 5: array([55, 58])}\n",
      "centroids:  {0: array([49. , 64.2]), 1: array([67.33333333, 13.        ]), 2: array([16.66666667, 42.33333333]), 3: array([57.33333333, 18.66666667]), 4: array([28.5 , 46.25]), 5: array([55, 58])}\n",
      "NO FURTHER UPDATE\n",
      "k= 5 sse= 1097.8833333333332\n",
      "[11  2 10  8  4  1  1]\n",
      "[15  2  9 16 13  8 10]\n",
      "centroids:  {0: array([61,  8]), 1: array([28, 30]), 2: array([52, 70]), 3: array([64, 19]), 4: array([53, 23]), 5: array([45, 63]), 6: array([51, 66])}\n",
      "centroids:  {0: array([61.66666667,  9.66666667]), 1: array([22.2, 40.6]), 2: array([52., 70.]), 3: array([68. , 21.5]), 4: array([53., 23.]), 5: array([35.75, 57.75]), 6: array([51, 66])}\n",
      "centroids:  {0: array([61.66666667,  9.66666667]), 1: array([19.5 , 39.25]), 2: array([52., 70.]), 3: array([68. , 21.5]), 4: array([53., 23.]), 5: array([28.66666667, 51.66666667]), 6: array([51, 66])}\n",
      "centroids:  {0: array([61.66666667,  9.66666667]), 1: array([20., 35.]), 2: array([52., 70.]), 3: array([68. , 21.5]), 4: array([53., 23.]), 5: array([26.  , 51.75]), 6: array([51, 66])}\n",
      "NO FURTHER UPDATE\n",
      "k= 6 sse= 736.5833333333334\n",
      "[ 9  0  0  9  8  2 17  6]\n",
      "[12 15 17 14 18  1 14 14]\n",
      "[14  8 10  3 14  8 10  3]\n",
      "[ 3 14 18 11 12 10 16 12]\n",
      "[ 5  9  3  4 12  6  4  2]\n",
      "[15 13  2 15 15 15 12  1]\n",
      "[ 6  6 17 18  3  9  1  6]\n",
      "[12  9  6  8 17  5 13  7]\n",
      "centroids:  {0: array([55, 58]), 1: array([52, 70]), 2: array([24, 55]), 3: array([45, 63]), 4: array([69,  7]), 5: array([33, 46]), 6: array([53, 23]), 7: array([45, 59])}\n",
      "centroids:  {0: array([53.5, 60.5]), 1: array([51.5, 68. ]), 2: array([20.75, 50.  ]), 3: array([45., 63.]), 4: array([67.33333333, 13.        ]), 5: array([27.        , 37.33333333]), 6: array([57.33333333, 18.66666667]), 7: array([45, 59])}\n",
      "NO FURTHER UPDATE\n",
      "k= 7 sse= 926.9166666666667\n",
      "[ 4  8  1  1  2  3 16 17  9]\n",
      "[ 3  3  7  0  0  5  4 14  4]\n",
      "[ 5  3  1 10 14 13  2 12 11]\n",
      "centroids:  {0: array([33, 46]), 1: array([18, 52]), 2: array([20, 36]), 3: array([51, 66]), 4: array([55, 14]), 5: array([53, 23]), 6: array([28, 30]), 7: array([55, 58]), 8: array([52, 63])}\n",
      "centroids:  {0: array([31., 50.]), 1: array([21. , 53.5]), 2: array([16. , 37.5]), 3: array([49.33333333, 66.33333333]), 4: array([62.25, 12.  ]), 5: array([62.5, 23.5]), 6: array([28., 30.]), 7: array([55., 58.]), 8: array([52, 63])}\n",
      "centroids:  {0: array([31., 50.]), 1: array([21. , 53.5]), 2: array([16. , 37.5]), 3: array([49.33333333, 66.33333333]), 4: array([61.66666667,  9.66666667]), 5: array([63., 22.]), 6: array([28., 30.]), 7: array([55., 58.]), 8: array([52, 63])}\n",
      "NO FURTHER UPDATE\n",
      "k= 8 sse= 540.6666666666666\n"
     ]
    }
   ],
   "source": [
    "nitr=100\n",
    "sses={}\n",
    "for k in range(1,10):\n",
    "    \n",
    "    centroids=get_random_centroids(k)\n",
    "    old_centroids={}\n",
    "    for i in range(nitr):\n",
    "        clusters={}\n",
    "        for ik,iv in centroids.items():\n",
    "            clusters[ik]=[]\n",
    "\n",
    "        print('centroids: ',centroids)\n",
    "        for x in X:\n",
    "            dists={}\n",
    "            for k,v in centroids.items():\n",
    "                dists[k]=e_dist(x, v)\n",
    "    #         print(x, dists)\n",
    "\n",
    "            md=min(dists.items(), key=lambda x: x[1]) #get the min dist vector.\n",
    "        #     print('mk=',md[0])\n",
    "            clusters[md[0]].append(x)\n",
    "\n",
    "        for ik in range(k):\n",
    "            old_centroids[ik]=centroids[ik].copy()\n",
    "        #update centroids.\n",
    "        nc={}\n",
    "        for ik in range(k):\n",
    "            avg_c=np.array(clusters[ik]).mean(axis=0)\n",
    "            nc[ik]=avg_c  #average.\n",
    "            centroids[ik]=avg_c\n",
    "\n",
    "        #checking centroids update.\n",
    "        nupdate=0\n",
    "        for ik in range(k):\n",
    "            if e_dist( centroids[ik], old_centroids[ik] ) > 0:\n",
    "                nupdate+=1\n",
    "        if nupdate==0:\n",
    "            print('NO FURTHER UPDATE')\n",
    "            break\n",
    "\n",
    "    #     break\n",
    "\n",
    "    sse=0\n",
    "    for cluster,centroid in zip(clusters.values() ,centroids.values()):\n",
    "    #     print(centroid) \n",
    "        for x in cluster:\n",
    "            d=e_dist(x, centroid)\n",
    "            sse+=d*d\n",
    "    print('k=',k, 'sse=',sse)\n",
    "    sses[k]=sse"
   ]
  },
  {
   "cell_type": "code",
   "execution_count": 72,
   "metadata": {},
   "outputs": [
    {
     "data": {
      "text/plain": [
       "{0: 23729.0,\n",
       " 1: 15563.0,\n",
       " 2: 2221.0,\n",
       " 3: 2301.1785714285716,\n",
       " 4: 1000.6666666666666,\n",
       " 5: 1100.9999999999998,\n",
       " 6: 838.5,\n",
       " 7: 531.9166666666667,\n",
       " 8: 481.08333333333337}"
      ]
     },
     "execution_count": 72,
     "metadata": {},
     "output_type": "execute_result"
    }
   ],
   "source": [
    "sses"
   ]
  },
  {
   "cell_type": "code",
   "execution_count": null,
   "metadata": {},
   "outputs": [],
   "source": [
    "# sse= 1928.595238095238\n",
    "# sse=9486.846153846154\n",
    "# sse= 2195.8333333333335"
   ]
  },
  {
   "cell_type": "code",
   "execution_count": 80,
   "metadata": {},
   "outputs": [
    {
     "name": "stdout",
     "output_type": "stream",
     "text": [
      "[1, 2, 3, 4, 5, 6, 7, 8, 9]\n"
     ]
    }
   ],
   "source": [
    "ks=[i+1 for i in range(len(sses.values()))]\n",
    "print(ks)"
   ]
  },
  {
   "cell_type": "code",
   "execution_count": 81,
   "metadata": {},
   "outputs": [
    {
     "data": {
      "image/png": "[encoded data removed]",
      "text/plain": [
       "<Figure size 432x288 with 1 Axes>"
      ]
     },
     "metadata": {
      "needs_background": "light"
     },
     "output_type": "display_data"
    }
   ],
   "source": [
    "# sses=[9486.846153846154, 1928.595238095238, 2195.8333333333335]\n",
    "plt.plot(ks, sses.values())\n",
    "plt.show()"
   ]
  },
  {
   "cell_type": "code",
   "execution_count": null,
   "metadata": {},
   "outputs": [],
   "source": []
  },
  {
   "cell_type": "code",
   "execution_count": 6,
   "metadata": {},
   "outputs": [],
   "source": [
    "from sklearn.cluster import KMeans"
   ]
  },
  {
   "cell_type": "code",
   "execution_count": 7,
   "metadata": {},
   "outputs": [],
   "source": [
    "km=KMeans(n_clusters=3)"
   ]
  },
  {
   "cell_type": "code",
   "execution_count": 8,
   "metadata": {},
   "outputs": [
    {
     "data": {
      "text/plain": [
       "KMeans(algorithm='auto', copy_x=True, init='k-means++', max_iter=300,\n",
       "    n_clusters=3, n_init=10, n_jobs=None, precompute_distances='auto',\n",
       "    random_state=None, tol=0.0001, verbose=0)"
      ]
     },
     "execution_count": 8,
     "metadata": {},
     "output_type": "execute_result"
    }
   ],
   "source": [
    "km.fit(X)"
   ]
  },
  {
   "cell_type": "code",
   "execution_count": 9,
   "metadata": {},
   "outputs": [
    {
     "name": "stdout",
     "output_type": "stream",
     "text": [
      "[[23.42857143 44.57142857]\n",
      " [50.         63.16666667]\n",
      " [62.33333333 15.83333333]]\n"
     ]
    }
   ],
   "source": [
    "sc=km.cluster_centers_\n",
    "print(sc)"
   ]
  },
  {
   "cell_type": "code",
   "execution_count": null,
   "metadata": {},
   "outputs": [],
   "source": []
  },
  {
   "cell_type": "code",
   "execution_count": 10,
   "metadata": {},
   "outputs": [
    {
     "data": {
      "image/png": "[encoded data removed]",
      "text/plain": [
       "<Figure size 432x288 with 1 Axes>"
      ]
     },
     "metadata": {
      "needs_background": "light"
     },
     "output_type": "display_data"
    }
   ],
   "source": [
    "\n",
    "\n",
    "plt.scatter(X[:,0],X[:,1],marker='o' )\n",
    "\n",
    "colmap = {0: 'r', 1: 'g', 2: 'y'}\n",
    "for i,c in enumerate(sc):\n",
    "    plt.scatter(c[0], c[1], color=colmap[i])\n",
    "plt.show()"
   ]
  },
  {
   "cell_type": "code",
   "execution_count": 11,
   "metadata": {},
   "outputs": [
    {
     "name": "stdout",
     "output_type": "stream",
     "text": [
      "0 4\n",
      "1 6\n",
      "2 100\n",
      "second:\n",
      "0 4\n",
      "1 6\n",
      "2 100\n"
     ]
    }
   ],
   "source": [
    "d=[4,6,100]\n",
    "\n",
    "i=0\n",
    "for id in d:\n",
    "    print(i, id)\n",
    "    i+=1\n",
    "\n",
    "print('second:')\n",
    "for i, id in enumerate(d):\n",
    "    print(i, id)"
   ]
  },
  {
   "cell_type": "code",
   "execution_count": 15,
   "metadata": {},
   "outputs": [
    {
     "data": {
      "text/plain": [
       "array([[23.42857143, 44.57142857],\n",
       "       [50.        , 63.16666667],\n",
       "       [62.33333333, 15.83333333]])"
      ]
     },
     "execution_count": 15,
     "metadata": {},
     "output_type": "execute_result"
    }
   ],
   "source": [
    "km.cluster_centers_"
   ]
  },
  {
   "cell_type": "code",
   "execution_count": null,
   "metadata": {},
   "outputs": [],
   "source": []
  },
  {
   "cell_type": "code",
   "execution_count": null,
   "metadata": {},
   "outputs": [],
   "source": []
  }
 ],
 "metadata": {
  "kernelspec": {
   "display_name": "Python 3",
   "language": "python",
   "name": "python3"
  },
  "language_info": {
   "codemirror_mode": {
    "name": "ipython",
    "version": 3
   },
   "file_extension": ".py",
   "mimetype": "text/x-python",
   "name": "python",
   "nbconvert_exporter": "python",
   "pygments_lexer": "ipython3",
   "version": "3.7.0"
  }
 },
 "nbformat": 4,
 "nbformat_minor": 2
}
