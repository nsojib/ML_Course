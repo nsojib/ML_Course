{
 "cells": [
  {
   "cell_type": "markdown",
   "metadata": {},
   "source": [
    "### Decision Tree on Weather Data\n",
    "\n",
    "Decision Tree works for both categorical and contineous data."
   ]
  },
  {
   "cell_type": "code",
   "execution_count": 1,
   "metadata": {},
   "outputs": [],
   "source": [
    "from pprint import pprint\n",
    "from math import log\n",
    "import numpy as np"
   ]
  },
  {
   "cell_type": "code",
   "execution_count": 2,
   "metadata": {},
   "outputs": [
    {
     "name": "stdout",
     "output_type": "stream",
     "text": [
      "[['Sunny', 'Hot', 'High', 'Weak', 'No'],\n",
      " ['Sunny', 'Hot', 'High', 'Strong', 'No'],\n",
      " ['Overcast', 'Hot', 'High', 'Weak', 'Yes'],\n",
      " ['Rain', 'Mild', 'High', 'Weak', 'Yes'],\n",
      " ['Rain', 'Cool', 'Normal', 'Weak', 'Yes'],\n",
      " ['Rain', 'Cool', 'Normal', 'Strong', 'No'],\n",
      " ['Overcast', 'Cool', 'Normal', 'Strong', 'Yes'],\n",
      " ['Sunny', 'Mild', 'High', 'Weak', 'No'],\n",
      " ['Sunny', 'Cool', 'Normal', 'Weak', 'Yes'],\n",
      " ['Rain', 'Mild', 'Normal', 'Weak', 'Yes'],\n",
      " ['Sunny', 'Mild', 'Normal', 'Strong', 'Yes'],\n",
      " ['Overcast', 'Mild', 'High', 'Strong', 'Yes'],\n",
      " ['Overcast', 'Hot', 'Normal', 'Weak', 'Yes'],\n",
      " ['Rain', 'Mild', 'High', 'Strong', 'No']]\n"
     ]
    }
   ],
   "source": [
    "# outlook, Temperature, Humidity, Wind, Playd Football(yes/no)\n",
    "training_data= [\n",
    "    ['Sunny', 'Hot', 'High', 'Weak', 'No'],\n",
    "    ['Sunny', 'Hot', 'High', 'Strong', 'No'],\n",
    "    ['Overcast', 'Hot', 'High', 'Weak', 'Yes'],\n",
    "    ['Rain', 'Mild', 'High', 'Weak', 'Yes'],\n",
    "    ['Rain', 'Cool', 'Normal', 'Weak', 'Yes'],\n",
    "    ['Rain', 'Cool', 'Normal', 'Strong', 'No'],\n",
    "    ['Overcast', 'Cool', 'Normal', 'Strong', 'Yes'],\n",
    "    ['Sunny', 'Mild', 'High', 'Weak', 'No'],\n",
    "    ['Sunny', 'Cool', 'Normal', 'Weak', 'Yes'],\n",
    "    ['Rain', 'Mild', 'Normal', 'Weak', 'Yes'],\n",
    "    ['Sunny', 'Mild', 'Normal', 'Strong', 'Yes'],\n",
    "    ['Overcast', 'Mild', 'High', 'Strong', 'Yes'],\n",
    "    ['Overcast', 'Hot', 'Normal', 'Weak', 'Yes'],\n",
    "    ['Rain', 'Mild', 'High', 'Strong', 'No']\n",
    "]\n",
    "\n",
    "pprint(training_data)"
   ]
  },
  {
   "cell_type": "code",
   "execution_count": 3,
   "metadata": {},
   "outputs": [],
   "source": [
    "def count_class_freq(rows):\n",
    "    #last column is the class\n",
    "    classes={} #dictionary\n",
    "    for row in rows:\n",
    "        c=row[-1]\n",
    "        if c not in classes:\n",
    "            classes[c]=1\n",
    "        else:\n",
    "            classes[c]+=1\n",
    "    return classes"
   ]
  },
  {
   "cell_type": "code",
   "execution_count": 4,
   "metadata": {},
   "outputs": [
    {
     "data": {
      "text/plain": [
       "{'No': 5, 'Yes': 9}"
      ]
     },
     "execution_count": 4,
     "metadata": {},
     "output_type": "execute_result"
    }
   ],
   "source": [
    "count_class_freq(training_data)"
   ]
  },
  {
   "cell_type": "markdown",
   "metadata": {},
   "source": [
    "#### Impurity\n",
    "1. How much data is mixed up.\n",
    "2. for two class if one class present, impurity=0\n",
    "3. if two class present, impurity=0.5\n",
    "\n",
    "\n",
    "#### Information Gain\n",
    "ig= current impurity - ( split into groups, weighted sum of impurity of the groups)"
   ]
  },
  {
   "cell_type": "markdown",
   "metadata": {},
   "source": [
    "#### Gini index and Entropy\n",
    "Decision tree algorithms use information gain to split a node. Gini index or entropy is the criterion for calculating information gain. \n",
    "Both gini and entropy are measures of impurity of a node. A node having multiple classes is impure whereas a node having only one class is pure.  Entropy in statistics is analogous to entropy in thermodynamics where it signifies disorder. If there are multiple classes in a node, there is disorder in that node. \n",
    " \n",
    "Information gain is the entropy of parent node minus sum of weighted entropies of child nodes. \n",
    " Weight of a child node is number of samples in the node/total samples of all child nodes. Similarly information gain is calculated with gini score. \n",
    " <img src='imgs/ginientropy.jpg'>\n",
    " #### Entropy vs gini\n",
    "<img src='imgs/entropy_vs_gini.png' width=40%>"
   ]
  },
  {
   "cell_type": "code",
   "execution_count": 5,
   "metadata": {},
   "outputs": [],
   "source": [
    "def gini(rows):\n",
    "    classes=count_class_freq(rows)\n",
    "    impurity = 1\n",
    "    for c in classes:\n",
    "        prob_of_c = classes[c] / float(len(rows))\n",
    "        impurity -= prob_of_c**2\n",
    "    return impurity"
   ]
  },
  {
   "cell_type": "code",
   "execution_count": 6,
   "metadata": {},
   "outputs": [],
   "source": [
    "def entropy(rows):\n",
    "    classes=count_class_freq(rows)\n",
    "    impurity = 0\n",
    "    for c in classes:\n",
    "        prob_of_c = classes[c] / float(len(rows))\n",
    "        impurity -= prob_of_c*  log(prob_of_c, 2)  #2 base log.\n",
    "    return impurity"
   ]
  },
  {
   "cell_type": "code",
   "execution_count": 7,
   "metadata": {},
   "outputs": [
    {
     "data": {
      "text/plain": [
       "0.4591836734693877"
      ]
     },
     "execution_count": 7,
     "metadata": {},
     "output_type": "execute_result"
    }
   ],
   "source": [
    "gini(training_data)"
   ]
  },
  {
   "cell_type": "code",
   "execution_count": 8,
   "metadata": {},
   "outputs": [
    {
     "data": {
      "text/plain": [
       "0.9402859586706309"
      ]
     },
     "execution_count": 8,
     "metadata": {},
     "output_type": "execute_result"
    }
   ],
   "source": [
    "entropy(training_data)"
   ]
  },
  {
   "cell_type": "code",
   "execution_count": 9,
   "metadata": {},
   "outputs": [
    {
     "name": "stdout",
     "output_type": "stream",
     "text": [
      "['Overcast' 'Rain' 'Sunny']\n"
     ]
    }
   ],
   "source": [
    "npd=np.array(training_data)\n",
    "vls=np.unique( npd[:,0] )\n",
    "print(vls)"
   ]
  },
  {
   "cell_type": "code",
   "execution_count": 10,
   "metadata": {},
   "outputs": [],
   "source": [
    "def split(rows, col):\n",
    "    ds={}\n",
    "    for row in rows:\n",
    "        cv=row[col]\n",
    "        if cv in ds:\n",
    "            ds[cv].append(row)\n",
    "        else:\n",
    "            ds[cv]=[row]\n",
    "    return ds"
   ]
  },
  {
   "cell_type": "code",
   "execution_count": null,
   "metadata": {},
   "outputs": [],
   "source": []
  },
  {
   "cell_type": "code",
   "execution_count": 11,
   "metadata": {},
   "outputs": [
    {
     "name": "stdout",
     "output_type": "stream",
     "text": [
      "0.9402859586706309\n"
     ]
    }
   ],
   "source": [
    "#Find Entropy of the 1 set data (main data) Parent Entropy\n",
    "es=entropy(training_data)\n",
    "print(es)"
   ]
  },
  {
   "cell_type": "code",
   "execution_count": 1,
   "metadata": {},
   "outputs": [],
   "source": [
    "# for groupname,rows in sps.items():\n",
    "#     print(groupname)"
   ]
  },
  {
   "cell_type": "code",
   "execution_count": 13,
   "metadata": {},
   "outputs": [],
   "source": [
    "def total_rows(groups):\n",
    "    nr=0\n",
    "    for groupname,rows in sps.items():\n",
    "        nr+=len(rows)\n",
    "    return nr"
   ]
  },
  {
   "cell_type": "code",
   "execution_count": 2,
   "metadata": {},
   "outputs": [],
   "source": [
    "# print(total_rows(sps))"
   ]
  },
  {
   "cell_type": "code",
   "execution_count": 15,
   "metadata": {},
   "outputs": [],
   "source": [
    "#Information gain for split. sum of weighted entropy.\n",
    "def ig(groups, current_entropy): \n",
    "    groups_entropy=0\n",
    "    for groupnam, rows in groups.items():\n",
    "        group_entropy=entropy(rows)\n",
    "#         print('group: ', groupnam, ' et=', group_entropy)\n",
    "        weighted_entropy= ( len(rows)/total_rows(groups) )*group_entropy\n",
    "        groups_entropy+=weighted_entropy\n",
    "    return current_entropy-groups_entropy"
   ]
  },
  {
   "cell_type": "code",
   "execution_count": 16,
   "metadata": {},
   "outputs": [
    {
     "name": "stdout",
     "output_type": "stream",
     "text": [
      "Group:  Sunny  Total= 5  et= 0.9709505944546686\n",
      "[['Sunny', 'Hot', 'High', 'Weak', 'No'],\n",
      " ['Sunny', 'Hot', 'High', 'Strong', 'No'],\n",
      " ['Sunny', 'Mild', 'High', 'Weak', 'No'],\n",
      " ['Sunny', 'Cool', 'Normal', 'Weak', 'Yes'],\n",
      " ['Sunny', 'Mild', 'Normal', 'Strong', 'Yes']]\n",
      "Group:  Overcast  Total= 4  et= 0.0\n",
      "[['Overcast', 'Hot', 'High', 'Weak', 'Yes'],\n",
      " ['Overcast', 'Cool', 'Normal', 'Strong', 'Yes'],\n",
      " ['Overcast', 'Mild', 'High', 'Strong', 'Yes'],\n",
      " ['Overcast', 'Hot', 'Normal', 'Weak', 'Yes']]\n",
      "Group:  Rain  Total= 5  et= 0.9709505944546686\n",
      "[['Rain', 'Mild', 'High', 'Weak', 'Yes'],\n",
      " ['Rain', 'Cool', 'Normal', 'Weak', 'Yes'],\n",
      " ['Rain', 'Cool', 'Normal', 'Strong', 'No'],\n",
      " ['Rain', 'Mild', 'Normal', 'Weak', 'Yes'],\n",
      " ['Rain', 'Mild', 'High', 'Strong', 'No']]\n",
      "weighted entropy:  0.6935361388961918\n"
     ]
    }
   ],
   "source": [
    "#Split data based on column1 (Outlook)\n",
    "\n",
    "sps=split(training_data, 0)\n",
    "wtv=0  #weighted average.\n",
    "for sp in sps:\n",
    "    dt=sps[sp]\n",
    "    et=entropy(dt)\n",
    "    sw= (len(dt)/len(training_data) )*et  #weighted entropy. or probability*entropy\n",
    "    wtv+=sw\n",
    "    print('Group: ', sp, ' Total=', len(dt), ' et=', et)\n",
    "    pprint(dt)\n",
    "print('weighted entropy: ', wtv)"
   ]
  },
  {
   "cell_type": "code",
   "execution_count": 17,
   "metadata": {},
   "outputs": [
    {
     "data": {
      "text/plain": [
       "0.2467498197744391"
      ]
     },
     "execution_count": 17,
     "metadata": {},
     "output_type": "execute_result"
    }
   ],
   "source": [
    "#Outlook, col=0\n",
    "sps=split(training_data, 0)\n",
    "ig(sps, es)"
   ]
  },
  {
   "cell_type": "code",
   "execution_count": 18,
   "metadata": {},
   "outputs": [
    {
     "data": {
      "text/plain": [
       "0.029222565658954647"
      ]
     },
     "execution_count": 18,
     "metadata": {},
     "output_type": "execute_result"
    }
   ],
   "source": [
    "#Temp, col=1\n",
    "sps=split(training_data, 1)\n",
    "ig(sps, es)"
   ]
  },
  {
   "cell_type": "code",
   "execution_count": 16,
   "metadata": {},
   "outputs": [
    {
     "data": {
      "text/plain": [
       "0.15183550136234136"
      ]
     },
     "execution_count": 16,
     "metadata": {},
     "output_type": "execute_result"
    }
   ],
   "source": [
    "#Humidity col=2\n",
    "sps=split(training_data, 2)\n",
    "ig(sps, es)"
   ]
  },
  {
   "cell_type": "code",
   "execution_count": 17,
   "metadata": {},
   "outputs": [
    {
     "data": {
      "text/plain": [
       "0.04812703040826927"
      ]
     },
     "execution_count": 17,
     "metadata": {},
     "output_type": "execute_result"
    }
   ],
   "source": [
    "#Wind col=3\n",
    "sps=split(training_data, 3)\n",
    "ig(sps, es)"
   ]
  },
  {
   "cell_type": "code",
   "execution_count": 18,
   "metadata": {},
   "outputs": [
    {
     "name": "stdout",
     "output_type": "stream",
     "text": [
      "Group:  Sunny  entropy:  0.9709505944546686\n",
      "[['Sunny', 'Hot', 'High', 'Weak', 'No'],\n",
      " ['Sunny', 'Hot', 'High', 'Strong', 'No'],\n",
      " ['Sunny', 'Mild', 'High', 'Weak', 'No'],\n",
      " ['Sunny', 'Cool', 'Normal', 'Weak', 'Yes'],\n",
      " ['Sunny', 'Mild', 'Normal', 'Strong', 'Yes']]\n",
      "Group:  Overcast  entropy:  0.0\n",
      "[['Overcast', 'Hot', 'High', 'Weak', 'Yes'],\n",
      " ['Overcast', 'Cool', 'Normal', 'Strong', 'Yes'],\n",
      " ['Overcast', 'Mild', 'High', 'Strong', 'Yes'],\n",
      " ['Overcast', 'Hot', 'Normal', 'Weak', 'Yes']]\n",
      "Group:  Rain  entropy:  0.9709505944546686\n",
      "[['Rain', 'Mild', 'High', 'Weak', 'Yes'],\n",
      " ['Rain', 'Cool', 'Normal', 'Weak', 'Yes'],\n",
      " ['Rain', 'Cool', 'Normal', 'Strong', 'No'],\n",
      " ['Rain', 'Mild', 'Normal', 'Weak', 'Yes'],\n",
      " ['Rain', 'Mild', 'High', 'Strong', 'No']]\n"
     ]
    }
   ],
   "source": [
    "#Largest Entropy Gain is for column 0 (Outlook)\n",
    "groups=split(training_data, 0)\n",
    "for groupname, rows in groups.items():\n",
    "    print('Group: ', groupname, ' entropy: ', entropy(rows))\n",
    "    pprint(rows)"
   ]
  },
  {
   "cell_type": "markdown",
   "metadata": {},
   "source": [
    "#### A branch with entropy 0 is a leaf node.\n",
    "#### A branch with entropy >0 needs further splitting"
   ]
  },
  {
   "cell_type": "markdown",
   "metadata": {},
   "source": [
    "#### Fro branch Sunny"
   ]
  },
  {
   "cell_type": "code",
   "execution_count": 19,
   "metadata": {},
   "outputs": [],
   "source": [
    "sunny=groups['Sunny']\n",
    "rain=groups['Rain']"
   ]
  },
  {
   "cell_type": "code",
   "execution_count": 20,
   "metadata": {},
   "outputs": [
    {
     "name": "stdout",
     "output_type": "stream",
     "text": [
      "[['Sunny', 'Hot', 'High', 'Weak', 'No'],\n",
      " ['Sunny', 'Hot', 'High', 'Strong', 'No'],\n",
      " ['Sunny', 'Mild', 'High', 'Weak', 'No'],\n",
      " ['Sunny', 'Cool', 'Normal', 'Weak', 'Yes'],\n",
      " ['Sunny', 'Mild', 'Normal', 'Strong', 'Yes']]\n"
     ]
    }
   ],
   "source": [
    "pprint(sunny)"
   ]
  },
  {
   "cell_type": "code",
   "execution_count": 21,
   "metadata": {},
   "outputs": [
    {
     "name": "stdout",
     "output_type": "stream",
     "text": [
      "[['Rain', 'Mild', 'High', 'Weak', 'Yes'],\n",
      " ['Rain', 'Cool', 'Normal', 'Weak', 'Yes'],\n",
      " ['Rain', 'Cool', 'Normal', 'Strong', 'No'],\n",
      " ['Rain', 'Mild', 'Normal', 'Weak', 'Yes'],\n",
      " ['Rain', 'Mild', 'High', 'Strong', 'No']]\n"
     ]
    }
   ],
   "source": [
    "pprint(rain)"
   ]
  },
  {
   "cell_type": "code",
   "execution_count": null,
   "metadata": {},
   "outputs": [],
   "source": []
  },
  {
   "cell_type": "code",
   "execution_count": 22,
   "metadata": {},
   "outputs": [
    {
     "name": "stdout",
     "output_type": "stream",
     "text": [
      "Sunny Parent Entropy:  0.9709505944546686\n"
     ]
    }
   ],
   "source": [
    "#Now for branch Sunny\n",
    "\n",
    "pes=entropy(sunny)\n",
    "print('Sunny Parent Entropy: ', pes)"
   ]
  },
  {
   "cell_type": "code",
   "execution_count": 34,
   "metadata": {},
   "outputs": [
    {
     "name": "stdout",
     "output_type": "stream",
     "text": [
      "Hot\n",
      "[['Sunny', 'Hot', 'High', 'Weak', 'No'],\n",
      " ['Sunny', 'Hot', 'High', 'Strong', 'No']]\n",
      "Mild\n",
      "[['Sunny', 'Mild', 'High', 'Weak', 'No'],\n",
      " ['Sunny', 'Mild', 'Normal', 'Strong', 'Yes']]\n",
      "Cool\n",
      "[['Sunny', 'Cool', 'Normal', 'Weak', 'Yes']]\n"
     ]
    }
   ],
   "source": [
    "#Now calculate IG for the remaining features/columns\n",
    "sunny_groups=split(sunny, 1)\n",
    "for gn,rows in sunny_groups.items():\n",
    "    print(gn)\n",
    "    pprint(rows)"
   ]
  },
  {
   "cell_type": "code",
   "execution_count": 35,
   "metadata": {},
   "outputs": [
    {
     "name": "stdout",
     "output_type": "stream",
     "text": [
      "Group:  Hot  Total= 2  et= 0.0\n",
      "[['Sunny', 'Hot', 'High', 'Weak', 'No'],\n",
      " ['Sunny', 'Hot', 'High', 'Strong', 'No']]\n",
      "Group:  Mild  Total= 2  et= 1.0\n",
      "[['Sunny', 'Mild', 'High', 'Weak', 'No'],\n",
      " ['Sunny', 'Mild', 'Normal', 'Strong', 'Yes']]\n",
      "Group:  Cool  Total= 1  et= 0.0\n",
      "[['Sunny', 'Cool', 'Normal', 'Weak', 'Yes']]\n",
      "weighted entropy:  0.4\n"
     ]
    }
   ],
   "source": [
    "sps=split(sunny, 1)\n",
    "wtv=0  #weighted average.\n",
    "for sp in sps:\n",
    "    dt=sps[sp]\n",
    "    et=entropy(dt)\n",
    "    sw= (len(dt)/len(sunny) )*et  #weighted entropy. or probability*entropy\n",
    "    wtv+=sw\n",
    "    print('Group: ', sp, ' Total=', len(dt), ' et=', et)\n",
    "    pprint(dt)\n",
    "print('weighted entropy: ', wtv)"
   ]
  },
  {
   "cell_type": "code",
   "execution_count": 112,
   "metadata": {},
   "outputs": [
    {
     "data": {
      "text/plain": [
       "0.5709505944546686"
      ]
     },
     "execution_count": 112,
     "metadata": {},
     "output_type": "execute_result"
    }
   ],
   "source": [
    "pes-wtv"
   ]
  },
  {
   "cell_type": "code",
   "execution_count": null,
   "metadata": {},
   "outputs": [],
   "source": []
  },
  {
   "cell_type": "code",
   "execution_count": 23,
   "metadata": {},
   "outputs": [
    {
     "name": "stdout",
     "output_type": "stream",
     "text": [
      "Temp. igs= 0.8280934515975258\n",
      "Humidity. igs= 0.9709505944546686\n",
      "Wind. igs= 0.6313157728715637\n"
     ]
    }
   ],
   "source": [
    "#Temp, col1\n",
    "sunny_groups=split(sunny, 1)\n",
    "igs=ig(sunny_groups, pes)\n",
    "print('Temp. igs=',igs)\n",
    "\n",
    "#Humidity, col2\n",
    "sunny_groups=split(sunny, 2)\n",
    "igs=ig(sunny_groups, pes)\n",
    "print('Humidity. igs=',igs)\n",
    "\n",
    "#Windy, col3\n",
    "sunny_groups=split(sunny, 3)\n",
    "igs=ig(sunny_groups, pes)\n",
    "print('Wind. igs=',igs)"
   ]
  },
  {
   "cell_type": "markdown",
   "metadata": {},
   "source": [
    "### From this we get Humidity has max information gain"
   ]
  },
  {
   "cell_type": "code",
   "execution_count": 24,
   "metadata": {},
   "outputs": [
    {
     "name": "stdout",
     "output_type": "stream",
     "text": [
      "Group:  High  entropy:  0.0\n",
      "[['Sunny', 'Hot', 'High', 'Weak', 'No'],\n",
      " ['Sunny', 'Hot', 'High', 'Strong', 'No'],\n",
      " ['Sunny', 'Mild', 'High', 'Weak', 'No']]\n",
      "Group:  Normal  entropy:  0.0\n",
      "[['Sunny', 'Cool', 'Normal', 'Weak', 'Yes'],\n",
      " ['Sunny', 'Mild', 'Normal', 'Strong', 'Yes']]\n"
     ]
    }
   ],
   "source": [
    "#Largest Entropy Gain is for column 2 (Humidity)\n",
    "groups=split(sunny, 2)\n",
    "for groupname, rows in groups.items():\n",
    "    print('Group: ', groupname, ' entropy: ', entropy(rows))\n",
    "    pprint(rows)"
   ]
  },
  {
   "cell_type": "markdown",
   "metadata": {},
   "source": [
    "#### Here both are Leaf nodes. "
   ]
  },
  {
   "cell_type": "markdown",
   "metadata": {},
   "source": [
    "#### Now for branch Rain"
   ]
  },
  {
   "cell_type": "code",
   "execution_count": 25,
   "metadata": {},
   "outputs": [
    {
     "name": "stdout",
     "output_type": "stream",
     "text": [
      "Rain Parent Entropy:  0.9709505944546686\n"
     ]
    }
   ],
   "source": [
    "pes=entropy(rain)\n",
    "print('Rain Parent Entropy: ', pes)"
   ]
  },
  {
   "cell_type": "code",
   "execution_count": 26,
   "metadata": {},
   "outputs": [
    {
     "name": "stdout",
     "output_type": "stream",
     "text": [
      "Temp. igs= 0.6313157728715637\n",
      "Humidity. igs= 0.6313157728715637\n",
      "Wind. igs= 0.9709505944546686\n"
     ]
    }
   ],
   "source": [
    "#Temp, col1\n",
    "rain_groups=split(rain, 1)\n",
    "igs=ig(rain_groups, pes)\n",
    "print('Temp. igs=',igs)\n",
    "\n",
    "#Humidity, col2\n",
    "rain_groups=split(rain, 2)\n",
    "igs=ig(rain_groups, pes)\n",
    "print('Humidity. igs=',igs)\n",
    "\n",
    "#Wind, col3\n",
    "rain_groups=split(rain, 3)\n",
    "igs=ig(rain_groups, pes)\n",
    "print('Wind. igs=',igs)"
   ]
  },
  {
   "cell_type": "markdown",
   "metadata": {},
   "source": [
    "#### From this we get Wind has maximum information gain"
   ]
  },
  {
   "cell_type": "code",
   "execution_count": 27,
   "metadata": {},
   "outputs": [
    {
     "name": "stdout",
     "output_type": "stream",
     "text": [
      "Group:  Weak  entropy:  0.0\n",
      "[['Rain', 'Mild', 'High', 'Weak', 'Yes'],\n",
      " ['Rain', 'Cool', 'Normal', 'Weak', 'Yes'],\n",
      " ['Rain', 'Mild', 'Normal', 'Weak', 'Yes']]\n",
      "Group:  Strong  entropy:  0.0\n",
      "[['Rain', 'Cool', 'Normal', 'Strong', 'No'],\n",
      " ['Rain', 'Mild', 'High', 'Strong', 'No']]\n"
     ]
    }
   ],
   "source": [
    "#Largest Entropy Gain is for column 3 (Wind)\n",
    "groups=split(rain, 3)\n",
    "for groupname, rows in groups.items():\n",
    "    print('Group: ', groupname, ' entropy: ', entropy(rows))\n",
    "    pprint(rows)"
   ]
  },
  {
   "cell_type": "markdown",
   "metadata": {},
   "source": [
    "#### Here both are leaf nodes."
   ]
  },
  {
   "cell_type": "code",
   "execution_count": null,
   "metadata": {},
   "outputs": [],
   "source": []
  }
 ],
 "metadata": {
  "kernelspec": {
   "display_name": "Python 3",
   "language": "python",
   "name": "python3"
  },
  "language_info": {
   "codemirror_mode": {
    "name": "ipython",
    "version": 3
   },
   "file_extension": ".py",
   "mimetype": "text/x-python",
   "name": "python",
   "nbconvert_exporter": "python",
   "pygments_lexer": "ipython3",
   "version": "3.7.0"
  }
 },
 "nbformat": 4,
 "nbformat_minor": 2
}
