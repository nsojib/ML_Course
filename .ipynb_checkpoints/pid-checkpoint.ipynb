{
 "cells": [
  {
   "cell_type": "markdown",
   "metadata": {},
   "source": [
    "### PID"
   ]
  },
  {
   "cell_type": "code",
   "execution_count": 2,
   "metadata": {},
   "outputs": [],
   "source": [
    "sensorvalues=[0,0,0,1023,1023,0,0,0]\n",
    "sensorvalues=[0,0,0,0,0,1023,1023,0]\n",
    "# # sensorvalues=[0,0,0,0,0,0, 1023,1023]\n",
    "# sensorvalues=[0,0,0,0,0,0, 0,1023]\n",
    "# sensorvalues=[1023,0,0,0,0,0, 0,0]"
   ]
  },
  {
   "cell_type": "code",
   "execution_count": 3,
   "metadata": {},
   "outputs": [],
   "source": [
    "sum=0\n",
    "avg=0"
   ]
  },
  {
   "cell_type": "code",
   "execution_count": 4,
   "metadata": {},
   "outputs": [],
   "source": [
    "for i in range(8):\n",
    "    value=sensorvalues[i]\n",
    "    avg+=value*i*1000\n",
    "    sum+=value"
   ]
  },
  {
   "cell_type": "code",
   "execution_count": 5,
   "metadata": {},
   "outputs": [
    {
     "name": "stdout",
     "output_type": "stream",
     "text": [
      "11253000 2046\n"
     ]
    }
   ],
   "source": [
    "print(avg, sum)"
   ]
  },
  {
   "cell_type": "code",
   "execution_count": 6,
   "metadata": {},
   "outputs": [
    {
     "name": "stdout",
     "output_type": "stream",
     "text": [
      "5500.0\n"
     ]
    }
   ],
   "source": [
    "value=avg/sum\n",
    "print(value)"
   ]
  },
  {
   "cell_type": "code",
   "execution_count": 7,
   "metadata": {},
   "outputs": [
    {
     "name": "stdout",
     "output_type": "stream",
     "text": [
      "-2000.0\n"
     ]
    }
   ],
   "source": [
    "#error\n",
    "setvalue=3500 #value while robot is in the middle.\n",
    "error=setvalue-value\n",
    "print(error)"
   ]
  },
  {
   "cell_type": "code",
   "execution_count": null,
   "metadata": {},
   "outputs": [],
   "source": [
    "#p=error\n",
    "#i=i+error\n",
    "#d= error - previous_error\n",
    "\n",
    "#pid=p*kp+i*ki+d*kd\n",
    "\n",
    "#left_speed=base_speed+pid\n",
    "#right_speed=base_speed-pid"
   ]
  },
  {
   "cell_type": "code",
   "execution_count": null,
   "metadata": {},
   "outputs": [],
   "source": []
  },
  {
   "cell_type": "markdown",
   "metadata": {},
   "source": [
    "#### Refs.\n",
    "1. Qtr sensor reading (https://github.com/pololu/qtr-sensors-arduino/blob/master/QTRSensors.cpp)"
   ]
  },
  {
   "cell_type": "markdown",
   "metadata": {},
   "source": []
  }
 ],
 "metadata": {
  "kernelspec": {
   "display_name": "Python 3",
   "language": "python",
   "name": "python3"
  },
  "language_info": {
   "codemirror_mode": {
    "name": "ipython",
    "version": 3
   },
   "file_extension": ".py",
   "mimetype": "text/x-python",
   "name": "python",
   "nbconvert_exporter": "python",
   "pygments_lexer": "ipython3",
   "version": "3.7.0"
  }
 },
 "nbformat": 4,
 "nbformat_minor": 2
}
