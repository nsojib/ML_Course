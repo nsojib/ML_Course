{
 "cells": [
  {
   "cell_type": "markdown",
   "metadata": {},
   "source": [
    "## Principal Component Analysis"
   ]
  },
  {
   "cell_type": "code",
   "execution_count": 1,
   "metadata": {},
   "outputs": [],
   "source": [
    "import numpy as np\n",
    "import matplotlib.pyplot as plt\n",
    "# np.random.seed(6)\n",
    "import math"
   ]
  },
  {
   "cell_type": "code",
   "execution_count": 4,
   "metadata": {},
   "outputs": [
    {
     "name": "stdout",
     "output_type": "stream",
     "text": [
      "[[14  5]\n",
      " [16  5]\n",
      " [ 6  0]\n",
      " [10  1]\n",
      " [ 8  2]\n",
      " [15  6]\n",
      " [15  7]\n",
      " [ 8  2]\n",
      " [ 8  1]\n",
      " [15  4]]\n",
      "[1 1 0 0 0 1 1 0 0 1]\n"
     ]
    }
   ],
   "source": [
    "nX=[[14, 5], [16, 5], [6, 0], [10, 1], [8, 2], [15, 6], [15, 7], [8, 2], [8, 1], [15, 4]]  #Lab demo\n",
    "# nX=[[12, 6], [16, 8], [5, 1], [13, 4], [10, 4], [14, 7], [15, 9], [10, 4], [9, 3], [15, 6]]  #  good data\n",
    "X=np.array(nX)\n",
    "y=np.array([1, 1, 0, 0, 0, 1, 1, 0, 0, 1])\n",
    "print(X)\n",
    "print(y)"
   ]
  },
  {
   "cell_type": "code",
   "execution_count": 5,
   "metadata": {},
   "outputs": [
    {
     "data": {
      "image/png": "[encoded data removed]",
      "text/plain": [
       "<Figure size 432x288 with 1 Axes>"
      ]
     },
     "metadata": {
      "needs_background": "light"
     },
     "output_type": "display_data"
    }
   ],
   "source": [
    "plt.scatter(X[:,0],X[:,1],marker='o',c=y)\n",
    "\n",
    "plt.grid() \n",
    "plt.xlim(0,20)\n",
    "plt.ylim(0,10)\n",
    "plt.show()"
   ]
  },
  {
   "cell_type": "code",
   "execution_count": 6,
   "metadata": {},
   "outputs": [
    {
     "data": {
      "text/plain": [
       "(10, 2)"
      ]
     },
     "execution_count": 6,
     "metadata": {},
     "output_type": "execute_result"
    }
   ],
   "source": [
    "X.shape"
   ]
  },
  {
   "cell_type": "markdown",
   "metadata": {},
   "source": [
    "#### Subtracting mean"
   ]
  },
  {
   "cell_type": "code",
   "execution_count": 7,
   "metadata": {},
   "outputs": [
    {
     "name": "stdout",
     "output_type": "stream",
     "text": [
      "[11.5  3.3]\n"
     ]
    }
   ],
   "source": [
    "avg=X.mean(axis=0)\n",
    "print(avg)"
   ]
  },
  {
   "cell_type": "code",
   "execution_count": 8,
   "metadata": {},
   "outputs": [
    {
     "name": "stdout",
     "output_type": "stream",
     "text": [
      "[[ 2.5  1.7]\n",
      " [ 4.5  1.7]\n",
      " [-5.5 -3.3]\n",
      " [-1.5 -2.3]\n",
      " [-3.5 -1.3]\n",
      " [ 3.5  2.7]\n",
      " [ 3.5  3.7]\n",
      " [-3.5 -1.3]\n",
      " [-3.5 -2.3]\n",
      " [ 3.5  0.7]]\n",
      "[1 1 0 0 0 1 1 0 0 1]\n"
     ]
    }
   ],
   "source": [
    "trainset=X-avg\n",
    "print(trainset)\n",
    "print(y)"
   ]
  },
  {
   "cell_type": "code",
   "execution_count": 9,
   "metadata": {},
   "outputs": [
    {
     "data": {
      "image/png": "[encoded data removed]",
      "text/plain": [
       "<Figure size 432x288 with 1 Axes>"
      ]
     },
     "metadata": {
      "needs_background": "light"
     },
     "output_type": "display_data"
    }
   ],
   "source": [
    "plt.scatter(trainset[:,0],trainset[:,1],marker='o',c=y)\n",
    "plt.grid()\n",
    "plt.show()"
   ]
  },
  {
   "cell_type": "code",
   "execution_count": 10,
   "metadata": {},
   "outputs": [
    {
     "data": {
      "text/plain": [
       "(10, 2)"
      ]
     },
     "execution_count": 10,
     "metadata": {},
     "output_type": "execute_result"
    }
   ],
   "source": [
    "trainset.shape"
   ]
  },
  {
   "cell_type": "markdown",
   "metadata": {},
   "source": [
    "#### Calculating Covariance Matrix"
   ]
  },
  {
   "cell_type": "markdown",
   "metadata": {},
   "source": [
    "\\begin{equation*}\n",
    "covM=\n",
    "\\begin{pmatrix}\n",
    "cov(x,x) & cov(x,y)\\\\\n",
    "cov(y,x) & cov(y,y) \n",
    "\\end{pmatrix}\n",
    "\\end{equation*}\n",
    "\n",
    "\\begin{equation*}\n",
    "cov(x,y)= \\frac{1}{n-1}  \\sum_{i=1}^{n}(x_{i}-\\bar{x})(y_{i}-\\bar{y})\n",
    "\\end{equation*}\n",
    "\n",
    "<!---\n",
    "\\begin{equation*}\n",
    "X^\\top Y   =  \\sum_{i=1}^{n}x_{i}y_{i}\n",
    "\\end{equation*}\n",
    "--->"
   ]
  },
  {
   "cell_type": "code",
   "execution_count": 13,
   "metadata": {},
   "outputs": [
    {
     "name": "stdout",
     "output_type": "stream",
     "text": [
      "Covariance Matrix: \n",
      "[[14.72222222  8.38888889]\n",
      " [ 8.38888889  5.78888889]]\n"
     ]
    }
   ],
   "source": [
    "#using dot product\n",
    "covM=np.dot(trainset.T, trainset)\n",
    "covM=covM/( len(trainset) -1 )\n",
    "\n",
    "print('Covariance Matrix: ')\n",
    "print(covM)"
   ]
  },
  {
   "cell_type": "markdown",
   "metadata": {},
   "source": [
    "#### Covariance Matrix using Numpy"
   ]
  },
  {
   "cell_type": "code",
   "execution_count": 333,
   "metadata": {},
   "outputs": [
    {
     "data": {
      "text/plain": [
       "array([[14.72222222,  8.38888889],\n",
       "       [ 8.38888889,  5.78888889]])"
      ]
     },
     "execution_count": 333,
     "metadata": {},
     "output_type": "execute_result"
    }
   ],
   "source": [
    "np.cov(trainset.T)"
   ]
  },
  {
   "cell_type": "markdown",
   "metadata": {},
   "source": [
    "#### Finding Eigenvalue and Eigenvector\n",
    "\n",
    "\n",
    "\\begin{equation*}\n",
    "Ax=\\lambda x\\\\\n",
    "where   \\;x:=eigenvector  \\;and \\; \\lambda:=corresponding  \\;eigenvalue\n",
    "\\end{equation*}\n"
   ]
  },
  {
   "cell_type": "code",
   "execution_count": 15,
   "metadata": {},
   "outputs": [],
   "source": [
    "e,EV=np.linalg.eigh(covM)\t#eigenvalues & eigenvectors"
   ]
  },
  {
   "cell_type": "code",
   "execution_count": 16,
   "metadata": {},
   "outputs": [],
   "source": [
    "ne=e[::-1] #reverse.  to bring the larger value first.\n",
    "EV=EV[::-1] #reverse."
   ]
  },
  {
   "cell_type": "code",
   "execution_count": 20,
   "metadata": {},
   "outputs": [
    {
     "name": "stdout",
     "output_type": "stream",
     "text": [
      "eigenvalue:  19.75947937160304 eigenvector:  [-0.85731596 -0.51479058]\n",
      "eigenvalue:  0.7516317395080718 eigenvector:  [ 0.51479058 -0.85731596]\n"
     ]
    }
   ],
   "source": [
    "print('eigenvalue: ',ne[0], 'eigenvector: ',EV[0])\n",
    "print('eigenvalue: ',ne[1], 'eigenvector: ',EV[1])"
   ]
  },
  {
   "cell_type": "code",
   "execution_count": 21,
   "metadata": {},
   "outputs": [
    {
     "name": "stdout",
     "output_type": "stream",
     "text": [
      "PC1 contribution:  96.335489894056  PC2 contribution:  3.6645101059440126\n"
     ]
    }
   ],
   "source": [
    "fc=(ne[0]/(ne[0]+ne[1]))*100\n",
    "sc=(ne[1]/(ne[0]+ne[1]))*100\n",
    "print('PC1 contribution: ',fc,' PC2 contribution: ',sc)"
   ]
  },
  {
   "cell_type": "markdown",
   "metadata": {},
   "source": [
    "### Plotting Eigenvectors"
   ]
  },
  {
   "cell_type": "code",
   "execution_count": 22,
   "metadata": {},
   "outputs": [
    {
     "data": {
      "image/png": "[encoded data removed]",
      "text/plain": [
       "<Figure size 432x288 with 1 Axes>"
      ]
     },
     "metadata": {
      "needs_background": "light"
     },
     "output_type": "display_data"
    }
   ],
   "source": [
    "ax = plt.axes()\n",
    "ax.scatter(trainset[:,0],trainset[:,1],marker='o',c=y) #drawing the points.\n",
    "\n",
    "s=4  #arraw scale.\n",
    "ax.arrow(0,0,  -EV[0][0]*s,  -EV[0][1]*s, head_width=0.5, head_length=0.7, fc='green', ec='black')\n",
    "ax.arrow(0,0,   -EV[1][0]*s,   -EV[1][1]*s, head_width=0.5, head_length=0.7, fc='blue', ec='black')\n",
    "\n",
    "plt.grid()\n",
    "plt.title('Plotting Principal Components',fontsize=10)\n",
    "plt.show()"
   ]
  },
  {
   "cell_type": "markdown",
   "metadata": {},
   "source": [
    "### Projecting data on new dimension"
   ]
  },
  {
   "cell_type": "code",
   "execution_count": 23,
   "metadata": {},
   "outputs": [
    {
     "name": "stdout",
     "output_type": "stream",
     "text": [
      "[[-3.01843389e+00 -1.70460691e-01]\n",
      " [-4.73306582e+00  8.59120466e-01]\n",
      " [ 6.41404671e+00 -2.20550373e-03]\n",
      " [ 2.46999227e+00  1.19964085e+00]\n",
      " [ 3.66983362e+00 -6.87256273e-01]\n",
      " [-4.39054043e+00 -5.12986075e-01]\n",
      " [-4.90533101e+00 -1.37030204e+00]\n",
      " [ 3.66983362e+00 -6.87256273e-01]\n",
      " [ 4.18462420e+00  1.70059690e-01]\n",
      " [-3.36095928e+00  1.20164585e+00]]\n"
     ]
    }
   ],
   "source": [
    "pc=[]\n",
    "for x in trainset:\n",
    "    pc1=np.dot(EV[0], x)\n",
    "    pc2=np.dot(EV[1], x)\n",
    "    pc.append([pc1,pc2])\n",
    "pc=np.array(pc)\n",
    "print(pc)"
   ]
  },
  {
   "cell_type": "code",
   "execution_count": 25,
   "metadata": {},
   "outputs": [
    {
     "data": {
      "image/png": "[encoded data removed]",
      "text/plain": [
       "<Figure size 432x288 with 1 Axes>"
      ]
     },
     "metadata": {
      "needs_background": "light"
     },
     "output_type": "display_data"
    }
   ],
   "source": [
    "plt.scatter(pc[:,0],pc[:,1]  ,marker='o',c=y)\n",
    "plt.title('Data projected on principal components')\n",
    "plt.show()"
   ]
  },
  {
   "cell_type": "markdown",
   "metadata": {},
   "source": [
    "#### Dimentionality Reduction: Taking only first principal component( which holds around 96% information for the given data)"
   ]
  },
  {
   "cell_type": "code",
   "execution_count": 29,
   "metadata": {},
   "outputs": [
    {
     "name": "stdout",
     "output_type": "stream",
     "text": [
      "[-3.01843389 -4.73306582  6.41404671  2.46999227  3.66983362 -4.39054043\n",
      " -4.90533101  3.66983362  4.1846242  -3.36095928]\n"
     ]
    }
   ],
   "source": [
    "print(pc[:,0])"
   ]
  },
  {
   "cell_type": "code",
   "execution_count": 31,
   "metadata": {},
   "outputs": [
    {
     "data": {
      "image/png": "[encoded data removed]",
      "text/plain": [
       "<Figure size 432x288 with 1 Axes>"
      ]
     },
     "metadata": {
      "needs_background": "light"
     },
     "output_type": "display_data"
    }
   ],
   "source": [
    "#Plotting the 1 dimentional data.\n",
    "ar=pc[:,0].copy()\n",
    "val=0\n",
    "plt.scatter(ar, np.zeros_like(ar) + val , marker='x' ,c=y )\n",
    "plt.show()"
   ]
  },
  {
   "cell_type": "markdown",
   "metadata": {},
   "source": [
    "### Reconstructing Data\n",
    "\n",
    "\\begin{equation*}\n",
    "\\boxed{\\text{PCA reconstruction} = \\text{Mean} + \\text{Projection on PC1} \\cdot \\text{Eigenvector1}   + \\text{Projection on PC2} \\cdot \\text{Eigenvector2}  +\\text{...}  }\n",
    "\\end{equation*}"
   ]
  },
  {
   "cell_type": "markdown",
   "metadata": {},
   "source": [
    "The first pc contains maximum info and the 2ns pc contains much less inf. Its possible to construct back the data.\n",
    "If we use all the principal components we can get the same original data. If we use first few pc we can get most likely to the origin data."
   ]
  },
  {
   "cell_type": "code",
   "execution_count": 32,
   "metadata": {},
   "outputs": [
    {
     "name": "stdout",
     "output_type": "stream",
     "text": [
      "[14.  5.]\n",
      "[16.  5.]\n",
      "[ 6.00000000e+00 -3.96817995e-17]\n",
      "[10.  1.]\n",
      "[8. 2.]\n",
      "[15.  6.]\n",
      "[15.  7.]\n",
      "[8. 2.]\n",
      "[8. 1.]\n",
      "[15.  4.]\n"
     ]
    }
   ],
   "source": [
    "#Reconstructing data.\n",
    "# np.dot(pc, EV)\n",
    "# print(pc[:,0].shape)\n",
    "\n",
    "fpc1=pc[:,0]\n",
    "fpc2=pc[:,1]\n",
    "for p,p2 in zip(fpc1, fpc2):\n",
    "    contribution_1=p*EV[0]\n",
    "    contribution_2=p2*EV[1]\n",
    "    row=avg+contribution_1+contribution_2\n",
    "    print(row)"
   ]
  },
  {
   "cell_type": "markdown",
   "metadata": {},
   "source": [
    "### Helper"
   ]
  },
  {
   "cell_type": "code",
   "execution_count": 60,
   "metadata": {},
   "outputs": [
    {
     "data": {
      "text/plain": [
       "array([[1, 3],\n",
       "       [5, 4],\n",
       "       [3, 8]])"
      ]
     },
     "execution_count": 60,
     "metadata": {},
     "output_type": "execute_result"
    }
   ],
   "source": [
    "A = np.array([[1, 3], [5, 4], [3, 8]])\n",
    "A"
   ]
  },
  {
   "cell_type": "code",
   "execution_count": 61,
   "metadata": {},
   "outputs": [
    {
     "data": {
      "text/plain": [
       "array([[4., 1.],\n",
       "       [1., 7.]])"
      ]
     },
     "execution_count": 61,
     "metadata": {},
     "output_type": "execute_result"
    }
   ],
   "source": [
    "np.cov(A, rowvar=False )"
   ]
  },
  {
   "cell_type": "code",
   "execution_count": 62,
   "metadata": {},
   "outputs": [],
   "source": [
    "def calculateCovariance(X):\n",
    "    meanX = np.mean(X, axis = 0)\n",
    "    lenX = X.shape[0]-1\n",
    "    X = X - meanX\n",
    "    covariance = X.T.dot(X)/lenX\n",
    "    return covariance"
   ]
  },
  {
   "cell_type": "code",
   "execution_count": 63,
   "metadata": {},
   "outputs": [
    {
     "name": "stdout",
     "output_type": "stream",
     "text": [
      "[[4. 1.]\n",
      " [1. 7.]]\n"
     ]
    }
   ],
   "source": [
    "covM=calculateCovariance(A)\n",
    "print(covM)"
   ]
  },
  {
   "cell_type": "code",
   "execution_count": 64,
   "metadata": {},
   "outputs": [
    {
     "name": "stdout",
     "output_type": "stream",
     "text": [
      "[3.69722436 7.30277564]\n",
      "[[-0.95709203  0.28978415]\n",
      " [ 0.28978415  0.95709203]]\n"
     ]
    }
   ],
   "source": [
    "e,EV=np.linalg.eigh(covM)\t#eigenvalues & eigenvectors\n",
    "print(e)\n",
    "print(EV)"
   ]
  },
  {
   "cell_type": "code",
   "execution_count": null,
   "metadata": {},
   "outputs": [],
   "source": []
  },
  {
   "cell_type": "code",
   "execution_count": null,
   "metadata": {},
   "outputs": [],
   "source": []
  }
 ],
 "metadata": {
  "kernelspec": {
   "display_name": "Python 3",
   "language": "python",
   "name": "python3"
  },
  "language_info": {
   "codemirror_mode": {
    "name": "ipython",
    "version": 3
   },
   "file_extension": ".py",
   "mimetype": "text/x-python",
   "name": "python",
   "nbconvert_exporter": "python",
   "pygments_lexer": "ipython3",
   "version": "3.7.0"
  }
 },
 "nbformat": 4,
 "nbformat_minor": 2
}
