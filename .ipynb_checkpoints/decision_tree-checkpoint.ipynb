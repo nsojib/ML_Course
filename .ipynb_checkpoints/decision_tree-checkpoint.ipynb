{
 "cells": [
  {
   "cell_type": "markdown",
   "metadata": {},
   "source": [
    "## Decision Tree Classifier"
   ]
  },
  {
   "cell_type": "markdown",
   "metadata": {},
   "source": [
    "Tag: ID3,C4.5,C5.0, CART, Gini Index, Impurity, Information Gain and Entropy"
   ]
  },
  {
   "cell_type": "code",
   "execution_count": 1,
   "metadata": {},
   "outputs": [],
   "source": [
    "#CART(Classification and regression tree) use Gini index\n",
    "#ID3 use entropy and information gain"
   ]
  },
  {
   "cell_type": "code",
   "execution_count": 1,
   "metadata": {},
   "outputs": [],
   "source": [
    "import numpy as np\n",
    "from math import log"
   ]
  },
  {
   "cell_type": "markdown",
   "metadata": {},
   "source": [
    "#### Gini index and Entropy\n",
    "Impurity of data (mix of class) can be calculated using Gini or Entropy.\n",
    "Information gain: If we split the data in two parts how good the split is.  \n",
    " <img src='imgs/ginientropy.jpg' width=60%>"
   ]
  },
  {
   "cell_type": "markdown",
   "metadata": {},
   "source": [
    "#### Entropy vs gini\n",
    "<img src='imgs/entropy_vs_gini.png' width=40%>"
   ]
  },
  {
   "cell_type": "code",
   "execution_count": 2,
   "metadata": {},
   "outputs": [],
   "source": [
    "def gini(rows):\n",
    "    classes=count_class_freq(rows)\n",
    "    impurity = 1\n",
    "    for c in classes:\n",
    "        prob_of_c = classes[c] / float(len(rows))\n",
    "        impurity -= prob_of_c**2\n",
    "    return impurity"
   ]
  },
  {
   "cell_type": "code",
   "execution_count": 3,
   "metadata": {},
   "outputs": [],
   "source": [
    "def entropy(rows):\n",
    "    classes=count_class_freq(rows)\n",
    "    impurity = 0\n",
    "    for c in classes:\n",
    "        prob_of_c = classes[c] / float(len(rows))\n",
    "        impurity -= prob_of_c* log(prob_of_c, 2)\n",
    "    return impurity"
   ]
  },
  {
   "cell_type": "code",
   "execution_count": 4,
   "metadata": {},
   "outputs": [],
   "source": [
    "def info_gain(left, right, current_uncertainty):\n",
    "    p = float(len(left)) / (len(left) + len(right))\n",
    "    return current_uncertainty - p * gini(left) - (1 - p) * gini(right)"
   ]
  },
  {
   "cell_type": "code",
   "execution_count": 5,
   "metadata": {},
   "outputs": [],
   "source": [
    "dt=[\n",
    "    [10.0,'F'],\n",
    "    [0.0, 'F'],\n",
    "    [80.0, 'P'],\n",
    "    [100.0,'P'],\n",
    "    [35.0, 'F'],\n",
    "    [37.0, 'P'],\n",
    "    [34.0, 'F'],\n",
    "    [25.0, 'F']\n",
    "]"
   ]
  },
  {
   "cell_type": "code",
   "execution_count": 6,
   "metadata": {},
   "outputs": [],
   "source": [
    "def count_class_freq(rows):\n",
    "    #last column is the class\n",
    "    classes={} #dictionary\n",
    "    for row in rows:\n",
    "        c=row[-1]\n",
    "        if c not in classes:\n",
    "            classes[c]=1\n",
    "        else:\n",
    "            classes[c]+=1\n",
    "    return classes"
   ]
  },
  {
   "cell_type": "code",
   "execution_count": 7,
   "metadata": {},
   "outputs": [],
   "source": [
    "def split_data(dt, th):\n",
    "    lb=[]\n",
    "    rb=[]\n",
    "    for row in dt:\n",
    "    #     print(row)\n",
    "        v=row[0]\n",
    "    #     print(v)\n",
    "        if v<=th:\n",
    "            lb.append(row)\n",
    "        else:\n",
    "            rb.append(row)\n",
    "    return lb,rb"
   ]
  },
  {
   "cell_type": "code",
   "execution_count": 8,
   "metadata": {},
   "outputs": [
    {
     "name": "stdout",
     "output_type": "stream",
     "text": [
      "0.46875\n"
     ]
    }
   ],
   "source": [
    "ct=gini(dt)\n",
    "print(ct)"
   ]
  },
  {
   "cell_type": "code",
   "execution_count": 9,
   "metadata": {},
   "outputs": [
    {
     "name": "stdout",
     "output_type": "stream",
     "text": [
      "[[10.0, 'F'], [0.0, 'F'], [35.0, 'F'], [37.0, 'P'], [34.0, 'F'], [25.0, 'F']]\n",
      "[[80.0, 'P'], [100.0, 'P']]\n"
     ]
    }
   ],
   "source": [
    "lb,rb=split_data(dt, 50)\n",
    "print(lb)\n",
    "print(rb)"
   ]
  },
  {
   "cell_type": "code",
   "execution_count": 10,
   "metadata": {},
   "outputs": [],
   "source": [
    "import numpy as np\n",
    "# ndt=np.array(dt)"
   ]
  },
  {
   "cell_type": "code",
   "execution_count": 11,
   "metadata": {},
   "outputs": [
    {
     "name": "stdout",
     "output_type": "stream",
     "text": [
      "[[10.0, 'F'], [0.0, 'F'], [35.0, 'F'], [37.0, 'P'], [34.0, 'F'], [25.0, 'F']]\n",
      "\n",
      "[[80.0, 'P'], [100.0, 'P']]\n"
     ]
    }
   ],
   "source": [
    "print(lb)\n",
    "print('')\n",
    "print(rb)"
   ]
  },
  {
   "cell_type": "code",
   "execution_count": 12,
   "metadata": {},
   "outputs": [
    {
     "name": "stdout",
     "output_type": "stream",
     "text": [
      "0.2777777777777777 0.0\n",
      "0.26041666666666674\n"
     ]
    }
   ],
   "source": [
    "lg=gini(lb)\n",
    "rg=gini(rb)\n",
    "print(lg,rg)\n",
    "td=len(lb)+len(rb)\n",
    "\n",
    "ig=ct- (len(lb)/td)*lg - (len(rb)/td)*rg\n",
    "print(ig)"
   ]
  },
  {
   "cell_type": "code",
   "execution_count": 13,
   "metadata": {},
   "outputs": [],
   "source": [
    "td=len(lb)+len(rb)"
   ]
  },
  {
   "cell_type": "code",
   "execution_count": 14,
   "metadata": {},
   "outputs": [
    {
     "data": {
      "text/plain": [
       "0.20833333333333326"
      ]
     },
     "execution_count": 14,
     "metadata": {},
     "output_type": "execute_result"
    }
   ],
   "source": [
    "(len(lb)/td)*lg"
   ]
  },
  {
   "cell_type": "code",
   "execution_count": 15,
   "metadata": {},
   "outputs": [],
   "source": [
    "dt=[\n",
    "    [10.0,1],\n",
    "    [30.0, 2],\n",
    "    [60.0, 3],\n",
    "    [50.0,2],\n",
    "    [20.0, 1],\n",
    "    [95.0, 3],\n",
    "    [85.0, 1]\n",
    "]"
   ]
  },
  {
   "cell_type": "code",
   "execution_count": 16,
   "metadata": {},
   "outputs": [],
   "source": [
    "dt=[\n",
    "    [30.0, 2],\n",
    "    [60.0, 3],\n",
    "    [50.0,2],\n",
    "    [95.0, 3],\n",
    "    [85.0, 1]\n",
    "]"
   ]
  },
  {
   "cell_type": "code",
   "execution_count": 17,
   "metadata": {},
   "outputs": [],
   "source": [
    "dt=[\n",
    "    [60.0, 3],\n",
    "    [95.0, 3],\n",
    "    [85.0, 1]\n",
    "]"
   ]
  },
  {
   "cell_type": "code",
   "execution_count": 18,
   "metadata": {},
   "outputs": [],
   "source": [
    "dt=[\n",
    "    [17,0],\n",
    "    [25, 0],\n",
    "    [38, 0],\n",
    "    [42,1],\n",
    "    [44, 1],\n",
    "    [47, 2],\n",
    "    [49, 2],\n",
    "    [50, 3],\n",
    "    [54, 3],\n",
    "    [53, 3]\n",
    "]"
   ]
  },
  {
   "cell_type": "code",
   "execution_count": 19,
   "metadata": {},
   "outputs": [],
   "source": [
    "data=np.array(dt)"
   ]
  },
  {
   "cell_type": "code",
   "execution_count": 20,
   "metadata": {},
   "outputs": [],
   "source": [
    "ndt=np.array(dt)"
   ]
  },
  {
   "cell_type": "code",
   "execution_count": null,
   "metadata": {},
   "outputs": [],
   "source": []
  },
  {
   "cell_type": "markdown",
   "metadata": {},
   "source": [
    "### Experiment"
   ]
  },
  {
   "cell_type": "code",
   "execution_count": 21,
   "metadata": {},
   "outputs": [
    {
     "name": "stdout",
     "output_type": "stream",
     "text": [
      "[[ 8.   4.   1. ]\n",
      " [50.  40.   1. ]\n",
      " [ 8.   9.   1. ]\n",
      " [15.  12.   0. ]\n",
      " [ 9.   9.8  0. ]\n",
      " [11.  23.   1. ]\n",
      " [44.  56.   0. ]]\n"
     ]
    }
   ],
   "source": [
    "from sklearn.tree import DecisionTreeClassifier\n",
    "\n",
    "X = [[8,4],[50,40],[8,9],[15,12],[9,9.8], [11, 23], [44, 56] ]\n",
    "y = [1,1,1,0,0,1,0]\n",
    "\n",
    "data=[]\n",
    "for ix, iy in zip(X,y):\n",
    "    ix.append(iy)\n",
    "    data.append(ix)\n",
    "data=np.array(data)\n",
    "print(data)"
   ]
  },
  {
   "cell_type": "code",
   "execution_count": 22,
   "metadata": {},
   "outputs": [],
   "source": [
    "tree = DecisionTreeClassifier() \n",
    "model = tree.fit(X,y)"
   ]
  },
  {
   "cell_type": "code",
   "execution_count": 23,
   "metadata": {},
   "outputs": [
    {
     "data": {
      "text/plain": [
       "array([1, 1, 1, 0, 0, 1, 0])"
      ]
     },
     "execution_count": 23,
     "metadata": {},
     "output_type": "execute_result"
    }
   ],
   "source": [
    "model.predict(X)"
   ]
  },
  {
   "cell_type": "markdown",
   "metadata": {},
   "source": [
    "## Decision Tree"
   ]
  },
  {
   "cell_type": "code",
   "execution_count": 24,
   "metadata": {},
   "outputs": [],
   "source": [
    "def split_rows(dt, col, th):\n",
    "    lb=[]\n",
    "    rb=[]\n",
    "    for row in dt:\n",
    "    #     print(row)\n",
    "        v=row[col]\n",
    "    #     print(v)\n",
    "        if v<=th:\n",
    "            lb.append(row)\n",
    "        else:\n",
    "            rb.append(row)\n",
    "    return lb,rb"
   ]
  },
  {
   "cell_type": "code",
   "execution_count": 25,
   "metadata": {},
   "outputs": [
    {
     "name": "stdout",
     "output_type": "stream",
     "text": [
      "[array([8., 4., 1.]), array([8., 9., 1.]), array([9. , 9.8, 0. ]), array([11., 23.,  1.])]\n",
      "\n",
      "[array([50., 40.,  1.]), array([15., 12.,  0.]), array([44., 56.,  0.])]\n"
     ]
    }
   ],
   "source": [
    "lb,rb=split_rows(data, 0, 12)\n",
    "print(lb)\n",
    "print('')\n",
    "print(rb)"
   ]
  },
  {
   "cell_type": "code",
   "execution_count": 26,
   "metadata": {},
   "outputs": [
    {
     "name": "stdout",
     "output_type": "stream",
     "text": [
      "0.48979591836734704\n"
     ]
    }
   ],
   "source": [
    "ct=gini(data)\n",
    "print(ct)"
   ]
  },
  {
   "cell_type": "code",
   "execution_count": 27,
   "metadata": {},
   "outputs": [
    {
     "name": "stdout",
     "output_type": "stream",
     "text": [
      "0.08503401360544224\n"
     ]
    }
   ],
   "source": [
    "ig=info_gain(lb, rb, ct)\n",
    "print(ig)"
   ]
  },
  {
   "cell_type": "code",
   "execution_count": 28,
   "metadata": {},
   "outputs": [],
   "source": [
    "'''\n",
    "For multi column data. \n",
    "'''\n",
    "def find_best_split(rows):\n",
    "    imp=gini(rows)\n",
    "    ncol=len(rows[0])-1\n",
    "    nrow=len(rows)\n",
    "    best_col=0\n",
    "    best_val=0\n",
    "    best_ig=0\n",
    "    for ic in range(ncol):\n",
    "        for ir in range ( nrow ):\n",
    "            th=rows[ir][ic]\n",
    "            lb,rb=split_rows(rows, ic, th)\n",
    "            ig=info_gain(lb, rb, imp)\n",
    "    #         print(ig)\n",
    "            if ig > best_ig:\n",
    "                best_ig=ig\n",
    "                best_col=ic\n",
    "                best_val=th\n",
    "    return best_col, best_val, best_ig"
   ]
  },
  {
   "cell_type": "code",
   "execution_count": 29,
   "metadata": {},
   "outputs": [],
   "source": [
    "def decide_class(rows):\n",
    "    mc=count_class_freq(rows)\n",
    "    ss= sorted(mc.items(), key=lambda kv: kv[1])\n",
    "    return ss[-1][0]"
   ]
  },
  {
   "cell_type": "code",
   "execution_count": 30,
   "metadata": {},
   "outputs": [
    {
     "name": "stdout",
     "output_type": "stream",
     "text": [
      "best_col= 0  best_val= 8.0  best_ig= 0.14693877551020418\n"
     ]
    }
   ],
   "source": [
    "best_col, best_val, best_ig=find_best_split(data)\n",
    "print('best_col=', best_col,' best_val=',best_val,' best_ig=',best_ig)"
   ]
  },
  {
   "cell_type": "code",
   "execution_count": 31,
   "metadata": {},
   "outputs": [
    {
     "name": "stdout",
     "output_type": "stream",
     "text": [
      "[array([8., 4., 1.]), array([8., 9., 1.])]\n",
      "[array([50., 40.,  1.]), array([15., 12.,  0.]), array([9. , 9.8, 0. ]), array([11., 23.,  1.]), array([44., 56.,  0.])]\n"
     ]
    }
   ],
   "source": [
    "lb,rb=split_rows(data, best_col, best_val)\n",
    "print(lb)\n",
    "print(rb)"
   ]
  },
  {
   "cell_type": "code",
   "execution_count": 32,
   "metadata": {},
   "outputs": [
    {
     "name": "stdout",
     "output_type": "stream",
     "text": [
      "{0, 8.0}\n"
     ]
    }
   ],
   "source": [
    "q={best_col, best_val}\n",
    "print(q)"
   ]
  },
  {
   "cell_type": "code",
   "execution_count": 33,
   "metadata": {},
   "outputs": [
    {
     "name": "stdout",
     "output_type": "stream",
     "text": [
      "{'col': 0, 'val': 8.0}\n"
     ]
    }
   ],
   "source": [
    "tree={'col': best_col, 'val':best_val}\n",
    "print(tree)"
   ]
  },
  {
   "cell_type": "code",
   "execution_count": 34,
   "metadata": {},
   "outputs": [
    {
     "name": "stdout",
     "output_type": "stream",
     "text": [
      "best_col= 0  best_val= 0  best_ig= 0\n"
     ]
    }
   ],
   "source": [
    "best_col, best_val, best_ig=find_best_split(lb)\n",
    "print('best_col=', best_col,' best_val=',best_val,' best_ig=',best_ig)"
   ]
  },
  {
   "cell_type": "code",
   "execution_count": 35,
   "metadata": {},
   "outputs": [
    {
     "name": "stdout",
     "output_type": "stream",
     "text": [
      "1.0\n"
     ]
    }
   ],
   "source": [
    "mc=count_class_freq(data)\n",
    "ss= sorted(mc.items(), key=lambda kv: kv[1])\n",
    "print(ss[-1][0])"
   ]
  },
  {
   "cell_type": "code",
   "execution_count": 38,
   "metadata": {},
   "outputs": [
    {
     "name": "stdout",
     "output_type": "stream",
     "text": [
      "{'col': 0, 'val': 8.0, 'left': 1.0}\n"
     ]
    }
   ],
   "source": [
    "tree['left']=decide_class(lb)\n",
    "print(tree)"
   ]
  },
  {
   "cell_type": "code",
   "execution_count": 39,
   "metadata": {},
   "outputs": [
    {
     "name": "stdout",
     "output_type": "stream",
     "text": [
      "best_col= 1  best_val= 12.0  best_ig= 0.21333333333333332\n"
     ]
    }
   ],
   "source": [
    "best_col, best_val, best_ig=find_best_split(rb)\n",
    "print('best_col=', best_col,' best_val=',best_val,' best_ig=',best_ig)"
   ]
  },
  {
   "cell_type": "code",
   "execution_count": 40,
   "metadata": {},
   "outputs": [
    {
     "name": "stdout",
     "output_type": "stream",
     "text": [
      "{'col': 0, 'val': 8.0, 'left': 1.0, 'right': {'col': 1, 'val': 12.0}}\n"
     ]
    }
   ],
   "source": [
    "tree['right']={'col': best_col, 'val':best_val}\n",
    "print(tree)"
   ]
  },
  {
   "cell_type": "code",
   "execution_count": 44,
   "metadata": {},
   "outputs": [],
   "source": [
    "def make_tree(data, max_depth=-1, ndepth=1):\n",
    "    best_col, best_val, best_ig=find_best_split(data)\n",
    "    if best_ig==0 or ndepth==max_depth: #leaf node.\n",
    "        return decide_class(data)\n",
    "    \n",
    "    lb,rb=split_rows(data, best_col, best_val)\n",
    "    lt=make_tree(lb, max_depth, ndepth+1)\n",
    "    rt=make_tree(rb, max_depth, ndepth+1)\n",
    "    return {'col': best_col, 'val':best_val, 'left':lt, 'right':rt}"
   ]
  },
  {
   "cell_type": "code",
   "execution_count": 45,
   "metadata": {},
   "outputs": [
    {
     "name": "stdout",
     "output_type": "stream",
     "text": [
      "{'col': 0, 'val': 8.0, 'left': 1.0, 'right': {'col': 1, 'val': 12.0, 'left': 0.0, 'right': {'col': 1, 'val': 40.0, 'left': 1.0, 'right': 0.0}}}\n"
     ]
    }
   ],
   "source": [
    "# tree=make_tree(data, max_depth=10)\n",
    "tree=make_tree(data)\n",
    "print(tree)"
   ]
  },
  {
   "cell_type": "code",
   "execution_count": 46,
   "metadata": {},
   "outputs": [
    {
     "name": "stdout",
     "output_type": "stream",
     "text": [
      "1.0 <class 'dict'>\n",
      "{'col': 1, 'val': 12.0, 'left': 0.0, 'right': {'col': 1, 'val': 40.0, 'left': 1.0, 'right': 0.0}}\n"
     ]
    }
   ],
   "source": [
    "print(tree['left'], type(tree['right']))\n",
    "print(tree['right'])"
   ]
  },
  {
   "cell_type": "code",
   "execution_count": 47,
   "metadata": {},
   "outputs": [],
   "source": [
    "def predict(tree, row):\n",
    "    if not isinstance(tree, dict):\n",
    "        return tree\n",
    "    col=tree['col']\n",
    "    val=tree['val']\n",
    "    if row[col]<=val:\n",
    "        return predict(tree['left'], row)\n",
    "    else:\n",
    "        return predict(tree['right'], row)"
   ]
  },
  {
   "cell_type": "code",
   "execution_count": 48,
   "metadata": {},
   "outputs": [
    {
     "name": "stdout",
     "output_type": "stream",
     "text": [
      "dict\n"
     ]
    }
   ],
   "source": [
    "if isinstance(tree['right'], dict):\n",
    "    print('dict')\n",
    "else:\n",
    "    print('not')"
   ]
  },
  {
   "cell_type": "code",
   "execution_count": 49,
   "metadata": {},
   "outputs": [
    {
     "name": "stdout",
     "output_type": "stream",
     "text": [
      "[1.0, 1.0, 1.0, 0.0, 0.0, 1.0, 0.0]\n"
     ]
    }
   ],
   "source": [
    "pr=[ predict(tree, dt) for dt in data]\n",
    "print(pr)"
   ]
  },
  {
   "cell_type": "markdown",
   "metadata": {},
   "source": [
    "### Iris Dataset"
   ]
  },
  {
   "cell_type": "code",
   "execution_count": 67,
   "metadata": {},
   "outputs": [],
   "source": [
    "from sklearn import datasets\n",
    "from sklearn.model_selection import train_test_split\n",
    "from sklearn.metrics import accuracy_score "
   ]
  },
  {
   "cell_type": "code",
   "execution_count": 68,
   "metadata": {},
   "outputs": [],
   "source": [
    "iris =  datasets.load_iris() \n",
    "X = iris.data\n",
    "y = iris.target"
   ]
  },
  {
   "cell_type": "code",
   "execution_count": 69,
   "metadata": {},
   "outputs": [
    {
     "name": "stdout",
     "output_type": "stream",
     "text": [
      "(120, 4) (30, 4)\n"
     ]
    }
   ],
   "source": [
    "xtrain,xtest,ytrain,ytest=train_test_split(X,y,test_size=0.2)\n",
    "print(xtrain.shape, xtest.shape)"
   ]
  },
  {
   "cell_type": "code",
   "execution_count": 70,
   "metadata": {},
   "outputs": [
    {
     "name": "stdout",
     "output_type": "stream",
     "text": [
      "[[5.  3.4 1.6 0.4 0. ]\n",
      " [6.5 3.  5.2 2.  2. ]\n",
      " [6.5 2.8 4.6 1.5 1. ]\n",
      " [6.6 3.  4.4 1.4 1. ]]\n"
     ]
    }
   ],
   "source": [
    "data=[]\n",
    "for ix, iy in zip(xtrain,ytrain):\n",
    "    ix=np.append(ix, iy)\n",
    "    data.append(ix)\n",
    "data=np.array(data)\n",
    "print(data[:4])"
   ]
  },
  {
   "cell_type": "code",
   "execution_count": 71,
   "metadata": {},
   "outputs": [
    {
     "name": "stdout",
     "output_type": "stream",
     "text": [
      "{'col': 2, 'val': 1.9, 'left': 0.0, 'right': {'col': 3, 'val': 1.7, 'left': {'col': 2, 'val': 4.9, 'left': {'col': 3, 'val': 1.6, 'left': 1.0, 'right': 2.0}, 'right': {'col': 3, 'val': 1.5, 'left': 2.0, 'right': {'col': 0, 'val': 6.7, 'left': 1.0, 'right': 2.0}}}, 'right': {'col': 2, 'val': 4.8, 'left': {'col': 0, 'val': 5.9, 'left': 1.0, 'right': 2.0}, 'right': 2.0}}}\n"
     ]
    }
   ],
   "source": [
    "tree=make_tree(data)\n",
    "print(tree)"
   ]
  },
  {
   "cell_type": "code",
   "execution_count": 72,
   "metadata": {},
   "outputs": [
    {
     "name": "stdout",
     "output_type": "stream",
     "text": [
      "[2.0, 0.0, 2.0, 0.0, 2.0, 1.0, 2.0, 0.0, 2.0, 2.0, 2.0, 1.0, 1.0, 2.0, 1.0, 2.0, 0.0, 1.0, 0.0, 0.0, 0.0, 1.0, 1.0, 1.0, 2.0, 0.0, 2.0, 0.0, 1.0, 2.0]\n"
     ]
    }
   ],
   "source": [
    "pr=[ predict(tree, dt) for dt in xtest]\n",
    "print(pr)"
   ]
  },
  {
   "cell_type": "code",
   "execution_count": 73,
   "metadata": {},
   "outputs": [
    {
     "data": {
      "text/plain": [
       "1.0"
      ]
     },
     "execution_count": 73,
     "metadata": {},
     "output_type": "execute_result"
    }
   ],
   "source": [
    "accuracy_score(ytest, pr)"
   ]
  },
  {
   "cell_type": "code",
   "execution_count": 74,
   "metadata": {},
   "outputs": [
    {
     "name": "stdout",
     "output_type": "stream",
     "text": [
      "[2 0 2 0 2 1 2 0 2 2 2 1 1 2 1 2 0 1 0 0 0 1 1 1 2 0 2 0 1 2]\n"
     ]
    }
   ],
   "source": [
    "print(ytest)"
   ]
  },
  {
   "cell_type": "code",
   "execution_count": 79,
   "metadata": {},
   "outputs": [
    {
     "name": "stdout",
     "output_type": "stream",
     "text": [
      "[2 0 2 0 2 1 2 0 2 2 2 1 1 2 1 2 0 1 0 0 0 1 1 1 2 0 2 0 1 2]\n"
     ]
    },
    {
     "data": {
      "text/plain": [
       "1.0"
      ]
     },
     "execution_count": 79,
     "metadata": {},
     "output_type": "execute_result"
    }
   ],
   "source": [
    "#scikit-learn\n",
    "\n",
    "dtc = DecisionTreeClassifier() \n",
    "model = dtc.fit(xtrain, ytrain)\n",
    "prd=model.predict(xtest)\n",
    "print(prd)\n",
    "accuracy_score(ytest, prd)"
   ]
  },
  {
   "cell_type": "code",
   "execution_count": null,
   "metadata": {},
   "outputs": [],
   "source": []
  }
 ],
 "metadata": {
  "kernelspec": {
   "display_name": "Python 3",
   "language": "python",
   "name": "python3"
  },
  "language_info": {
   "codemirror_mode": {
    "name": "ipython",
    "version": 3
   },
   "file_extension": ".py",
   "mimetype": "text/x-python",
   "name": "python",
   "nbconvert_exporter": "python",
   "pygments_lexer": "ipython3",
   "version": "3.7.0"
  }
 },
 "nbformat": 4,
 "nbformat_minor": 2
}
