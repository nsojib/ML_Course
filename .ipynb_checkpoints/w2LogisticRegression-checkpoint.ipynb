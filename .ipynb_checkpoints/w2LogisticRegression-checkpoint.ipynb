{
 "cells": [
  {
   "cell_type": "markdown",
   "metadata": {},
   "source": [
    "## Logistic Regression"
   ]
  },
  {
   "cell_type": "code",
   "execution_count": 1,
   "metadata": {},
   "outputs": [
    {
     "name": "stderr",
     "output_type": "stream",
     "text": [
      "C:\\Users\\FridayLab\\Miniconda2\\lib\\site-packages\\sklearn\\utils\\fixes.py:313: FutureWarning: numpy not_equal will not check object identity in the future. The comparison did not return the same result as suggested by the identity (`is`)) and will change.\n",
      "  _nan_object_mask = _nan_object_array != _nan_object_array\n"
     ]
    }
   ],
   "source": [
    "from sklearn.linear_model import LinearRegression, LogisticRegression\n",
    "import matplotlib.pyplot as plt \n",
    "import numpy as np"
   ]
  },
  {
   "cell_type": "code",
   "execution_count": 6,
   "metadata": {},
   "outputs": [
    {
     "data": {
      "image/png": "[encoded data removed]",
      "text/plain": [
       "<matplotlib.figure.Figure at 0xd1f15f8>"
      ]
     },
     "metadata": {},
     "output_type": "display_data"
    }
   ],
   "source": [
    "x=[10, 20, 30, 40, 50, 60, 70]\n",
    "y=[0, 0, 0, 1, 1, 1, 1]\n",
    "\n",
    "#Uncomment following two line to show the difference\n",
    "# x=[10, 20, 30, 40, 50, 60, 70, 190]\n",
    "# y=[0, 0, 0, 1, 1, 1, 1, 1]\n",
    "\n",
    "# x=[10, 20, 30, 40, 50, 60, 70]\n",
    "# y=[0, 0, 0, 1, 1, 0, 1]\n",
    "\n",
    "plt.scatter(x, y, color = 'red') \n",
    "plt.title('x vs y')\n",
    "plt.xlabel('x data')\n",
    "plt.ylabel('y data')\n",
    "plt.show()"
   ]
  },
  {
   "cell_type": "code",
   "execution_count": 7,
   "metadata": {},
   "outputs": [
    {
     "name": "stdout",
     "output_type": "stream",
     "text": [
      "[[10], [20], [30], [40], [50], [60], [70]]\n"
     ]
    }
   ],
   "source": [
    "xx=[ [ix] for ix in x]\n",
    "print xx"
   ]
  },
  {
   "cell_type": "code",
   "execution_count": 8,
   "metadata": {},
   "outputs": [
    {
     "name": "stdout",
     "output_type": "stream",
     "text": [
      "[-0.07142857  0.14285714  0.35714286  0.57142857  0.78571429  1.\n",
      "  1.21428571]\n",
      "m= [ 0.02142857] c= -0.285714285714\n",
      "[ 2.92857143]\n"
     ]
    }
   ],
   "source": [
    "\n",
    "\n",
    "model = LinearRegression()\n",
    "model.fit(xx, y)\n",
    "\n",
    "pred=model.predict(xx)\n",
    "print pred\n",
    "print 'm=', model.coef_ ,'c=',model.intercept_\n",
    "\n",
    "print model.predict([[150]])"
   ]
  },
  {
   "cell_type": "code",
   "execution_count": 9,
   "metadata": {},
   "outputs": [
    {
     "data": {
      "image/png": "[encoded data removed]",
      "text/plain": [
       "<matplotlib.figure.Figure at 0xd395a90>"
      ]
     },
     "metadata": {},
     "output_type": "display_data"
    }
   ],
   "source": [
    "plt.scatter(x, y, color = 'red')\n",
    "plt.plot(x, pred, color = 'blue')\n",
    "plt.title('x vs y')\n",
    "plt.xlabel('x data')\n",
    "plt.ylabel('y data')\n",
    "plt.show()"
   ]
  },
  {
   "cell_type": "code",
   "execution_count": 7,
   "metadata": {},
   "outputs": [
    {
     "data": {
      "text/plain": [
       "LogisticRegression(C=1.0, class_weight=None, dual=False, fit_intercept=True,\n",
       "          intercept_scaling=1, max_iter=100, multi_class='warn',\n",
       "          n_jobs=None, penalty='l2', random_state=None, solver='warn',\n",
       "          tol=0.0001, verbose=0, warm_start=False)"
      ]
     },
     "execution_count": 7,
     "metadata": {},
     "output_type": "execute_result"
    }
   ],
   "source": [
    "X=[ [ix] for ix in x]\n",
    "model = LogisticRegression()\n",
    "model.fit(X, y)"
   ]
  },
  {
   "cell_type": "code",
   "execution_count": 9,
   "metadata": {},
   "outputs": [
    {
     "data": {
      "text/plain": [
       "array([0, 1, 1, 1, 1, 1, 1])"
      ]
     },
     "execution_count": 9,
     "metadata": {},
     "output_type": "execute_result"
    }
   ],
   "source": [
    "model.predict(X)"
   ]
  },
  {
   "cell_type": "code",
   "execution_count": 29,
   "metadata": {},
   "outputs": [
    {
     "data": {
      "text/plain": [
       "array([[  9.99999950e-01,   5.00049282e-08],\n",
       "       [  9.99958372e-01,   4.16283835e-05],\n",
       "       [  9.66503021e-01,   3.34969788e-02],\n",
       "       [  3.34970055e-02,   9.66502995e-01],\n",
       "       [  4.16284178e-05,   9.99958372e-01],\n",
       "       [  5.00049694e-08,   9.99999950e-01],\n",
       "       [  6.00645725e-11,   1.00000000e+00]])"
      ]
     },
     "execution_count": 29,
     "metadata": {},
     "output_type": "execute_result"
    }
   ],
   "source": [
    "model.predict_proba(X)"
   ]
  },
  {
   "cell_type": "code",
   "execution_count": 30,
   "metadata": {},
   "outputs": [
    {
     "data": {
      "text/plain": [
       "1.0"
      ]
     },
     "execution_count": 30,
     "metadata": {},
     "output_type": "execute_result"
    }
   ],
   "source": [
    "model.score(X, y)  #mean accuracy"
   ]
  },
  {
   "cell_type": "markdown",
   "metadata": {},
   "source": [
    "## Now get to business.\n",
    "\n",
    "1. Predict Class <br>\n",
    "  i. Linear Regression model predict a value. <br>\n",
    "  ii. Map the value between 0 and 1 using sigmoid. <br>\n",
    "2. Cross Entropy Cost Function (or log loss)\n",
    "3. Use gradient descent to optimize loss.\n"
   ]
  },
  {
   "cell_type": "markdown",
   "metadata": {},
   "source": [
    "### Terms\n",
    "1. Odds, Odds ratio\n",
    "2. Probability\n",
    "3. Maximum Likliehood\n",
    "4. Logit Function (aka Sigmoid Function)\n",
    "5. Binary Cross Entropy Function"
   ]
  },
  {
   "cell_type": "markdown",
   "metadata": {},
   "source": [
    "### Best Fit Model\n",
    "\n",
    "we need something, that maps every x in between 0 and 1 where the linear regression model do some extra ie. lower zero\n",
    "and upper then 1. So we need a best fit model. The S shape logistic function (another name is sigmoid function )"
   ]
  },
  {
   "cell_type": "markdown",
   "metadata": {},
   "source": [
    "odd ratio=probability of win / probability of not win<br>\n",
    "odds=p/1-p <br>\n",
    "\n",
    "Maximum Likliehood Estimation (MLE)"
   ]
  },
  {
   "cell_type": "markdown",
   "metadata": {},
   "source": [
    "### Cost Function\n",
    "\n",
    "cross entropy or log loss\n",
    "\n",
    "<img src='imgs/ng_cost_function_logistic.png'>\n",
    "\n",
    "Prediction vs Loss\n",
    "<img src='imgs/y1andy2_logistic_function.png' caption='prediction vs loss'>\n",
    "\n",
    "The key thing to note is the cost function penalizes confident and wrong predictions more than it rewards confident and right predictions! \n",
    "\n",
    "\n",
    "To Put it in one line (for 0 another will cancel out and same for 1)\n",
    "\\begin{equation*}\n",
    "p=h \\theta (X)  [mind] \\\\\n",
    "{ - y\\log(p) - (1 - y)\\log(1 - p)} \n",
    "\\end{equation*}"
   ]
  },
  {
   "cell_type": "markdown",
   "metadata": {},
   "source": [
    "So, the loss function for the data becomes, \n",
    "<img src='imgs/logistic_cost_function_joined.png'>\n",
    "Multiplying by y and (1−y) in the above equation is a sneaky trick that let’s us use the same equation to solve for both y=1 and y=0 cases. If y=0, the first side cancels out. If y=1, the second side cancels out. In both cases we only perform the operation we need to perform.\n",
    "\n",
    "\n",
    "for i^Th data of X\n",
    "\\begin{equation*}\n",
    "\\theta x^i:=\\theta_0+\\theta_1 x^i_1+\\dots+\\theta_p x^i_p.\n",
    "\\end{equation*}"
   ]
  },
  {
   "cell_type": "code",
   "execution_count": 1,
   "metadata": {},
   "outputs": [],
   "source": [
    "#Or,\n",
    "def CrossEntropy(yHat, y):\n",
    "    if y == 1:\n",
    "      return -log(yHat)\n",
    "    else:\n",
    "      return -log(1 - yHat)\n",
    "\n",
    "def CrossEntropy2(yHat, y):\n",
    "    return ( -y*log(yHat) - (1-y)*log(1 - yHat) ).mean()"
   ]
  },
  {
   "cell_type": "markdown",
   "metadata": {},
   "source": [
    "### Minimizing J(theta)\n",
    "\n",
    "<img src='imgs/ng_cost_min.png' width=540>\n",
    "\n",
    "What we got is the following\n",
    "<img src='imgs/ng_partial_der.png' width=540>"
   ]
  },
  {
   "cell_type": "code",
   "execution_count": null,
   "metadata": {},
   "outputs": [],
   "source": []
  },
  {
   "cell_type": "code",
   "execution_count": 4,
   "metadata": {},
   "outputs": [],
   "source": [
    "def sigmoid(x):\n",
    "    # Activation function used to map any real value between 0 and 1\n",
    "    return 1 / (1 + np.exp(-x))\n",
    "\n",
    "def net_input(theta, x):\n",
    "    # Computes the weighted sum of inputs\n",
    "    return np.dot(x, theta)\n",
    "\n",
    "def probability(theta, x):\n",
    "    # Returns the probability after passing through sigmoid\n",
    "    return sigmoid(net_input(theta, x))"
   ]
  },
  {
   "cell_type": "code",
   "execution_count": 8,
   "metadata": {},
   "outputs": [],
   "source": [
    "def cost_function(self, theta, x, y):\n",
    "    # Computes the cost function for all the training samples\n",
    "    m = x.shape[0]\n",
    "    total_cost = -(1 / m) * np.sum(\n",
    "        y * np.log(probability(theta, x)) + (1 - y) * np.log(\n",
    "            1 - probability(theta, x)))\n",
    "    return total_cost\n",
    "\n",
    "def gradient(self, theta, x, y):\n",
    "    # Computes the gradient of the cost function at the point theta\n",
    "    m = x.shape[0]\n",
    "    return (1 / m) * np.dot(x.T, sigmoid(net_input(theta,   x)) - y)"
   ]
  },
  {
   "cell_type": "code",
   "execution_count": 9,
   "metadata": {},
   "outputs": [],
   "source": [
    "def predict(features, weights):\n",
    "  z = np.dot(features, weights)\n",
    "  return sigmoid(z)"
   ]
  },
  {
   "cell_type": "code",
   "execution_count": 2,
   "metadata": {},
   "outputs": [],
   "source": [
    "def decision_boundary(prob):\n",
    "  return 1 if prob >= .5 else 0"
   ]
  },
  {
   "cell_type": "code",
   "execution_count": 35,
   "metadata": {},
   "outputs": [],
   "source": [
    "def classify(predictions):\n",
    "#   decision_boundary = np.vectorize(decision_boundary)\n",
    "  return decision_boundary(predictions).flatten()"
   ]
  },
  {
   "cell_type": "code",
   "execution_count": 12,
   "metadata": {},
   "outputs": [],
   "source": [
    "x=[10, 20, 30, 40, 50, 60, 70]\n",
    "yy=[0, 0, 0, 1, 1, 1, 1]\n",
    "xx=[ [1.0, float(ix) ] for ix in x]\n",
    "xxx=np.array(xx)\n",
    "yyy=np.array(yy)"
   ]
  },
  {
   "cell_type": "code",
   "execution_count": 13,
   "metadata": {},
   "outputs": [
    {
     "name": "stdout",
     "output_type": "stream",
     "text": [
      "[[  1.  10.]\n",
      " [  1.  20.]\n",
      " [  1.  30.]\n",
      " [  1.  40.]\n",
      " [  1.  50.]\n",
      " [  1.  60.]\n",
      " [  1.  70.]]\n",
      "[0 0 0 1 1 1 1]\n"
     ]
    }
   ],
   "source": [
    "X=xxx\n",
    "y=yyy\n",
    "\n",
    "print X\n",
    "print y"
   ]
  },
  {
   "cell_type": "code",
   "execution_count": null,
   "metadata": {},
   "outputs": [],
   "source": []
  },
  {
   "cell_type": "markdown",
   "metadata": {},
   "source": [
    "## Some problem with python2 not in 3 why?"
   ]
  },
  {
   "cell_type": "code",
   "execution_count": null,
   "metadata": {},
   "outputs": [],
   "source": []
  },
  {
   "cell_type": "code",
   "execution_count": null,
   "metadata": {},
   "outputs": [],
   "source": []
  },
  {
   "cell_type": "code",
   "execution_count": null,
   "metadata": {},
   "outputs": [],
   "source": []
  },
  {
   "cell_type": "markdown",
   "metadata": {},
   "source": [
    "### References\n",
    "\n",
    "1. [pat obi] https://www.youtube.com/watch?v=ODKnSvELXbg\n",
    "2. [odds, statequest] https://www.youtube.com/watch?v=ARfXDSkQf1Y\n",
    "3. [statequest] https://www.youtube.com/watch?v=yIYKR4sgzI8\n",
    "4. [Andrew NG] https://www.youtube.com/watch?v=-la3q9d7AKQ\n",
    "5. https://medium.com/@anishsingh20/logistic-regression-in-python-423c8d32838b\n",
    "6. [scikit-learn example on digit recog.] https://towardsdatascience.com/logistic-regression-using-python-sklearn-numpy-mnist-handwriting-recognition-matplotlib-a6b31e2b166a\n",
    "7. [good understanding on logit function, LHS=RHS ] https://towardsdatascience.com/logit-of-logistic-regression-understanding-the-fundamentals-f384152a33d1\n",
    "8. [code, good, no explan on los] https://medium.com/@martinpella/logistic-regression-from-scratch-in-python-124c5636b8ac\n",
    "9. [very very good] https://ml-cheatsheet.readthedocs.io/en/latest/logistic_regression.html\n",
    "10. [How does it work? the way desribed here?] https://becominghuman.ai/logistic-regression-in-python-from-scratch-954c0196d258\n",
    "11. [loss function, very good] https://ml-cheatsheet.readthedocs.io/en/latest/loss_functions.html#loss-cross-entropy\n",
    "12. [great, derivative of sigmoid] https://math.stackexchange.com/questions/78575/derivative-of-sigmoid-function-sigma-x-frac11e-x\n",
    "13. [TO_CHECK, Decision Boundary] https://towardsdatascience.com/building-a-logistic-regression-in-python-301d27367c24"
   ]
  },
  {
   "cell_type": "code",
   "execution_count": null,
   "metadata": {},
   "outputs": [],
   "source": []
  }
 ],
 "metadata": {
  "kernelspec": {
   "display_name": "Python 2",
   "language": "python",
   "name": "python2"
  },
  "language_info": {
   "codemirror_mode": {
    "name": "ipython",
    "version": 2
   },
   "file_extension": ".py",
   "mimetype": "text/x-python",
   "name": "python",
   "nbconvert_exporter": "python",
   "pygments_lexer": "ipython2",
   "version": "2.7.15"
  }
 },
 "nbformat": 4,
 "nbformat_minor": 2
}
