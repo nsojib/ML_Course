{
 "cells": [
  {
   "cell_type": "markdown",
   "metadata": {},
   "source": [
    "## K-Nearest Neighbors"
   ]
  },
  {
   "cell_type": "code",
   "execution_count": 61,
   "metadata": {},
   "outputs": [],
   "source": [
    "import numpy as np\n",
    "from sklearn.model_selection import train_test_split\n",
    "from sklearn import datasets\n",
    "from collections import Counter"
   ]
  },
  {
   "cell_type": "code",
   "execution_count": 6,
   "metadata": {},
   "outputs": [],
   "source": [
    "iris =  datasets.load_iris() \n",
    "X = iris.data\n",
    "y = iris.target"
   ]
  },
  {
   "cell_type": "code",
   "execution_count": 7,
   "metadata": {},
   "outputs": [
    {
     "name": "stdout",
     "output_type": "stream",
     "text": [
      "[[5.1 3.5 1.4 0.2]\n",
      " [4.9 3.  1.4 0.2]\n",
      " [4.7 3.2 1.3 0.2]]\n",
      "[0 0 0 0 0 0 0 0 0 0 0 0 0 0 0 0 0 0 0 0 0 0 0 0 0 0 0 0 0 0 0 0 0 0 0 0 0\n",
      " 0 0 0 0 0 0 0 0 0 0 0 0 0 1 1 1 1 1 1 1 1 1 1 1 1 1 1 1 1 1 1 1 1 1 1 1 1\n",
      " 1 1 1 1 1 1 1 1 1 1 1 1 1 1 1 1 1 1 1 1 1 1 1 1 1 1 2 2 2 2 2 2 2 2 2 2 2\n",
      " 2 2 2 2 2 2 2 2 2 2 2 2 2 2 2 2 2 2 2 2 2 2 2 2 2 2 2 2 2 2 2 2 2 2 2 2 2\n",
      " 2 2]\n"
     ]
    }
   ],
   "source": [
    "print(X[:3])\n",
    "print(y)"
   ]
  },
  {
   "cell_type": "code",
   "execution_count": 100,
   "metadata": {},
   "outputs": [],
   "source": [
    " x_train,x_test,y_train,y_test=train_test_split(X,y,test_size=0.2)"
   ]
  },
  {
   "cell_type": "code",
   "execution_count": 101,
   "metadata": {},
   "outputs": [
    {
     "name": "stdout",
     "output_type": "stream",
     "text": [
      "[[5.7 2.5 5.  2. ]\n",
      " [5.8 2.7 3.9 1.2]\n",
      " [5.5 2.4 3.8 1.1]]\n",
      "[2 1 1]\n"
     ]
    }
   ],
   "source": [
    "print(x_test[:3])\n",
    "print(y_test[:3])"
   ]
  },
  {
   "cell_type": "markdown",
   "metadata": {},
   "source": [
    "<img src='imgs/diagram_euclidean_manhattan_distance_metrics.png'>\n",
    "<img src='imgs/euclidean_manhattan.jpg'>"
   ]
  },
  {
   "cell_type": "code",
   "execution_count": 102,
   "metadata": {},
   "outputs": [],
   "source": [
    "def euclidean(x, x2):\n",
    "    sum=0\n",
    "    for ix,ix2 in zip(x,x2):\n",
    "        sum+=(ix-ix2)**2\n",
    "    return np.sqrt(sum)"
   ]
  },
  {
   "cell_type": "code",
   "execution_count": 103,
   "metadata": {},
   "outputs": [],
   "source": [
    "def manhattan(x, x2):\n",
    "    sum=0\n",
    "    for ix,ix2 in zip(x,x2):\n",
    "        sum+=abs(ix-ix2)\n",
    "    return sum"
   ]
  },
  {
   "cell_type": "code",
   "execution_count": 104,
   "metadata": {},
   "outputs": [
    {
     "data": {
      "text/plain": [
       "5.0"
      ]
     },
     "execution_count": 104,
     "metadata": {},
     "output_type": "execute_result"
    }
   ],
   "source": [
    "euclidean([0,0], [3,4])"
   ]
  },
  {
   "cell_type": "code",
   "execution_count": 105,
   "metadata": {},
   "outputs": [
    {
     "data": {
      "text/plain": [
       "7"
      ]
     },
     "execution_count": 105,
     "metadata": {},
     "output_type": "execute_result"
    }
   ],
   "source": [
    "manhattan([0,0], [3,4])"
   ]
  },
  {
   "cell_type": "code",
   "execution_count": 106,
   "metadata": {},
   "outputs": [],
   "source": [
    "xt=[6.7, 3.3, 5.7, 2.1]\n",
    "xt=[5.6, 3., 4.5, 1.5]"
   ]
  },
  {
   "cell_type": "code",
   "execution_count": 107,
   "metadata": {},
   "outputs": [],
   "source": [
    "dist={}\n",
    "for i, x in enumerate(x_train):\n",
    "#     ed=euclidean(x, xt)\n",
    "    ed=manhattan(x, xt)\n",
    "    dist[i]=ed"
   ]
  },
  {
   "cell_type": "code",
   "execution_count": 108,
   "metadata": {},
   "outputs": [
    {
     "name": "stdout",
     "output_type": "stream",
     "text": [
      "{0: 5.5, 1: 5.899999999999999, 2: 2.8000000000000007, 3: 0.5000000000000004, 4: 1.4000000000000006, 5: 2.8000000000000003, 6: 3.2000000000000006, 7: 1.1999999999999997, 8: 1.2000000000000004, 9: 6.2, 10: 4.699999999999999, 11: 2.2, 12: 3.0999999999999996, 13: 5.1, 14: 3.0999999999999996, 15: 5.3, 16: 1.2000000000000004, 17: 5.1, 18: 4.999999999999999, 19: 2.7000000000000006, 20: 5.0, 21: 1.4999999999999996, 22: 5.3999999999999995, 23: 3.500000000000001, 24: 2.9000000000000004, 25: 3.5000000000000004, 26: 5.1, 27: 6.1, 28: 1.3999999999999995, 29: 2.9, 30: 5.3, 31: 3.0000000000000004, 32: 1.5, 33: 1.2000000000000004, 34: 3.5, 35: 5.6, 36: 1.4999999999999998, 37: 1.4000000000000004, 38: 5.199999999999999, 39: 1.8000000000000012, 40: 3.2, 41: 1.1000000000000008, 42: 2.0000000000000004, 43: 5.399999999999999, 44: 2.1000000000000005, 45: 5.300000000000001, 46: 1.4000000000000008, 47: 5.7, 48: 2.6000000000000005, 49: 5.799999999999999, 50: 2.200000000000001, 51: 1.9000000000000008, 52: 5.3999999999999995, 53: 3.9000000000000004, 54: 1.4000000000000004, 55: 2.0999999999999996, 56: 5.1, 57: 5.3, 58: 1.7000000000000002, 59: 5.6000000000000005, 60: 1.8000000000000003, 61: 1.4000000000000001, 62: 0.6000000000000003, 63: 4.699999999999999, 64: 2.3000000000000003, 65: 0.5000000000000007, 66: 5.000000000000001, 67: 1.9999999999999996, 68: 0.900000000000001, 69: 4.0, 70: 4.9, 71: 2.9000000000000012, 72: 0.1999999999999993, 73: 1.2000000000000002, 74: 5.1, 75: 4.800000000000001, 76: 0.7000000000000004, 77: 5.6, 78: 1.3999999999999997, 79: 5.8, 80: 2.2, 81: 4.5, 82: 4.8999999999999995, 83: 0.8999999999999992, 84: 2.8000000000000003, 85: 1.8000000000000005, 86: 0.9000000000000004, 87: 2.6000000000000005, 88: 3.0, 89: 2.1, 90: 1.2, 91: 3.6000000000000005, 92: 0.9000000000000004, 93: 1.7, 94: 5.499999999999999, 95: 1.4999999999999996, 96: 5.800000000000001, 97: 2.2, 98: 5.7, 99: 5.7, 100: 1.4, 101: 5.3999999999999995, 102: 1.5, 103: 5.199999999999999, 104: 2.9999999999999996, 105: 6.3999999999999995, 106: 3.6000000000000005, 107: 3.6000000000000005, 108: 0.6000000000000005, 109: 5.600000000000001, 110: 3.2, 111: 0.7999999999999996, 112: 5.5, 113: 5.2, 114: 1.0000000000000009, 115: 1.0000000000000002, 116: 1.3999999999999992, 117: 5.3999999999999995, 118: 2.7000000000000006, 119: 5.8999999999999995}\n"
     ]
    }
   ],
   "source": [
    "print(dist)"
   ]
  },
  {
   "cell_type": "code",
   "execution_count": 109,
   "metadata": {},
   "outputs": [],
   "source": [
    "sorted_d = sorted(dist.items(), key=lambda kv: kv[1])"
   ]
  },
  {
   "cell_type": "code",
   "execution_count": 110,
   "metadata": {},
   "outputs": [
    {
     "name": "stdout",
     "output_type": "stream",
     "text": [
      "[(72, 0.1999999999999993), (3, 0.5000000000000004), (65, 0.5000000000000007), (62, 0.6000000000000003), (108, 0.6000000000000005), (76, 0.7000000000000004), (111, 0.7999999999999996), (83, 0.8999999999999992), (86, 0.9000000000000004), (92, 0.9000000000000004), (68, 0.900000000000001), (115, 1.0000000000000002), (114, 1.0000000000000009), (41, 1.1000000000000008), (7, 1.1999999999999997), (90, 1.2), (73, 1.2000000000000002), (8, 1.2000000000000004), (16, 1.2000000000000004), (33, 1.2000000000000004), (116, 1.3999999999999992), (28, 1.3999999999999995), (78, 1.3999999999999997), (100, 1.4), (61, 1.4000000000000001), (37, 1.4000000000000004), (54, 1.4000000000000004), (4, 1.4000000000000006), (46, 1.4000000000000008), (21, 1.4999999999999996), (95, 1.4999999999999996), (36, 1.4999999999999998), (32, 1.5), (102, 1.5), (93, 1.7), (58, 1.7000000000000002), (60, 1.8000000000000003), (85, 1.8000000000000005), (39, 1.8000000000000012), (51, 1.9000000000000008), (67, 1.9999999999999996), (42, 2.0000000000000004), (55, 2.0999999999999996), (89, 2.1), (44, 2.1000000000000005), (11, 2.2), (80, 2.2), (97, 2.2), (50, 2.200000000000001), (64, 2.3000000000000003), (48, 2.6000000000000005), (87, 2.6000000000000005), (19, 2.7000000000000006), (118, 2.7000000000000006), (5, 2.8000000000000003), (84, 2.8000000000000003), (2, 2.8000000000000007), (29, 2.9), (24, 2.9000000000000004), (71, 2.9000000000000012), (104, 2.9999999999999996), (88, 3.0), (31, 3.0000000000000004), (12, 3.0999999999999996), (14, 3.0999999999999996), (40, 3.2), (110, 3.2), (6, 3.2000000000000006), (34, 3.5), (25, 3.5000000000000004), (23, 3.500000000000001), (91, 3.6000000000000005), (106, 3.6000000000000005), (107, 3.6000000000000005), (53, 3.9000000000000004), (69, 4.0), (81, 4.5), (10, 4.699999999999999), (63, 4.699999999999999), (75, 4.800000000000001), (82, 4.8999999999999995), (70, 4.9), (18, 4.999999999999999), (20, 5.0), (66, 5.000000000000001), (13, 5.1), (17, 5.1), (26, 5.1), (56, 5.1), (74, 5.1), (38, 5.199999999999999), (103, 5.199999999999999), (113, 5.2), (15, 5.3), (30, 5.3), (57, 5.3), (45, 5.300000000000001), (43, 5.399999999999999), (22, 5.3999999999999995), (52, 5.3999999999999995), (101, 5.3999999999999995), (117, 5.3999999999999995), (94, 5.499999999999999), (0, 5.5), (112, 5.5), (35, 5.6), (77, 5.6), (59, 5.6000000000000005), (109, 5.600000000000001), (47, 5.7), (98, 5.7), (99, 5.7), (49, 5.799999999999999), (79, 5.8), (96, 5.800000000000001), (1, 5.899999999999999), (119, 5.8999999999999995), (27, 6.1), (9, 6.2), (105, 6.3999999999999995)]\n"
     ]
    }
   ],
   "source": [
    "print(sorted_d)"
   ]
  },
  {
   "cell_type": "code",
   "execution_count": 128,
   "metadata": {},
   "outputs": [
    {
     "name": "stdout",
     "output_type": "stream",
     "text": [
      "[72]\n"
     ]
    }
   ],
   "source": [
    "k=1\n",
    "neighbors=[]\n",
    "for i in range(k):\n",
    "    neighbors.append(sorted_d[i][0])\n",
    "print(neighbors)"
   ]
  },
  {
   "cell_type": "code",
   "execution_count": 129,
   "metadata": {},
   "outputs": [
    {
     "name": "stdout",
     "output_type": "stream",
     "text": [
      "[1]\n"
     ]
    }
   ],
   "source": [
    "classes=[ y_train[i] for i in neighbors]\n",
    "print(classes)"
   ]
  },
  {
   "cell_type": "code",
   "execution_count": 132,
   "metadata": {},
   "outputs": [
    {
     "name": "stdout",
     "output_type": "stream",
     "text": [
      "Counter({1: 1})\n",
      "keys= [1]\n",
      "values= [1]\n",
      "index of max value= 0\n",
      "predict class= 1\n"
     ]
    }
   ],
   "source": [
    "count=Counter(classes)\n",
    "print(count)\n",
    "keys= list( count.keys() )\n",
    "print('keys=', keys)\n",
    "values=list( count.values() )\n",
    "print('values=',values)\n",
    "\n",
    "index_of_max_values=values.index(max(values)) \n",
    "print('index of max value=', index_of_max_values)\n",
    "y_hat=keys[index_of_max_values]\n",
    "print('predict class=',y_hat)"
   ]
  },
  {
   "cell_type": "code",
   "execution_count": 133,
   "metadata": {},
   "outputs": [],
   "source": [
    "def predict(X,y, xt, k):\n",
    "    #Step_1: calculate distance from all the training instances, track position and distance.\n",
    "    dist={}\n",
    "    for i, x in enumerate(x_train):\n",
    "    #     ed=euclidean(x, xt)\n",
    "        ed=manhattan(x, xt)\n",
    "        dist[i]=ed\n",
    "        \n",
    "    #step_2: sort the dictionary\n",
    "    sorted_d = sorted(dist.items(), key=lambda kv: kv[1])\n",
    "    \n",
    "    #step_3: choose first k items. we call them neighbors.\n",
    "    neighbors=[sorted_d[i][0] for i in range(k)]\n",
    "    \n",
    "    #step_4: get the labels of the neighbors.\n",
    "    classes=[ y[i] for i in neighbors]\n",
    "    \n",
    "    #step_5: find which class appeared maximum time among the k neighbors.\n",
    "    count=Counter(classes) \n",
    "    keys= list( count.keys() ) \n",
    "    values=list( count.values() ) \n",
    "\n",
    "    index_of_max_values=values.index(max(values)) \n",
    "    y_hat=keys[index_of_max_values]\n",
    "    return y_hat"
   ]
  },
  {
   "cell_type": "code",
   "execution_count": 134,
   "metadata": {},
   "outputs": [
    {
     "data": {
      "text/plain": [
       "1"
      ]
     },
     "execution_count": 134,
     "metadata": {},
     "output_type": "execute_result"
    }
   ],
   "source": [
    "predict(x_train,y_train, xt, 3)"
   ]
  },
  {
   "cell_type": "code",
   "execution_count": 135,
   "metadata": {},
   "outputs": [],
   "source": [
    "def KNN(x_train, y_train,  x_test, k):\n",
    "    ps=[predict(x_train,y_train, xt, k) for xt in x_test] \n",
    "    return np.array(ps)   "
   ]
  },
  {
   "cell_type": "code",
   "execution_count": 138,
   "metadata": {},
   "outputs": [
    {
     "name": "stdout",
     "output_type": "stream",
     "text": [
      "[2 1 1 1 2 0 2 0 0 1 1 2 0 2 0 2 1 0 0 0 0 0 1 1 2 1 1 0 2 1]\n",
      "[2 1 1 1 2 0 1 0 0 1 1 2 0 2 0 2 1 0 0 0 0 0 1 1 2 1 1 0 2 1]\n"
     ]
    }
   ],
   "source": [
    "k=5\n",
    "ps=KNN(x_train,y_train, x_test, k)\n",
    "print(ps)\n",
    "print(y_test)"
   ]
  },
  {
   "cell_type": "code",
   "execution_count": null,
   "metadata": {},
   "outputs": [],
   "source": []
  },
  {
   "cell_type": "code",
   "execution_count": null,
   "metadata": {},
   "outputs": [],
   "source": []
  }
 ],
 "metadata": {
  "kernelspec": {
   "display_name": "Python 3",
   "language": "python",
   "name": "python3"
  },
  "language_info": {
   "codemirror_mode": {
    "name": "ipython",
    "version": 3
   },
   "file_extension": ".py",
   "mimetype": "text/x-python",
   "name": "python",
   "nbconvert_exporter": "python",
   "pygments_lexer": "ipython3",
   "version": "3.7.0"
  }
 },
 "nbformat": 4,
 "nbformat_minor": 2
}
