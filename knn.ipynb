{
 "cells": [
  {
   "cell_type": "markdown",
   "metadata": {},
   "source": [
    "## K-Nearest Neighbors"
   ]
  },
  {
   "cell_type": "code",
   "execution_count": 1,
   "metadata": {},
   "outputs": [],
   "source": [
    "import numpy as np\n",
    "from sklearn.model_selection import train_test_split\n",
    "from sklearn import datasets\n",
    "from collections import Counter"
   ]
  },
  {
   "cell_type": "markdown",
   "metadata": {},
   "source": [
    "<img src='imgs\\iris-species.png' width=60%>"
   ]
  },
  {
   "cell_type": "code",
   "execution_count": 28,
   "metadata": {},
   "outputs": [],
   "source": [
    "iris =  datasets.load_iris() \n",
    "X = iris.data\n",
    "y = iris.target"
   ]
  },
  {
   "cell_type": "code",
   "execution_count": 30,
   "metadata": {},
   "outputs": [
    {
     "data": {
      "text/plain": [
       "(150, 4)"
      ]
     },
     "execution_count": 30,
     "metadata": {},
     "output_type": "execute_result"
    }
   ],
   "source": [
    "X.shape"
   ]
  },
  {
   "cell_type": "code",
   "execution_count": 31,
   "metadata": {},
   "outputs": [
    {
     "name": "stdout",
     "output_type": "stream",
     "text": [
      "[[5.1 3.5 1.4 0.2]\n",
      " [4.9 3.  1.4 0.2]\n",
      " [4.7 3.2 1.3 0.2]\n",
      " [4.6 3.1 1.5 0.2]\n",
      " [5.  3.6 1.4 0.2]]\n",
      "[0 0 0 0 0 0 0 0 0 0 0 0 0 0 0 0 0 0 0 0 0 0 0 0 0 0 0 0 0 0 0 0 0 0 0 0 0\n",
      " 0 0 0 0 0 0 0 0 0 0 0 0 0 1 1 1 1 1 1 1 1 1 1 1 1 1 1 1 1 1 1 1 1 1 1 1 1\n",
      " 1 1 1 1 1 1 1 1 1 1 1 1 1 1 1 1 1 1 1 1 1 1 1 1 1 1 2 2 2 2 2 2 2 2 2 2 2\n",
      " 2 2 2 2 2 2 2 2 2 2 2 2 2 2 2 2 2 2 2 2 2 2 2 2 2 2 2 2 2 2 2 2 2 2 2 2 2\n",
      " 2 2]\n"
     ]
    }
   ],
   "source": [
    "print(X[:5])\n",
    "print(y)"
   ]
  },
  {
   "cell_type": "code",
   "execution_count": 9,
   "metadata": {},
   "outputs": [],
   "source": [
    " x_train,x_test,y_train,y_test=train_test_split(X,y,test_size=0.2)"
   ]
  },
  {
   "cell_type": "code",
   "execution_count": 10,
   "metadata": {},
   "outputs": [
    {
     "name": "stdout",
     "output_type": "stream",
     "text": [
      "30\n",
      "[2 0 2]\n"
     ]
    }
   ],
   "source": [
    "print( len(x_test))\n",
    "print(y_test[:3])"
   ]
  },
  {
   "cell_type": "markdown",
   "metadata": {},
   "source": [
    "<img src='imgs/diagram_euclidean_manhattan_distance_metrics.png'>\n",
    "<img src='imgs/euclidean_manhattan.jpg'>"
   ]
  },
  {
   "cell_type": "code",
   "execution_count": 11,
   "metadata": {},
   "outputs": [],
   "source": [
    "def euclidean(x, x2):\n",
    "    sum=0\n",
    "    for ix,ix2 in zip(x,x2):\n",
    "        sum+=(ix-ix2)**2\n",
    "    return np.sqrt(sum)"
   ]
  },
  {
   "cell_type": "code",
   "execution_count": 12,
   "metadata": {},
   "outputs": [],
   "source": [
    "def manhattan(x, x2):\n",
    "    sum=0\n",
    "    for ix,ix2 in zip(x,x2):\n",
    "        sum+=abs(ix-ix2)\n",
    "    return sum"
   ]
  },
  {
   "cell_type": "code",
   "execution_count": 13,
   "metadata": {},
   "outputs": [
    {
     "data": {
      "text/plain": [
       "5.0"
      ]
     },
     "execution_count": 13,
     "metadata": {},
     "output_type": "execute_result"
    }
   ],
   "source": [
    "euclidean([0,0], [3,4])"
   ]
  },
  {
   "cell_type": "code",
   "execution_count": 14,
   "metadata": {},
   "outputs": [
    {
     "data": {
      "text/plain": [
       "7"
      ]
     },
     "execution_count": 14,
     "metadata": {},
     "output_type": "execute_result"
    }
   ],
   "source": [
    "manhattan([0,0], [3,4])"
   ]
  },
  {
   "cell_type": "code",
   "execution_count": 15,
   "metadata": {},
   "outputs": [],
   "source": [
    "# xt=[6.7, 3.3, 5.7, 2.1]\n",
    "xt=[5.1, 3., 4.2, 1.5]"
   ]
  },
  {
   "cell_type": "code",
   "execution_count": 16,
   "metadata": {},
   "outputs": [],
   "source": [
    "dist={}\n",
    "for i, x in enumerate(x_train):\n",
    "    ed=euclidean(x, xt)\n",
    "#     ed=manhattan(x, xt)\n",
    "    dist[i]=ed"
   ]
  },
  {
   "cell_type": "code",
   "execution_count": 17,
   "metadata": {},
   "outputs": [
    {
     "name": "stdout",
     "output_type": "stream",
     "text": [
      "{0: 1.452583904633395, 1: 3.0495901363953815, 2: 0.8124038404635961, 3: 2.428991560298224, 4: 3.024896692450835, 5: 1.4662878298615178, 6: 3.254228019054596, 7: 3.4942810419312296, 8: 1.1269427669584644, 9: 0.8831760866327848, 10: 1.8000000000000005, 11: 3.289376840679706, 12: 0.7280109889280523, 13: 2.247220505424424, 14: 1.9773719933285192, 15: 2.8530685235374214, 16: 3.023243291566195, 17: 1.6792855623746672, 18: 3.0870698080866266, 19: 0.7000000000000002, 20: 3.1796226191169294, 21: 2.1679483388678804, 22: 2.9580398915498085, 23: 1.349073756323205, 24: 3.093541659651604, 25: 3.0610455730027937, 26: 1.244989959798873, 27: 1.0583005244258363, 28: 2.7982137159266447, 29: 2.7092434368288134, 30: 2.3108440016582685, 31: 3.5411862419251547, 32: 3.167017524422623, 33: 0.871779788708135, 34: 1.24899959967968, 35: 1.319090595827292, 36: 1.174734012447073, 37: 3.144837038703278, 38: 3.004995840263344, 39: 2.222611077089287, 40: 1.244989959798873, 41: 1.8165902124584952, 42: 0.6708203932499374, 43: 3.083828789021855, 44: 1.322875655532296, 45: 1.8920887928424504, 46: 2.6419689627245813, 47: 2.0445048300260873, 48: 2.238302928559939, 49: 3.8535697735995393, 50: 1.8654758106177634, 51: 3.4899856733230297, 52: 2.9086079144497976, 53: 2.4839484696748446, 54: 2.6720778431774774, 55: 3.646916505762094, 56: 0.6708203932499371, 57: 2.7892651361962706, 58: 2.8618176042508368, 59: 1.2409673645990857, 60: 2.924038303442689, 61: 1.5132745950421556, 62: 1.5684387141358123, 63: 0.8000000000000007, 64: 1.009950493836208, 65: 2.99833287011299, 66: 3.1144823004794877, 67: 2.012461179749811, 68: 3.0397368307141326, 69: 3.0610455730027937, 70: 1.57797338380595, 71: 1.9339079605813716, 72: 1.2083045973594573, 73: 1.7691806012954128, 74: 1.3228756555322954, 75: 3.277193921634788, 76: 3.2434549480453714, 77: 1.2569805089976536, 78: 3.057776970284131, 79: 1.3114877048604, 80: 3.0397368307141326, 81: 1.9339079605813723, 82: 3.062678566222711, 83: 1.0344080432788603, 84: 2.6888659319497505, 85: 2.4020824298928627, 86: 3.014962686336267, 87: 1.4696938456699071, 88: 0.6164414002968975, 89: 1.3601470508735445, 90: 1.0630145812734653, 91: 1.30384048104053, 92: 0.8660254037844387, 93: 1.0816653826391966, 94: 0.9165151389911682, 95: 1.4764823060233403, 96: 1.8708286933869704, 97: 3.7603191353926335, 98: 1.1224972160321829, 99: 0.9165151389911683, 100: 2.6925824035672523, 101: 1.7492855684535902, 102: 1.126942766958465, 103: 3.241913015489466, 104: 1.791647286716892, 105: 1.5165750888103102, 106: 3.1272991542223783, 107: 3.0166206257996713, 108: 3.2603680773802215, 109: 1.4177446878757827, 110: 0.8544003745317535, 111: 3.318132004607412, 112: 2.04939015319192, 113: 3.0919249667480617, 114: 0.6708203932499376, 115: 2.0904544960366866, 116: 1.392838827718412, 117: 2.891366458960192, 118: 0.44721359549995815, 119: 3.5171010790137944}\n"
     ]
    }
   ],
   "source": [
    "print(dist)"
   ]
  },
  {
   "cell_type": "code",
   "execution_count": 18,
   "metadata": {},
   "outputs": [],
   "source": [
    "sorted_d = sorted(dist.items(), key=lambda kv: kv[1])"
   ]
  },
  {
   "cell_type": "code",
   "execution_count": 19,
   "metadata": {},
   "outputs": [
    {
     "name": "stdout",
     "output_type": "stream",
     "text": [
      "[(118, 0.44721359549995815), (88, 0.6164414002968975), (56, 0.6708203932499371), (42, 0.6708203932499374), (114, 0.6708203932499376), (19, 0.7000000000000002), (12, 0.7280109889280523), (63, 0.8000000000000007), (2, 0.8124038404635961), (110, 0.8544003745317535), (92, 0.8660254037844387), (33, 0.871779788708135), (9, 0.8831760866327848), (94, 0.9165151389911682), (99, 0.9165151389911683), (64, 1.009950493836208), (83, 1.0344080432788603), (27, 1.0583005244258363), (90, 1.0630145812734653), (93, 1.0816653826391966), (98, 1.1224972160321829), (8, 1.1269427669584644), (102, 1.126942766958465), (36, 1.174734012447073), (72, 1.2083045973594573), (59, 1.2409673645990857), (26, 1.244989959798873), (40, 1.244989959798873), (34, 1.24899959967968), (77, 1.2569805089976536), (91, 1.30384048104053), (79, 1.3114877048604), (35, 1.319090595827292), (74, 1.3228756555322954), (44, 1.322875655532296), (23, 1.349073756323205), (89, 1.3601470508735445), (116, 1.392838827718412), (109, 1.4177446878757827), (0, 1.452583904633395), (5, 1.4662878298615178), (87, 1.4696938456699071), (95, 1.4764823060233403), (61, 1.5132745950421556), (105, 1.5165750888103102), (62, 1.5684387141358123), (70, 1.57797338380595), (17, 1.6792855623746672), (101, 1.7492855684535902), (73, 1.7691806012954128), (104, 1.791647286716892), (10, 1.8000000000000005), (41, 1.8165902124584952), (50, 1.8654758106177634), (96, 1.8708286933869704), (45, 1.8920887928424504), (71, 1.9339079605813716), (81, 1.9339079605813723), (14, 1.9773719933285192), (67, 2.012461179749811), (47, 2.0445048300260873), (112, 2.04939015319192), (115, 2.0904544960366866), (21, 2.1679483388678804), (39, 2.222611077089287), (48, 2.238302928559939), (13, 2.247220505424424), (30, 2.3108440016582685), (85, 2.4020824298928627), (3, 2.428991560298224), (53, 2.4839484696748446), (46, 2.6419689627245813), (54, 2.6720778431774774), (84, 2.6888659319497505), (100, 2.6925824035672523), (29, 2.7092434368288134), (57, 2.7892651361962706), (28, 2.7982137159266447), (15, 2.8530685235374214), (58, 2.8618176042508368), (117, 2.891366458960192), (52, 2.9086079144497976), (60, 2.924038303442689), (22, 2.9580398915498085), (65, 2.99833287011299), (38, 3.004995840263344), (86, 3.014962686336267), (107, 3.0166206257996713), (16, 3.023243291566195), (4, 3.024896692450835), (68, 3.0397368307141326), (80, 3.0397368307141326), (1, 3.0495901363953815), (78, 3.057776970284131), (25, 3.0610455730027937), (69, 3.0610455730027937), (82, 3.062678566222711), (43, 3.083828789021855), (18, 3.0870698080866266), (113, 3.0919249667480617), (24, 3.093541659651604), (66, 3.1144823004794877), (106, 3.1272991542223783), (37, 3.144837038703278), (32, 3.167017524422623), (20, 3.1796226191169294), (103, 3.241913015489466), (76, 3.2434549480453714), (6, 3.254228019054596), (108, 3.2603680773802215), (75, 3.277193921634788), (11, 3.289376840679706), (111, 3.318132004607412), (51, 3.4899856733230297), (7, 3.4942810419312296), (119, 3.5171010790137944), (31, 3.5411862419251547), (55, 3.646916505762094), (97, 3.7603191353926335), (49, 3.8535697735995393)]\n"
     ]
    }
   ],
   "source": [
    "print(sorted_d)"
   ]
  },
  {
   "cell_type": "code",
   "execution_count": 26,
   "metadata": {},
   "outputs": [
    {
     "name": "stdout",
     "output_type": "stream",
     "text": [
      "[118, 88, 56]\n"
     ]
    }
   ],
   "source": [
    "k=3\n",
    "neighbors=[]\n",
    "for i in range(k):\n",
    "    neighbors.append(sorted_d[i][0])\n",
    "print(neighbors)"
   ]
  },
  {
   "cell_type": "code",
   "execution_count": 27,
   "metadata": {},
   "outputs": [
    {
     "name": "stdout",
     "output_type": "stream",
     "text": [
      "[1, 1, 1]\n"
     ]
    }
   ],
   "source": [
    "classes=[ y_train[i] for i in neighbors]\n",
    "print(classes)"
   ]
  },
  {
   "cell_type": "code",
   "execution_count": 52,
   "metadata": {},
   "outputs": [
    {
     "name": "stdout",
     "output_type": "stream",
     "text": [
      "Counter({1: 1})\n",
      "keys= [1]\n",
      "values= [1]\n",
      "index of max value= 0\n",
      "predict class= 1\n"
     ]
    }
   ],
   "source": [
    "count=Counter(classes)\n",
    "print(count)\n",
    "keys= list( count.keys() )\n",
    "print('keys=', keys)\n",
    "values=list( count.values() )\n",
    "print('values=',values)\n",
    "\n",
    "index_of_max_values=values.index(max(values)) \n",
    "print('index of max value=', index_of_max_values)\n",
    "y_hat=keys[index_of_max_values]\n",
    "print('predict class=',y_hat)"
   ]
  },
  {
   "cell_type": "code",
   "execution_count": 53,
   "metadata": {},
   "outputs": [],
   "source": [
    "def predict(X,y, xt, k):\n",
    "    #Step_1: calculate distance from all the training instances, track position and distance.\n",
    "    dist={}\n",
    "    for i, x in enumerate(x_train):\n",
    "    #     ed=euclidean(x, xt)\n",
    "        ed=manhattan(x, xt)\n",
    "        dist[i]=ed\n",
    "        \n",
    "    #step_2: sort the dictionary\n",
    "    sorted_d = sorted(dist.items(), key=lambda kv: kv[1])\n",
    "    \n",
    "    #step_3: choose first k items. we call them neighbors.\n",
    "    neighbors=[sorted_d[i][0] for i in range(k)]\n",
    "    \n",
    "    #step_4: get the labels of the neighbors.\n",
    "    classes=[ y[i] for i in neighbors]\n",
    "    \n",
    "    #step_5: find which class appeared maximum time among the k neighbors.\n",
    "    count=Counter(classes) \n",
    "    keys= list( count.keys() ) \n",
    "    values=list( count.values() ) \n",
    "\n",
    "    index_of_max_values=values.index(max(values)) \n",
    "    y_hat=keys[index_of_max_values]\n",
    "    return y_hat"
   ]
  },
  {
   "cell_type": "code",
   "execution_count": 54,
   "metadata": {},
   "outputs": [
    {
     "data": {
      "text/plain": [
       "1"
      ]
     },
     "execution_count": 54,
     "metadata": {},
     "output_type": "execute_result"
    }
   ],
   "source": [
    "predict(x_train,y_train, xt, 3)"
   ]
  },
  {
   "cell_type": "code",
   "execution_count": 55,
   "metadata": {},
   "outputs": [],
   "source": [
    "def KNN(x_train, y_train,  x_test, k):\n",
    "    ps=[predict(x_train,y_train, xt, k) for xt in x_test] \n",
    "    return np.array(ps)   "
   ]
  },
  {
   "cell_type": "code",
   "execution_count": 56,
   "metadata": {},
   "outputs": [
    {
     "name": "stdout",
     "output_type": "stream",
     "text": [
      "[1 2 1 0 1 2 1 0 0 2 2 2 2 0 1 0 0 2 2 2 1 0 0 2 2 0 0 0 2 1]\n",
      "[1 2 1 0 1 2 1 0 0 2 2 2 2 0 1 0 0 2 2 2 1 0 0 1 2 0 0 0 2 1]\n"
     ]
    }
   ],
   "source": [
    "k=5\n",
    "ps=KNN(x_train,y_train, x_test, k)\n",
    "print(ps)\n",
    "print(y_test)"
   ]
  },
  {
   "cell_type": "code",
   "execution_count": null,
   "metadata": {},
   "outputs": [],
   "source": []
  },
  {
   "cell_type": "code",
   "execution_count": null,
   "metadata": {},
   "outputs": [],
   "source": []
  }
 ],
 "metadata": {
  "kernelspec": {
   "display_name": "Python 3",
   "language": "python",
   "name": "python3"
  },
  "language_info": {
   "codemirror_mode": {
    "name": "ipython",
    "version": 3
   },
   "file_extension": ".py",
   "mimetype": "text/x-python",
   "name": "python",
   "nbconvert_exporter": "python",
   "pygments_lexer": "ipython3",
   "version": "3.7.0"
  }
 },
 "nbformat": 4,
 "nbformat_minor": 2
}
