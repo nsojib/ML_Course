{
 "cells": [
  {
   "cell_type": "markdown",
   "metadata": {},
   "source": [
    "## K-Nearest Neighbors"
   ]
  },
  {
   "cell_type": "code",
   "execution_count": 30,
   "metadata": {},
   "outputs": [],
   "source": [
    "import numpy as np\n",
    "from sklearn.model_selection import train_test_split\n",
    "from sklearn import datasets\n",
    "from collections import Counter"
   ]
  },
  {
   "cell_type": "code",
   "execution_count": 31,
   "metadata": {},
   "outputs": [],
   "source": [
    "iris =  datasets.load_iris() \n",
    "X = iris.data\n",
    "y = iris.target"
   ]
  },
  {
   "cell_type": "code",
   "execution_count": 32,
   "metadata": {},
   "outputs": [
    {
     "name": "stdout",
     "output_type": "stream",
     "text": [
      "[[5.1 3.5 1.4 0.2]\n",
      " [4.9 3.  1.4 0.2]\n",
      " [4.7 3.2 1.3 0.2]]\n",
      "[0 0 0 0 0 0 0 0 0 0 0 0 0 0 0 0 0 0 0 0 0 0 0 0 0 0 0 0 0 0 0 0 0 0 0 0 0\n",
      " 0 0 0 0 0 0 0 0 0 0 0 0 0 1 1 1 1 1 1 1 1 1 1 1 1 1 1 1 1 1 1 1 1 1 1 1 1\n",
      " 1 1 1 1 1 1 1 1 1 1 1 1 1 1 1 1 1 1 1 1 1 1 1 1 1 1 2 2 2 2 2 2 2 2 2 2 2\n",
      " 2 2 2 2 2 2 2 2 2 2 2 2 2 2 2 2 2 2 2 2 2 2 2 2 2 2 2 2 2 2 2 2 2 2 2 2 2\n",
      " 2 2]\n"
     ]
    }
   ],
   "source": [
    "print(X[:3])\n",
    "print(y)"
   ]
  },
  {
   "cell_type": "code",
   "execution_count": 33,
   "metadata": {},
   "outputs": [],
   "source": [
    " x_train,x_test,y_train,y_test=train_test_split(X,y,test_size=0.2)"
   ]
  },
  {
   "cell_type": "code",
   "execution_count": 34,
   "metadata": {},
   "outputs": [
    {
     "name": "stdout",
     "output_type": "stream",
     "text": [
      "30\n",
      "[1 2 1]\n"
     ]
    }
   ],
   "source": [
    "print( len(x_test))\n",
    "print(y_test[:3])"
   ]
  },
  {
   "cell_type": "markdown",
   "metadata": {},
   "source": [
    "<img src='imgs/diagram_euclidean_manhattan_distance_metrics.png'>\n",
    "<img src='imgs/euclidean_manhattan.jpg'>"
   ]
  },
  {
   "cell_type": "code",
   "execution_count": 35,
   "metadata": {},
   "outputs": [],
   "source": [
    "def euclidean(x, x2):\n",
    "    sum=0\n",
    "    for ix,ix2 in zip(x,x2):\n",
    "        sum+=(ix-ix2)**2\n",
    "    return np.sqrt(sum)"
   ]
  },
  {
   "cell_type": "code",
   "execution_count": 36,
   "metadata": {},
   "outputs": [],
   "source": [
    "def manhattan(x, x2):\n",
    "    sum=0\n",
    "    for ix,ix2 in zip(x,x2):\n",
    "        sum+=abs(ix-ix2)\n",
    "    return sum"
   ]
  },
  {
   "cell_type": "code",
   "execution_count": 37,
   "metadata": {},
   "outputs": [
    {
     "data": {
      "text/plain": [
       "5.0"
      ]
     },
     "execution_count": 37,
     "metadata": {},
     "output_type": "execute_result"
    }
   ],
   "source": [
    "euclidean([0,0], [3,4])"
   ]
  },
  {
   "cell_type": "code",
   "execution_count": 38,
   "metadata": {},
   "outputs": [
    {
     "data": {
      "text/plain": [
       "7"
      ]
     },
     "execution_count": 38,
     "metadata": {},
     "output_type": "execute_result"
    }
   ],
   "source": [
    "manhattan([0,0], [3,4])"
   ]
  },
  {
   "cell_type": "code",
   "execution_count": 39,
   "metadata": {},
   "outputs": [],
   "source": [
    "# xt=[6.7, 3.3, 5.7, 2.1]\n",
    "xt=[5.1, 3., 4.2, 1.5]"
   ]
  },
  {
   "cell_type": "code",
   "execution_count": 41,
   "metadata": {},
   "outputs": [],
   "source": [
    "dist={}\n",
    "for i, x in enumerate(x_train):\n",
    "    ed=euclidean(x, xt)\n",
    "#     ed=manhattan(x, xt)\n",
    "    dist[i]=ed"
   ]
  },
  {
   "cell_type": "code",
   "execution_count": 42,
   "metadata": {},
   "outputs": [
    {
     "name": "stdout",
     "output_type": "stream",
     "text": [
      "{0: 3.5411862419251547, 1: 3.1937438845342627, 2: 3.0610455730027937, 3: 0.6708203932499374, 4: 1.0148891565092222, 5: 1.8708286933869704, 6: 3.0610455730027937, 7: 3.146426544510455, 8: 1.009950493836208, 9: 1.244989959798873, 10: 3.093541659651604, 11: 1.0816653826391966, 12: 1.3379088160259653, 13: 2.012461179749811, 14: 0.7280109889280523, 15: 0.7000000000000002, 16: 2.947880594596735, 17: 2.9495762407505253, 18: 3.0870698080866266, 19: 2.222611077089287, 20: 1.2409673645990857, 21: 2.4020824298928627, 22: 1.1224972160321829, 23: 2.9086079144497976, 24: 1.8000000000000005, 25: 3.241913015489466, 26: 3.4942810419312296, 27: 2.541653005427767, 28: 3.318132004607412, 29: 3.0397368307141326, 30: 1.349073756323205, 31: 3.057776970284131, 32: 3.1144823004794877, 33: 0.4242640687119289, 34: 0.6403124237432853, 35: 0.6480740698407857, 36: 0.8831760866327848, 37: 3.062678566222711, 38: 2.6720778431774774, 39: 1.322875655532296, 40: 0.6708203932499371, 41: 3.1128764832546763, 42: 1.445683229480096, 43: 0.9165151389911683, 44: 3.5171010790137944, 45: 0.5477225575051662, 46: 1.5684387141358123, 47: 1.8574175621006712, 48: 2.04939015319192, 49: 2.3366642891095846, 50: 0.8660254037844387, 51: 1.319090595827292, 52: 1.774823934929885, 53: 2.1679483388678804, 54: 1.4696938456699071, 55: 1.9773719933285192, 56: 0.8000000000000007, 57: 1.244989959798873, 58: 0.6164414002968975, 59: 3.7603191353926335, 60: 1.57797338380595, 61: 1.8920887928424504, 62: 3.2434549480453714, 63: 1.5165750888103102, 64: 1.174734012447073, 65: 2.8618176042508368, 66: 1.5132745950421556, 67: 0.9539392014169459, 68: 2.7982137159266447, 69: 1.9339079605813716, 70: 3.0495901363953815, 71: 1.2569805089976536, 72: 1.3114877048604, 73: 2.6888659319497505, 74: 2.0904544960366866, 75: 0.44721359549995815, 76: 1.4177446878757827, 77: 3.004995840263344, 78: 3.2710854467592254, 79: 2.7092434368288134, 80: 0.58309518948453, 81: 2.924038303442689, 82: 3.2093613071762426, 83: 1.1269427669584644, 84: 2.3108440016582685, 85: 3.144837038703278, 86: 1.7691806012954128, 87: 3.10322412983658, 88: 1.0583005244258363, 89: 3.167017524422623, 90: 1.8654758106177634, 91: 1.4662878298615178, 92: 1.1224972160321824, 93: 0.6708203932499376, 94: 2.2934689882359436, 95: 0.871779788708135, 96: 2.7892651361962706, 97: 2.0445048300260873, 98: 3.289376840679706, 99: 1.452583904633395, 100: 1.126942766958465, 101: 1.8165902124584952, 102: 2.99833287011299, 103: 3.024896692450835, 104: 2.428991560298224, 105: 3.2603680773802215, 106: 3.083828789021855, 107: 1.24899959967968, 108: 3.0919249667480617, 109: 0.9165151389911682, 110: 3.254228019054596, 111: 1.3228756555322954, 112: 1.4764823060233403, 113: 3.646916505762094, 114: 1.6792855623746672, 115: 3.4899856733230297, 116: 3.235737937472687, 117: 3.023243291566195, 118: 1.6186414056238652, 119: 1.2247448713915892}\n"
     ]
    }
   ],
   "source": [
    "print(dist)"
   ]
  },
  {
   "cell_type": "code",
   "execution_count": 43,
   "metadata": {},
   "outputs": [],
   "source": [
    "sorted_d = sorted(dist.items(), key=lambda kv: kv[1])"
   ]
  },
  {
   "cell_type": "code",
   "execution_count": 44,
   "metadata": {},
   "outputs": [
    {
     "name": "stdout",
     "output_type": "stream",
     "text": [
      "[(33, 0.4242640687119289), (75, 0.44721359549995815), (45, 0.5477225575051662), (80, 0.58309518948453), (58, 0.6164414002968975), (34, 0.6403124237432853), (35, 0.6480740698407857), (40, 0.6708203932499371), (3, 0.6708203932499374), (93, 0.6708203932499376), (15, 0.7000000000000002), (14, 0.7280109889280523), (56, 0.8000000000000007), (50, 0.8660254037844387), (95, 0.871779788708135), (36, 0.8831760866327848), (109, 0.9165151389911682), (43, 0.9165151389911683), (67, 0.9539392014169459), (8, 1.009950493836208), (4, 1.0148891565092222), (88, 1.0583005244258363), (11, 1.0816653826391966), (92, 1.1224972160321824), (22, 1.1224972160321829), (83, 1.1269427669584644), (100, 1.126942766958465), (64, 1.174734012447073), (119, 1.2247448713915892), (20, 1.2409673645990857), (9, 1.244989959798873), (57, 1.244989959798873), (107, 1.24899959967968), (71, 1.2569805089976536), (72, 1.3114877048604), (51, 1.319090595827292), (111, 1.3228756555322954), (39, 1.322875655532296), (12, 1.3379088160259653), (30, 1.349073756323205), (76, 1.4177446878757827), (42, 1.445683229480096), (99, 1.452583904633395), (91, 1.4662878298615178), (54, 1.4696938456699071), (112, 1.4764823060233403), (66, 1.5132745950421556), (63, 1.5165750888103102), (46, 1.5684387141358123), (60, 1.57797338380595), (118, 1.6186414056238652), (114, 1.6792855623746672), (86, 1.7691806012954128), (52, 1.774823934929885), (24, 1.8000000000000005), (101, 1.8165902124584952), (47, 1.8574175621006712), (90, 1.8654758106177634), (5, 1.8708286933869704), (61, 1.8920887928424504), (69, 1.9339079605813716), (55, 1.9773719933285192), (13, 2.012461179749811), (97, 2.0445048300260873), (48, 2.04939015319192), (74, 2.0904544960366866), (53, 2.1679483388678804), (19, 2.222611077089287), (94, 2.2934689882359436), (84, 2.3108440016582685), (49, 2.3366642891095846), (21, 2.4020824298928627), (104, 2.428991560298224), (27, 2.541653005427767), (38, 2.6720778431774774), (73, 2.6888659319497505), (79, 2.7092434368288134), (96, 2.7892651361962706), (68, 2.7982137159266447), (65, 2.8618176042508368), (23, 2.9086079144497976), (81, 2.924038303442689), (16, 2.947880594596735), (17, 2.9495762407505253), (102, 2.99833287011299), (77, 3.004995840263344), (117, 3.023243291566195), (103, 3.024896692450835), (29, 3.0397368307141326), (70, 3.0495901363953815), (31, 3.057776970284131), (2, 3.0610455730027937), (6, 3.0610455730027937), (37, 3.062678566222711), (106, 3.083828789021855), (18, 3.0870698080866266), (108, 3.0919249667480617), (10, 3.093541659651604), (87, 3.10322412983658), (41, 3.1128764832546763), (32, 3.1144823004794877), (85, 3.144837038703278), (7, 3.146426544510455), (89, 3.167017524422623), (1, 3.1937438845342627), (82, 3.2093613071762426), (116, 3.235737937472687), (25, 3.241913015489466), (62, 3.2434549480453714), (110, 3.254228019054596), (105, 3.2603680773802215), (78, 3.2710854467592254), (98, 3.289376840679706), (28, 3.318132004607412), (115, 3.4899856733230297), (26, 3.4942810419312296), (44, 3.5171010790137944), (0, 3.5411862419251547), (113, 3.646916505762094), (59, 3.7603191353926335)]\n"
     ]
    }
   ],
   "source": [
    "print(sorted_d)"
   ]
  },
  {
   "cell_type": "code",
   "execution_count": 50,
   "metadata": {},
   "outputs": [
    {
     "name": "stdout",
     "output_type": "stream",
     "text": [
      "[33]\n"
     ]
    }
   ],
   "source": [
    "k=1\n",
    "neighbors=[]\n",
    "for i in range(k):\n",
    "    neighbors.append(sorted_d[i][0])\n",
    "print(neighbors)"
   ]
  },
  {
   "cell_type": "code",
   "execution_count": 51,
   "metadata": {},
   "outputs": [
    {
     "name": "stdout",
     "output_type": "stream",
     "text": [
      "[1]\n"
     ]
    }
   ],
   "source": [
    "classes=[ y_train[i] for i in neighbors]\n",
    "print(classes)"
   ]
  },
  {
   "cell_type": "code",
   "execution_count": 52,
   "metadata": {},
   "outputs": [
    {
     "name": "stdout",
     "output_type": "stream",
     "text": [
      "Counter({1: 1})\n",
      "keys= [1]\n",
      "values= [1]\n",
      "index of max value= 0\n",
      "predict class= 1\n"
     ]
    }
   ],
   "source": [
    "count=Counter(classes)\n",
    "print(count)\n",
    "keys= list( count.keys() )\n",
    "print('keys=', keys)\n",
    "values=list( count.values() )\n",
    "print('values=',values)\n",
    "\n",
    "index_of_max_values=values.index(max(values)) \n",
    "print('index of max value=', index_of_max_values)\n",
    "y_hat=keys[index_of_max_values]\n",
    "print('predict class=',y_hat)"
   ]
  },
  {
   "cell_type": "code",
   "execution_count": 53,
   "metadata": {},
   "outputs": [],
   "source": [
    "def predict(X,y, xt, k):\n",
    "    #Step_1: calculate distance from all the training instances, track position and distance.\n",
    "    dist={}\n",
    "    for i, x in enumerate(x_train):\n",
    "    #     ed=euclidean(x, xt)\n",
    "        ed=manhattan(x, xt)\n",
    "        dist[i]=ed\n",
    "        \n",
    "    #step_2: sort the dictionary\n",
    "    sorted_d = sorted(dist.items(), key=lambda kv: kv[1])\n",
    "    \n",
    "    #step_3: choose first k items. we call them neighbors.\n",
    "    neighbors=[sorted_d[i][0] for i in range(k)]\n",
    "    \n",
    "    #step_4: get the labels of the neighbors.\n",
    "    classes=[ y[i] for i in neighbors]\n",
    "    \n",
    "    #step_5: find which class appeared maximum time among the k neighbors.\n",
    "    count=Counter(classes) \n",
    "    keys= list( count.keys() ) \n",
    "    values=list( count.values() ) \n",
    "\n",
    "    index_of_max_values=values.index(max(values)) \n",
    "    y_hat=keys[index_of_max_values]\n",
    "    return y_hat"
   ]
  },
  {
   "cell_type": "code",
   "execution_count": 54,
   "metadata": {},
   "outputs": [
    {
     "data": {
      "text/plain": [
       "1"
      ]
     },
     "execution_count": 54,
     "metadata": {},
     "output_type": "execute_result"
    }
   ],
   "source": [
    "predict(x_train,y_train, xt, 3)"
   ]
  },
  {
   "cell_type": "code",
   "execution_count": 55,
   "metadata": {},
   "outputs": [],
   "source": [
    "def KNN(x_train, y_train,  x_test, k):\n",
    "    ps=[predict(x_train,y_train, xt, k) for xt in x_test] \n",
    "    return np.array(ps)   "
   ]
  },
  {
   "cell_type": "code",
   "execution_count": 56,
   "metadata": {},
   "outputs": [
    {
     "name": "stdout",
     "output_type": "stream",
     "text": [
      "[1 2 1 0 1 2 1 0 0 2 2 2 2 0 1 0 0 2 2 2 1 0 0 2 2 0 0 0 2 1]\n",
      "[1 2 1 0 1 2 1 0 0 2 2 2 2 0 1 0 0 2 2 2 1 0 0 1 2 0 0 0 2 1]\n"
     ]
    }
   ],
   "source": [
    "k=5\n",
    "ps=KNN(x_train,y_train, x_test, k)\n",
    "print(ps)\n",
    "print(y_test)"
   ]
  },
  {
   "cell_type": "code",
   "execution_count": null,
   "metadata": {},
   "outputs": [],
   "source": []
  },
  {
   "cell_type": "code",
   "execution_count": null,
   "metadata": {},
   "outputs": [],
   "source": []
  }
 ],
 "metadata": {
  "kernelspec": {
   "display_name": "Python 3",
   "language": "python",
   "name": "python3"
  },
  "language_info": {
   "codemirror_mode": {
    "name": "ipython",
    "version": 3
   },
   "file_extension": ".py",
   "mimetype": "text/x-python",
   "name": "python",
   "nbconvert_exporter": "python",
   "pygments_lexer": "ipython3",
   "version": "3.7.0"
  }
 },
 "nbformat": 4,
 "nbformat_minor": 2
}
